{
  "nbformat": 4,
  "nbformat_minor": 0,
  "metadata": {
    "colab": {
      "provenance": [],
      "collapsed_sections": [
        "P5ni_J7Dn31Y",
        "22KeI5GBxsKC",
        "yv3EICoYOhZX"
      ],
      "include_colab_link": true
    },
    "kernelspec": {
      "name": "python3",
      "display_name": "Python 3"
    },
    "language_info": {
      "name": "python"
    },
    "gpuClass": "standard",
    "widgets": {
      "application/vnd.jupyter.widget-state+json": {
        "bf9a74f5276846a7abf363361e6d203b": {
          "model_module": "@jupyter-widgets/controls",
          "model_name": "HBoxModel",
          "model_module_version": "1.5.0",
          "state": {
            "_dom_classes": [],
            "_model_module": "@jupyter-widgets/controls",
            "_model_module_version": "1.5.0",
            "_model_name": "HBoxModel",
            "_view_count": null,
            "_view_module": "@jupyter-widgets/controls",
            "_view_module_version": "1.5.0",
            "_view_name": "HBoxView",
            "box_style": "",
            "children": [
              "IPY_MODEL_4aa67deea62e4c9eaaeecea6a6357d03",
              "IPY_MODEL_14f147f5f2ed42be940b6a4dbd2a603a",
              "IPY_MODEL_dc0ffdde73ca4d8a8d18c28f819794c5"
            ],
            "layout": "IPY_MODEL_80224edae56c46a9841b2219d235d210"
          }
        },
        "4aa67deea62e4c9eaaeecea6a6357d03": {
          "model_module": "@jupyter-widgets/controls",
          "model_name": "HTMLModel",
          "model_module_version": "1.5.0",
          "state": {
            "_dom_classes": [],
            "_model_module": "@jupyter-widgets/controls",
            "_model_module_version": "1.5.0",
            "_model_name": "HTMLModel",
            "_view_count": null,
            "_view_module": "@jupyter-widgets/controls",
            "_view_module_version": "1.5.0",
            "_view_name": "HTMLView",
            "description": "",
            "description_tooltip": null,
            "layout": "IPY_MODEL_075361a80977491b8f807ae9447627d7",
            "placeholder": "​",
            "style": "IPY_MODEL_ef32914ac8584067a78eeef4b86e7691",
            "value": "Downloading: 100%"
          }
        },
        "14f147f5f2ed42be940b6a4dbd2a603a": {
          "model_module": "@jupyter-widgets/controls",
          "model_name": "FloatProgressModel",
          "model_module_version": "1.5.0",
          "state": {
            "_dom_classes": [],
            "_model_module": "@jupyter-widgets/controls",
            "_model_module_version": "1.5.0",
            "_model_name": "FloatProgressModel",
            "_view_count": null,
            "_view_module": "@jupyter-widgets/controls",
            "_view_module_version": "1.5.0",
            "_view_name": "ProgressView",
            "bar_style": "success",
            "description": "",
            "description_tooltip": null,
            "layout": "IPY_MODEL_9c356ce1731244958651d5075986f34b",
            "max": 231508,
            "min": 0,
            "orientation": "horizontal",
            "style": "IPY_MODEL_c8fa266e5cfd42f4b93a3e4b6cb33f8a",
            "value": 231508
          }
        },
        "dc0ffdde73ca4d8a8d18c28f819794c5": {
          "model_module": "@jupyter-widgets/controls",
          "model_name": "HTMLModel",
          "model_module_version": "1.5.0",
          "state": {
            "_dom_classes": [],
            "_model_module": "@jupyter-widgets/controls",
            "_model_module_version": "1.5.0",
            "_model_name": "HTMLModel",
            "_view_count": null,
            "_view_module": "@jupyter-widgets/controls",
            "_view_module_version": "1.5.0",
            "_view_name": "HTMLView",
            "description": "",
            "description_tooltip": null,
            "layout": "IPY_MODEL_53b9cbe6ee4d462f943851d0d159a7a6",
            "placeholder": "​",
            "style": "IPY_MODEL_446cf64f2afc437bbbdd504e01ea6674",
            "value": " 232k/232k [00:00&lt;00:00, 582kB/s]"
          }
        },
        "80224edae56c46a9841b2219d235d210": {
          "model_module": "@jupyter-widgets/base",
          "model_name": "LayoutModel",
          "model_module_version": "1.2.0",
          "state": {
            "_model_module": "@jupyter-widgets/base",
            "_model_module_version": "1.2.0",
            "_model_name": "LayoutModel",
            "_view_count": null,
            "_view_module": "@jupyter-widgets/base",
            "_view_module_version": "1.2.0",
            "_view_name": "LayoutView",
            "align_content": null,
            "align_items": null,
            "align_self": null,
            "border": null,
            "bottom": null,
            "display": null,
            "flex": null,
            "flex_flow": null,
            "grid_area": null,
            "grid_auto_columns": null,
            "grid_auto_flow": null,
            "grid_auto_rows": null,
            "grid_column": null,
            "grid_gap": null,
            "grid_row": null,
            "grid_template_areas": null,
            "grid_template_columns": null,
            "grid_template_rows": null,
            "height": null,
            "justify_content": null,
            "justify_items": null,
            "left": null,
            "margin": null,
            "max_height": null,
            "max_width": null,
            "min_height": null,
            "min_width": null,
            "object_fit": null,
            "object_position": null,
            "order": null,
            "overflow": null,
            "overflow_x": null,
            "overflow_y": null,
            "padding": null,
            "right": null,
            "top": null,
            "visibility": null,
            "width": null
          }
        },
        "075361a80977491b8f807ae9447627d7": {
          "model_module": "@jupyter-widgets/base",
          "model_name": "LayoutModel",
          "model_module_version": "1.2.0",
          "state": {
            "_model_module": "@jupyter-widgets/base",
            "_model_module_version": "1.2.0",
            "_model_name": "LayoutModel",
            "_view_count": null,
            "_view_module": "@jupyter-widgets/base",
            "_view_module_version": "1.2.0",
            "_view_name": "LayoutView",
            "align_content": null,
            "align_items": null,
            "align_self": null,
            "border": null,
            "bottom": null,
            "display": null,
            "flex": null,
            "flex_flow": null,
            "grid_area": null,
            "grid_auto_columns": null,
            "grid_auto_flow": null,
            "grid_auto_rows": null,
            "grid_column": null,
            "grid_gap": null,
            "grid_row": null,
            "grid_template_areas": null,
            "grid_template_columns": null,
            "grid_template_rows": null,
            "height": null,
            "justify_content": null,
            "justify_items": null,
            "left": null,
            "margin": null,
            "max_height": null,
            "max_width": null,
            "min_height": null,
            "min_width": null,
            "object_fit": null,
            "object_position": null,
            "order": null,
            "overflow": null,
            "overflow_x": null,
            "overflow_y": null,
            "padding": null,
            "right": null,
            "top": null,
            "visibility": null,
            "width": null
          }
        },
        "ef32914ac8584067a78eeef4b86e7691": {
          "model_module": "@jupyter-widgets/controls",
          "model_name": "DescriptionStyleModel",
          "model_module_version": "1.5.0",
          "state": {
            "_model_module": "@jupyter-widgets/controls",
            "_model_module_version": "1.5.0",
            "_model_name": "DescriptionStyleModel",
            "_view_count": null,
            "_view_module": "@jupyter-widgets/base",
            "_view_module_version": "1.2.0",
            "_view_name": "StyleView",
            "description_width": ""
          }
        },
        "9c356ce1731244958651d5075986f34b": {
          "model_module": "@jupyter-widgets/base",
          "model_name": "LayoutModel",
          "model_module_version": "1.2.0",
          "state": {
            "_model_module": "@jupyter-widgets/base",
            "_model_module_version": "1.2.0",
            "_model_name": "LayoutModel",
            "_view_count": null,
            "_view_module": "@jupyter-widgets/base",
            "_view_module_version": "1.2.0",
            "_view_name": "LayoutView",
            "align_content": null,
            "align_items": null,
            "align_self": null,
            "border": null,
            "bottom": null,
            "display": null,
            "flex": null,
            "flex_flow": null,
            "grid_area": null,
            "grid_auto_columns": null,
            "grid_auto_flow": null,
            "grid_auto_rows": null,
            "grid_column": null,
            "grid_gap": null,
            "grid_row": null,
            "grid_template_areas": null,
            "grid_template_columns": null,
            "grid_template_rows": null,
            "height": null,
            "justify_content": null,
            "justify_items": null,
            "left": null,
            "margin": null,
            "max_height": null,
            "max_width": null,
            "min_height": null,
            "min_width": null,
            "object_fit": null,
            "object_position": null,
            "order": null,
            "overflow": null,
            "overflow_x": null,
            "overflow_y": null,
            "padding": null,
            "right": null,
            "top": null,
            "visibility": null,
            "width": null
          }
        },
        "c8fa266e5cfd42f4b93a3e4b6cb33f8a": {
          "model_module": "@jupyter-widgets/controls",
          "model_name": "ProgressStyleModel",
          "model_module_version": "1.5.0",
          "state": {
            "_model_module": "@jupyter-widgets/controls",
            "_model_module_version": "1.5.0",
            "_model_name": "ProgressStyleModel",
            "_view_count": null,
            "_view_module": "@jupyter-widgets/base",
            "_view_module_version": "1.2.0",
            "_view_name": "StyleView",
            "bar_color": null,
            "description_width": ""
          }
        },
        "53b9cbe6ee4d462f943851d0d159a7a6": {
          "model_module": "@jupyter-widgets/base",
          "model_name": "LayoutModel",
          "model_module_version": "1.2.0",
          "state": {
            "_model_module": "@jupyter-widgets/base",
            "_model_module_version": "1.2.0",
            "_model_name": "LayoutModel",
            "_view_count": null,
            "_view_module": "@jupyter-widgets/base",
            "_view_module_version": "1.2.0",
            "_view_name": "LayoutView",
            "align_content": null,
            "align_items": null,
            "align_self": null,
            "border": null,
            "bottom": null,
            "display": null,
            "flex": null,
            "flex_flow": null,
            "grid_area": null,
            "grid_auto_columns": null,
            "grid_auto_flow": null,
            "grid_auto_rows": null,
            "grid_column": null,
            "grid_gap": null,
            "grid_row": null,
            "grid_template_areas": null,
            "grid_template_columns": null,
            "grid_template_rows": null,
            "height": null,
            "justify_content": null,
            "justify_items": null,
            "left": null,
            "margin": null,
            "max_height": null,
            "max_width": null,
            "min_height": null,
            "min_width": null,
            "object_fit": null,
            "object_position": null,
            "order": null,
            "overflow": null,
            "overflow_x": null,
            "overflow_y": null,
            "padding": null,
            "right": null,
            "top": null,
            "visibility": null,
            "width": null
          }
        },
        "446cf64f2afc437bbbdd504e01ea6674": {
          "model_module": "@jupyter-widgets/controls",
          "model_name": "DescriptionStyleModel",
          "model_module_version": "1.5.0",
          "state": {
            "_model_module": "@jupyter-widgets/controls",
            "_model_module_version": "1.5.0",
            "_model_name": "DescriptionStyleModel",
            "_view_count": null,
            "_view_module": "@jupyter-widgets/base",
            "_view_module_version": "1.2.0",
            "_view_name": "StyleView",
            "description_width": ""
          }
        },
        "db764a36ba894b8b8068575f0c2ddda4": {
          "model_module": "@jupyter-widgets/controls",
          "model_name": "HBoxModel",
          "model_module_version": "1.5.0",
          "state": {
            "_dom_classes": [],
            "_model_module": "@jupyter-widgets/controls",
            "_model_module_version": "1.5.0",
            "_model_name": "HBoxModel",
            "_view_count": null,
            "_view_module": "@jupyter-widgets/controls",
            "_view_module_version": "1.5.0",
            "_view_name": "HBoxView",
            "box_style": "",
            "children": [
              "IPY_MODEL_9b3c215d03ae4de197b7cb9300529f62",
              "IPY_MODEL_6080611b03d045f899fbd3476d756769",
              "IPY_MODEL_d3251272349d4d8aa99c3c3fb1dc6e07"
            ],
            "layout": "IPY_MODEL_b68f01ca1e674bbe8926a99be118c480"
          }
        },
        "9b3c215d03ae4de197b7cb9300529f62": {
          "model_module": "@jupyter-widgets/controls",
          "model_name": "HTMLModel",
          "model_module_version": "1.5.0",
          "state": {
            "_dom_classes": [],
            "_model_module": "@jupyter-widgets/controls",
            "_model_module_version": "1.5.0",
            "_model_name": "HTMLModel",
            "_view_count": null,
            "_view_module": "@jupyter-widgets/controls",
            "_view_module_version": "1.5.0",
            "_view_name": "HTMLView",
            "description": "",
            "description_tooltip": null,
            "layout": "IPY_MODEL_61e010d6a7cc4f1fb984dfc71220f418",
            "placeholder": "​",
            "style": "IPY_MODEL_2109e0cea36a4f8cbd739ac4477e2a6d",
            "value": "Downloading: 100%"
          }
        },
        "6080611b03d045f899fbd3476d756769": {
          "model_module": "@jupyter-widgets/controls",
          "model_name": "FloatProgressModel",
          "model_module_version": "1.5.0",
          "state": {
            "_dom_classes": [],
            "_model_module": "@jupyter-widgets/controls",
            "_model_module_version": "1.5.0",
            "_model_name": "FloatProgressModel",
            "_view_count": null,
            "_view_module": "@jupyter-widgets/controls",
            "_view_module_version": "1.5.0",
            "_view_name": "ProgressView",
            "bar_style": "success",
            "description": "",
            "description_tooltip": null,
            "layout": "IPY_MODEL_d9eb276cb9a14beeb5600f95fd46d27c",
            "max": 28,
            "min": 0,
            "orientation": "horizontal",
            "style": "IPY_MODEL_2a44c5e908d242efaf351657521f28a4",
            "value": 28
          }
        },
        "d3251272349d4d8aa99c3c3fb1dc6e07": {
          "model_module": "@jupyter-widgets/controls",
          "model_name": "HTMLModel",
          "model_module_version": "1.5.0",
          "state": {
            "_dom_classes": [],
            "_model_module": "@jupyter-widgets/controls",
            "_model_module_version": "1.5.0",
            "_model_name": "HTMLModel",
            "_view_count": null,
            "_view_module": "@jupyter-widgets/controls",
            "_view_module_version": "1.5.0",
            "_view_name": "HTMLView",
            "description": "",
            "description_tooltip": null,
            "layout": "IPY_MODEL_5cc04662d9534399932983f7853be833",
            "placeholder": "​",
            "style": "IPY_MODEL_ea0c16dcb36440d5a65420244d7c904f",
            "value": " 28.0/28.0 [00:00&lt;00:00, 960B/s]"
          }
        },
        "b68f01ca1e674bbe8926a99be118c480": {
          "model_module": "@jupyter-widgets/base",
          "model_name": "LayoutModel",
          "model_module_version": "1.2.0",
          "state": {
            "_model_module": "@jupyter-widgets/base",
            "_model_module_version": "1.2.0",
            "_model_name": "LayoutModel",
            "_view_count": null,
            "_view_module": "@jupyter-widgets/base",
            "_view_module_version": "1.2.0",
            "_view_name": "LayoutView",
            "align_content": null,
            "align_items": null,
            "align_self": null,
            "border": null,
            "bottom": null,
            "display": null,
            "flex": null,
            "flex_flow": null,
            "grid_area": null,
            "grid_auto_columns": null,
            "grid_auto_flow": null,
            "grid_auto_rows": null,
            "grid_column": null,
            "grid_gap": null,
            "grid_row": null,
            "grid_template_areas": null,
            "grid_template_columns": null,
            "grid_template_rows": null,
            "height": null,
            "justify_content": null,
            "justify_items": null,
            "left": null,
            "margin": null,
            "max_height": null,
            "max_width": null,
            "min_height": null,
            "min_width": null,
            "object_fit": null,
            "object_position": null,
            "order": null,
            "overflow": null,
            "overflow_x": null,
            "overflow_y": null,
            "padding": null,
            "right": null,
            "top": null,
            "visibility": null,
            "width": null
          }
        },
        "61e010d6a7cc4f1fb984dfc71220f418": {
          "model_module": "@jupyter-widgets/base",
          "model_name": "LayoutModel",
          "model_module_version": "1.2.0",
          "state": {
            "_model_module": "@jupyter-widgets/base",
            "_model_module_version": "1.2.0",
            "_model_name": "LayoutModel",
            "_view_count": null,
            "_view_module": "@jupyter-widgets/base",
            "_view_module_version": "1.2.0",
            "_view_name": "LayoutView",
            "align_content": null,
            "align_items": null,
            "align_self": null,
            "border": null,
            "bottom": null,
            "display": null,
            "flex": null,
            "flex_flow": null,
            "grid_area": null,
            "grid_auto_columns": null,
            "grid_auto_flow": null,
            "grid_auto_rows": null,
            "grid_column": null,
            "grid_gap": null,
            "grid_row": null,
            "grid_template_areas": null,
            "grid_template_columns": null,
            "grid_template_rows": null,
            "height": null,
            "justify_content": null,
            "justify_items": null,
            "left": null,
            "margin": null,
            "max_height": null,
            "max_width": null,
            "min_height": null,
            "min_width": null,
            "object_fit": null,
            "object_position": null,
            "order": null,
            "overflow": null,
            "overflow_x": null,
            "overflow_y": null,
            "padding": null,
            "right": null,
            "top": null,
            "visibility": null,
            "width": null
          }
        },
        "2109e0cea36a4f8cbd739ac4477e2a6d": {
          "model_module": "@jupyter-widgets/controls",
          "model_name": "DescriptionStyleModel",
          "model_module_version": "1.5.0",
          "state": {
            "_model_module": "@jupyter-widgets/controls",
            "_model_module_version": "1.5.0",
            "_model_name": "DescriptionStyleModel",
            "_view_count": null,
            "_view_module": "@jupyter-widgets/base",
            "_view_module_version": "1.2.0",
            "_view_name": "StyleView",
            "description_width": ""
          }
        },
        "d9eb276cb9a14beeb5600f95fd46d27c": {
          "model_module": "@jupyter-widgets/base",
          "model_name": "LayoutModel",
          "model_module_version": "1.2.0",
          "state": {
            "_model_module": "@jupyter-widgets/base",
            "_model_module_version": "1.2.0",
            "_model_name": "LayoutModel",
            "_view_count": null,
            "_view_module": "@jupyter-widgets/base",
            "_view_module_version": "1.2.0",
            "_view_name": "LayoutView",
            "align_content": null,
            "align_items": null,
            "align_self": null,
            "border": null,
            "bottom": null,
            "display": null,
            "flex": null,
            "flex_flow": null,
            "grid_area": null,
            "grid_auto_columns": null,
            "grid_auto_flow": null,
            "grid_auto_rows": null,
            "grid_column": null,
            "grid_gap": null,
            "grid_row": null,
            "grid_template_areas": null,
            "grid_template_columns": null,
            "grid_template_rows": null,
            "height": null,
            "justify_content": null,
            "justify_items": null,
            "left": null,
            "margin": null,
            "max_height": null,
            "max_width": null,
            "min_height": null,
            "min_width": null,
            "object_fit": null,
            "object_position": null,
            "order": null,
            "overflow": null,
            "overflow_x": null,
            "overflow_y": null,
            "padding": null,
            "right": null,
            "top": null,
            "visibility": null,
            "width": null
          }
        },
        "2a44c5e908d242efaf351657521f28a4": {
          "model_module": "@jupyter-widgets/controls",
          "model_name": "ProgressStyleModel",
          "model_module_version": "1.5.0",
          "state": {
            "_model_module": "@jupyter-widgets/controls",
            "_model_module_version": "1.5.0",
            "_model_name": "ProgressStyleModel",
            "_view_count": null,
            "_view_module": "@jupyter-widgets/base",
            "_view_module_version": "1.2.0",
            "_view_name": "StyleView",
            "bar_color": null,
            "description_width": ""
          }
        },
        "5cc04662d9534399932983f7853be833": {
          "model_module": "@jupyter-widgets/base",
          "model_name": "LayoutModel",
          "model_module_version": "1.2.0",
          "state": {
            "_model_module": "@jupyter-widgets/base",
            "_model_module_version": "1.2.0",
            "_model_name": "LayoutModel",
            "_view_count": null,
            "_view_module": "@jupyter-widgets/base",
            "_view_module_version": "1.2.0",
            "_view_name": "LayoutView",
            "align_content": null,
            "align_items": null,
            "align_self": null,
            "border": null,
            "bottom": null,
            "display": null,
            "flex": null,
            "flex_flow": null,
            "grid_area": null,
            "grid_auto_columns": null,
            "grid_auto_flow": null,
            "grid_auto_rows": null,
            "grid_column": null,
            "grid_gap": null,
            "grid_row": null,
            "grid_template_areas": null,
            "grid_template_columns": null,
            "grid_template_rows": null,
            "height": null,
            "justify_content": null,
            "justify_items": null,
            "left": null,
            "margin": null,
            "max_height": null,
            "max_width": null,
            "min_height": null,
            "min_width": null,
            "object_fit": null,
            "object_position": null,
            "order": null,
            "overflow": null,
            "overflow_x": null,
            "overflow_y": null,
            "padding": null,
            "right": null,
            "top": null,
            "visibility": null,
            "width": null
          }
        },
        "ea0c16dcb36440d5a65420244d7c904f": {
          "model_module": "@jupyter-widgets/controls",
          "model_name": "DescriptionStyleModel",
          "model_module_version": "1.5.0",
          "state": {
            "_model_module": "@jupyter-widgets/controls",
            "_model_module_version": "1.5.0",
            "_model_name": "DescriptionStyleModel",
            "_view_count": null,
            "_view_module": "@jupyter-widgets/base",
            "_view_module_version": "1.2.0",
            "_view_name": "StyleView",
            "description_width": ""
          }
        },
        "606a600db84949f696caabe1024bd067": {
          "model_module": "@jupyter-widgets/controls",
          "model_name": "HBoxModel",
          "model_module_version": "1.5.0",
          "state": {
            "_dom_classes": [],
            "_model_module": "@jupyter-widgets/controls",
            "_model_module_version": "1.5.0",
            "_model_name": "HBoxModel",
            "_view_count": null,
            "_view_module": "@jupyter-widgets/controls",
            "_view_module_version": "1.5.0",
            "_view_name": "HBoxView",
            "box_style": "",
            "children": [
              "IPY_MODEL_56f3af716d8a4069a08d8f9cbe7607f7",
              "IPY_MODEL_7dfc27d2bddb4d23801c47d2f53dcc1c",
              "IPY_MODEL_fb250ad14daf4063a58e1685cabf4e3c"
            ],
            "layout": "IPY_MODEL_b3f8914999fe4d798b017c8d00009b7b"
          }
        },
        "56f3af716d8a4069a08d8f9cbe7607f7": {
          "model_module": "@jupyter-widgets/controls",
          "model_name": "HTMLModel",
          "model_module_version": "1.5.0",
          "state": {
            "_dom_classes": [],
            "_model_module": "@jupyter-widgets/controls",
            "_model_module_version": "1.5.0",
            "_model_name": "HTMLModel",
            "_view_count": null,
            "_view_module": "@jupyter-widgets/controls",
            "_view_module_version": "1.5.0",
            "_view_name": "HTMLView",
            "description": "",
            "description_tooltip": null,
            "layout": "IPY_MODEL_29a26f8b586f408ca43ab4caa63468c0",
            "placeholder": "​",
            "style": "IPY_MODEL_23af975df21540c0a8d7be516ff4f7b8",
            "value": "Downloading: 100%"
          }
        },
        "7dfc27d2bddb4d23801c47d2f53dcc1c": {
          "model_module": "@jupyter-widgets/controls",
          "model_name": "FloatProgressModel",
          "model_module_version": "1.5.0",
          "state": {
            "_dom_classes": [],
            "_model_module": "@jupyter-widgets/controls",
            "_model_module_version": "1.5.0",
            "_model_name": "FloatProgressModel",
            "_view_count": null,
            "_view_module": "@jupyter-widgets/controls",
            "_view_module_version": "1.5.0",
            "_view_name": "ProgressView",
            "bar_style": "success",
            "description": "",
            "description_tooltip": null,
            "layout": "IPY_MODEL_273bcb44f522495e9e65952b1d43c52f",
            "max": 570,
            "min": 0,
            "orientation": "horizontal",
            "style": "IPY_MODEL_73b62d10526d4bfc82ebe7391257e9cd",
            "value": 570
          }
        },
        "fb250ad14daf4063a58e1685cabf4e3c": {
          "model_module": "@jupyter-widgets/controls",
          "model_name": "HTMLModel",
          "model_module_version": "1.5.0",
          "state": {
            "_dom_classes": [],
            "_model_module": "@jupyter-widgets/controls",
            "_model_module_version": "1.5.0",
            "_model_name": "HTMLModel",
            "_view_count": null,
            "_view_module": "@jupyter-widgets/controls",
            "_view_module_version": "1.5.0",
            "_view_name": "HTMLView",
            "description": "",
            "description_tooltip": null,
            "layout": "IPY_MODEL_211cfb642bf244bdbba7ad221daa06e0",
            "placeholder": "​",
            "style": "IPY_MODEL_dde5b22639454908bc03f6b288a62e2f",
            "value": " 570/570 [00:00&lt;00:00, 21.2kB/s]"
          }
        },
        "b3f8914999fe4d798b017c8d00009b7b": {
          "model_module": "@jupyter-widgets/base",
          "model_name": "LayoutModel",
          "model_module_version": "1.2.0",
          "state": {
            "_model_module": "@jupyter-widgets/base",
            "_model_module_version": "1.2.0",
            "_model_name": "LayoutModel",
            "_view_count": null,
            "_view_module": "@jupyter-widgets/base",
            "_view_module_version": "1.2.0",
            "_view_name": "LayoutView",
            "align_content": null,
            "align_items": null,
            "align_self": null,
            "border": null,
            "bottom": null,
            "display": null,
            "flex": null,
            "flex_flow": null,
            "grid_area": null,
            "grid_auto_columns": null,
            "grid_auto_flow": null,
            "grid_auto_rows": null,
            "grid_column": null,
            "grid_gap": null,
            "grid_row": null,
            "grid_template_areas": null,
            "grid_template_columns": null,
            "grid_template_rows": null,
            "height": null,
            "justify_content": null,
            "justify_items": null,
            "left": null,
            "margin": null,
            "max_height": null,
            "max_width": null,
            "min_height": null,
            "min_width": null,
            "object_fit": null,
            "object_position": null,
            "order": null,
            "overflow": null,
            "overflow_x": null,
            "overflow_y": null,
            "padding": null,
            "right": null,
            "top": null,
            "visibility": null,
            "width": null
          }
        },
        "29a26f8b586f408ca43ab4caa63468c0": {
          "model_module": "@jupyter-widgets/base",
          "model_name": "LayoutModel",
          "model_module_version": "1.2.0",
          "state": {
            "_model_module": "@jupyter-widgets/base",
            "_model_module_version": "1.2.0",
            "_model_name": "LayoutModel",
            "_view_count": null,
            "_view_module": "@jupyter-widgets/base",
            "_view_module_version": "1.2.0",
            "_view_name": "LayoutView",
            "align_content": null,
            "align_items": null,
            "align_self": null,
            "border": null,
            "bottom": null,
            "display": null,
            "flex": null,
            "flex_flow": null,
            "grid_area": null,
            "grid_auto_columns": null,
            "grid_auto_flow": null,
            "grid_auto_rows": null,
            "grid_column": null,
            "grid_gap": null,
            "grid_row": null,
            "grid_template_areas": null,
            "grid_template_columns": null,
            "grid_template_rows": null,
            "height": null,
            "justify_content": null,
            "justify_items": null,
            "left": null,
            "margin": null,
            "max_height": null,
            "max_width": null,
            "min_height": null,
            "min_width": null,
            "object_fit": null,
            "object_position": null,
            "order": null,
            "overflow": null,
            "overflow_x": null,
            "overflow_y": null,
            "padding": null,
            "right": null,
            "top": null,
            "visibility": null,
            "width": null
          }
        },
        "23af975df21540c0a8d7be516ff4f7b8": {
          "model_module": "@jupyter-widgets/controls",
          "model_name": "DescriptionStyleModel",
          "model_module_version": "1.5.0",
          "state": {
            "_model_module": "@jupyter-widgets/controls",
            "_model_module_version": "1.5.0",
            "_model_name": "DescriptionStyleModel",
            "_view_count": null,
            "_view_module": "@jupyter-widgets/base",
            "_view_module_version": "1.2.0",
            "_view_name": "StyleView",
            "description_width": ""
          }
        },
        "273bcb44f522495e9e65952b1d43c52f": {
          "model_module": "@jupyter-widgets/base",
          "model_name": "LayoutModel",
          "model_module_version": "1.2.0",
          "state": {
            "_model_module": "@jupyter-widgets/base",
            "_model_module_version": "1.2.0",
            "_model_name": "LayoutModel",
            "_view_count": null,
            "_view_module": "@jupyter-widgets/base",
            "_view_module_version": "1.2.0",
            "_view_name": "LayoutView",
            "align_content": null,
            "align_items": null,
            "align_self": null,
            "border": null,
            "bottom": null,
            "display": null,
            "flex": null,
            "flex_flow": null,
            "grid_area": null,
            "grid_auto_columns": null,
            "grid_auto_flow": null,
            "grid_auto_rows": null,
            "grid_column": null,
            "grid_gap": null,
            "grid_row": null,
            "grid_template_areas": null,
            "grid_template_columns": null,
            "grid_template_rows": null,
            "height": null,
            "justify_content": null,
            "justify_items": null,
            "left": null,
            "margin": null,
            "max_height": null,
            "max_width": null,
            "min_height": null,
            "min_width": null,
            "object_fit": null,
            "object_position": null,
            "order": null,
            "overflow": null,
            "overflow_x": null,
            "overflow_y": null,
            "padding": null,
            "right": null,
            "top": null,
            "visibility": null,
            "width": null
          }
        },
        "73b62d10526d4bfc82ebe7391257e9cd": {
          "model_module": "@jupyter-widgets/controls",
          "model_name": "ProgressStyleModel",
          "model_module_version": "1.5.0",
          "state": {
            "_model_module": "@jupyter-widgets/controls",
            "_model_module_version": "1.5.0",
            "_model_name": "ProgressStyleModel",
            "_view_count": null,
            "_view_module": "@jupyter-widgets/base",
            "_view_module_version": "1.2.0",
            "_view_name": "StyleView",
            "bar_color": null,
            "description_width": ""
          }
        },
        "211cfb642bf244bdbba7ad221daa06e0": {
          "model_module": "@jupyter-widgets/base",
          "model_name": "LayoutModel",
          "model_module_version": "1.2.0",
          "state": {
            "_model_module": "@jupyter-widgets/base",
            "_model_module_version": "1.2.0",
            "_model_name": "LayoutModel",
            "_view_count": null,
            "_view_module": "@jupyter-widgets/base",
            "_view_module_version": "1.2.0",
            "_view_name": "LayoutView",
            "align_content": null,
            "align_items": null,
            "align_self": null,
            "border": null,
            "bottom": null,
            "display": null,
            "flex": null,
            "flex_flow": null,
            "grid_area": null,
            "grid_auto_columns": null,
            "grid_auto_flow": null,
            "grid_auto_rows": null,
            "grid_column": null,
            "grid_gap": null,
            "grid_row": null,
            "grid_template_areas": null,
            "grid_template_columns": null,
            "grid_template_rows": null,
            "height": null,
            "justify_content": null,
            "justify_items": null,
            "left": null,
            "margin": null,
            "max_height": null,
            "max_width": null,
            "min_height": null,
            "min_width": null,
            "object_fit": null,
            "object_position": null,
            "order": null,
            "overflow": null,
            "overflow_x": null,
            "overflow_y": null,
            "padding": null,
            "right": null,
            "top": null,
            "visibility": null,
            "width": null
          }
        },
        "dde5b22639454908bc03f6b288a62e2f": {
          "model_module": "@jupyter-widgets/controls",
          "model_name": "DescriptionStyleModel",
          "model_module_version": "1.5.0",
          "state": {
            "_model_module": "@jupyter-widgets/controls",
            "_model_module_version": "1.5.0",
            "_model_name": "DescriptionStyleModel",
            "_view_count": null,
            "_view_module": "@jupyter-widgets/base",
            "_view_module_version": "1.2.0",
            "_view_name": "StyleView",
            "description_width": ""
          }
        },
        "fcd31ff7cd9f42f7b85b3891b715ab3c": {
          "model_module": "@jupyter-widgets/controls",
          "model_name": "HBoxModel",
          "model_module_version": "1.5.0",
          "state": {
            "_dom_classes": [],
            "_model_module": "@jupyter-widgets/controls",
            "_model_module_version": "1.5.0",
            "_model_name": "HBoxModel",
            "_view_count": null,
            "_view_module": "@jupyter-widgets/controls",
            "_view_module_version": "1.5.0",
            "_view_name": "HBoxView",
            "box_style": "",
            "children": [
              "IPY_MODEL_813848ecec90458c895207bf5b504b03",
              "IPY_MODEL_1900bdc0bcfe4041a7ff9b601b6a28d6",
              "IPY_MODEL_8b6cd61ddd5b4aa2b189e7c6c3ef8389"
            ],
            "layout": "IPY_MODEL_4711e68c667346dea2f9faab8374461e"
          }
        },
        "813848ecec90458c895207bf5b504b03": {
          "model_module": "@jupyter-widgets/controls",
          "model_name": "HTMLModel",
          "model_module_version": "1.5.0",
          "state": {
            "_dom_classes": [],
            "_model_module": "@jupyter-widgets/controls",
            "_model_module_version": "1.5.0",
            "_model_name": "HTMLModel",
            "_view_count": null,
            "_view_module": "@jupyter-widgets/controls",
            "_view_module_version": "1.5.0",
            "_view_name": "HTMLView",
            "description": "",
            "description_tooltip": null,
            "layout": "IPY_MODEL_79d1843b0fea4842a5d4915ee7928c63",
            "placeholder": "​",
            "style": "IPY_MODEL_689ad0e2827343f999f90c846b34a9f4",
            "value": "Downloading: 100%"
          }
        },
        "1900bdc0bcfe4041a7ff9b601b6a28d6": {
          "model_module": "@jupyter-widgets/controls",
          "model_name": "FloatProgressModel",
          "model_module_version": "1.5.0",
          "state": {
            "_dom_classes": [],
            "_model_module": "@jupyter-widgets/controls",
            "_model_module_version": "1.5.0",
            "_model_name": "FloatProgressModel",
            "_view_count": null,
            "_view_module": "@jupyter-widgets/controls",
            "_view_module_version": "1.5.0",
            "_view_name": "ProgressView",
            "bar_style": "success",
            "description": "",
            "description_tooltip": null,
            "layout": "IPY_MODEL_d336fde86c4c4bfe91f978b7b3c606d1",
            "max": 440473133,
            "min": 0,
            "orientation": "horizontal",
            "style": "IPY_MODEL_3bf220f8588642ce92f6440ad3021b51",
            "value": 440473133
          }
        },
        "8b6cd61ddd5b4aa2b189e7c6c3ef8389": {
          "model_module": "@jupyter-widgets/controls",
          "model_name": "HTMLModel",
          "model_module_version": "1.5.0",
          "state": {
            "_dom_classes": [],
            "_model_module": "@jupyter-widgets/controls",
            "_model_module_version": "1.5.0",
            "_model_name": "HTMLModel",
            "_view_count": null,
            "_view_module": "@jupyter-widgets/controls",
            "_view_module_version": "1.5.0",
            "_view_name": "HTMLView",
            "description": "",
            "description_tooltip": null,
            "layout": "IPY_MODEL_3142b25041f34963b7f0db25695f9f54",
            "placeholder": "​",
            "style": "IPY_MODEL_797c52d2104a46ef9027f648bc1bb459",
            "value": " 440M/440M [00:06&lt;00:00, 77.5MB/s]"
          }
        },
        "4711e68c667346dea2f9faab8374461e": {
          "model_module": "@jupyter-widgets/base",
          "model_name": "LayoutModel",
          "model_module_version": "1.2.0",
          "state": {
            "_model_module": "@jupyter-widgets/base",
            "_model_module_version": "1.2.0",
            "_model_name": "LayoutModel",
            "_view_count": null,
            "_view_module": "@jupyter-widgets/base",
            "_view_module_version": "1.2.0",
            "_view_name": "LayoutView",
            "align_content": null,
            "align_items": null,
            "align_self": null,
            "border": null,
            "bottom": null,
            "display": null,
            "flex": null,
            "flex_flow": null,
            "grid_area": null,
            "grid_auto_columns": null,
            "grid_auto_flow": null,
            "grid_auto_rows": null,
            "grid_column": null,
            "grid_gap": null,
            "grid_row": null,
            "grid_template_areas": null,
            "grid_template_columns": null,
            "grid_template_rows": null,
            "height": null,
            "justify_content": null,
            "justify_items": null,
            "left": null,
            "margin": null,
            "max_height": null,
            "max_width": null,
            "min_height": null,
            "min_width": null,
            "object_fit": null,
            "object_position": null,
            "order": null,
            "overflow": null,
            "overflow_x": null,
            "overflow_y": null,
            "padding": null,
            "right": null,
            "top": null,
            "visibility": null,
            "width": null
          }
        },
        "79d1843b0fea4842a5d4915ee7928c63": {
          "model_module": "@jupyter-widgets/base",
          "model_name": "LayoutModel",
          "model_module_version": "1.2.0",
          "state": {
            "_model_module": "@jupyter-widgets/base",
            "_model_module_version": "1.2.0",
            "_model_name": "LayoutModel",
            "_view_count": null,
            "_view_module": "@jupyter-widgets/base",
            "_view_module_version": "1.2.0",
            "_view_name": "LayoutView",
            "align_content": null,
            "align_items": null,
            "align_self": null,
            "border": null,
            "bottom": null,
            "display": null,
            "flex": null,
            "flex_flow": null,
            "grid_area": null,
            "grid_auto_columns": null,
            "grid_auto_flow": null,
            "grid_auto_rows": null,
            "grid_column": null,
            "grid_gap": null,
            "grid_row": null,
            "grid_template_areas": null,
            "grid_template_columns": null,
            "grid_template_rows": null,
            "height": null,
            "justify_content": null,
            "justify_items": null,
            "left": null,
            "margin": null,
            "max_height": null,
            "max_width": null,
            "min_height": null,
            "min_width": null,
            "object_fit": null,
            "object_position": null,
            "order": null,
            "overflow": null,
            "overflow_x": null,
            "overflow_y": null,
            "padding": null,
            "right": null,
            "top": null,
            "visibility": null,
            "width": null
          }
        },
        "689ad0e2827343f999f90c846b34a9f4": {
          "model_module": "@jupyter-widgets/controls",
          "model_name": "DescriptionStyleModel",
          "model_module_version": "1.5.0",
          "state": {
            "_model_module": "@jupyter-widgets/controls",
            "_model_module_version": "1.5.0",
            "_model_name": "DescriptionStyleModel",
            "_view_count": null,
            "_view_module": "@jupyter-widgets/base",
            "_view_module_version": "1.2.0",
            "_view_name": "StyleView",
            "description_width": ""
          }
        },
        "d336fde86c4c4bfe91f978b7b3c606d1": {
          "model_module": "@jupyter-widgets/base",
          "model_name": "LayoutModel",
          "model_module_version": "1.2.0",
          "state": {
            "_model_module": "@jupyter-widgets/base",
            "_model_module_version": "1.2.0",
            "_model_name": "LayoutModel",
            "_view_count": null,
            "_view_module": "@jupyter-widgets/base",
            "_view_module_version": "1.2.0",
            "_view_name": "LayoutView",
            "align_content": null,
            "align_items": null,
            "align_self": null,
            "border": null,
            "bottom": null,
            "display": null,
            "flex": null,
            "flex_flow": null,
            "grid_area": null,
            "grid_auto_columns": null,
            "grid_auto_flow": null,
            "grid_auto_rows": null,
            "grid_column": null,
            "grid_gap": null,
            "grid_row": null,
            "grid_template_areas": null,
            "grid_template_columns": null,
            "grid_template_rows": null,
            "height": null,
            "justify_content": null,
            "justify_items": null,
            "left": null,
            "margin": null,
            "max_height": null,
            "max_width": null,
            "min_height": null,
            "min_width": null,
            "object_fit": null,
            "object_position": null,
            "order": null,
            "overflow": null,
            "overflow_x": null,
            "overflow_y": null,
            "padding": null,
            "right": null,
            "top": null,
            "visibility": null,
            "width": null
          }
        },
        "3bf220f8588642ce92f6440ad3021b51": {
          "model_module": "@jupyter-widgets/controls",
          "model_name": "ProgressStyleModel",
          "model_module_version": "1.5.0",
          "state": {
            "_model_module": "@jupyter-widgets/controls",
            "_model_module_version": "1.5.0",
            "_model_name": "ProgressStyleModel",
            "_view_count": null,
            "_view_module": "@jupyter-widgets/base",
            "_view_module_version": "1.2.0",
            "_view_name": "StyleView",
            "bar_color": null,
            "description_width": ""
          }
        },
        "3142b25041f34963b7f0db25695f9f54": {
          "model_module": "@jupyter-widgets/base",
          "model_name": "LayoutModel",
          "model_module_version": "1.2.0",
          "state": {
            "_model_module": "@jupyter-widgets/base",
            "_model_module_version": "1.2.0",
            "_model_name": "LayoutModel",
            "_view_count": null,
            "_view_module": "@jupyter-widgets/base",
            "_view_module_version": "1.2.0",
            "_view_name": "LayoutView",
            "align_content": null,
            "align_items": null,
            "align_self": null,
            "border": null,
            "bottom": null,
            "display": null,
            "flex": null,
            "flex_flow": null,
            "grid_area": null,
            "grid_auto_columns": null,
            "grid_auto_flow": null,
            "grid_auto_rows": null,
            "grid_column": null,
            "grid_gap": null,
            "grid_row": null,
            "grid_template_areas": null,
            "grid_template_columns": null,
            "grid_template_rows": null,
            "height": null,
            "justify_content": null,
            "justify_items": null,
            "left": null,
            "margin": null,
            "max_height": null,
            "max_width": null,
            "min_height": null,
            "min_width": null,
            "object_fit": null,
            "object_position": null,
            "order": null,
            "overflow": null,
            "overflow_x": null,
            "overflow_y": null,
            "padding": null,
            "right": null,
            "top": null,
            "visibility": null,
            "width": null
          }
        },
        "797c52d2104a46ef9027f648bc1bb459": {
          "model_module": "@jupyter-widgets/controls",
          "model_name": "DescriptionStyleModel",
          "model_module_version": "1.5.0",
          "state": {
            "_model_module": "@jupyter-widgets/controls",
            "_model_module_version": "1.5.0",
            "_model_name": "DescriptionStyleModel",
            "_view_count": null,
            "_view_module": "@jupyter-widgets/base",
            "_view_module_version": "1.2.0",
            "_view_name": "StyleView",
            "description_width": ""
          }
        }
      }
    }
  },
  "cells": [
    {
      "cell_type": "markdown",
      "metadata": {
        "id": "view-in-github",
        "colab_type": "text"
      },
      "source": [
        "<a href=\"https://colab.research.google.com/github/edithgomezs/Natural-Language-Processing-Final-Project/blob/main/Task2_NLP_Yelp.ipynb\" target=\"_parent\"><img src=\"https://colab.research.google.com/assets/colab-badge.svg\" alt=\"Open In Colab\"/></a>"
      ]
    },
    {
      "cell_type": "code",
      "source": [
        "from sklearn.utils import resample\n",
        "from google.colab import files\n",
        "import json\n",
        "import pandas as pd\n",
        "from IPython.display import HTML, display\n",
        "import time\n",
        "import gc\n",
        "import numpy as np\n",
        "import matplotlib.pyplot as plt\n",
        "import seaborn as sns\n",
        "from sklearn.model_selection import train_test_split\n",
        "from sklearn.svm import SVC\n",
        "from sklearn.metrics import classification_report\n",
        "from nltk.corpus import stopwords\n",
        "from nltk.stem import PorterStemmer\n",
        "from nltk.tokenize import word_tokenize\n",
        "import string\n",
        "import nltk \n",
        "from sklearn.svm import SVC\n",
        "from sklearn.metrics import classification_report\n",
        "from sklearn.feature_extraction.text import TfidfVectorizer\n",
        "from sklearn.feature_extraction.text import CountVectorizer\n",
        "from sklearn.linear_model import LogisticRegression\n",
        "from sklearn.ensemble import RandomForestClassifier\n",
        "from sklearn.naive_bayes import MultinomialNB\n",
        "from transformers import BertTokenizer, BertForSequenceClassification\n",
        "from transformers import AdamW, get_linear_schedule_with_warmup\n",
        "import torch\n",
        "from sklearn.metrics import accuracy_score, precision_score, recall_score, f1_score\n",
        "from transformers import Trainer, TrainingArguments"
      ],
      "metadata": {
        "id": "DurWICu18yv2"
      },
      "execution_count": null,
      "outputs": []
    },
    {
      "cell_type": "markdown",
      "source": [
        "# Reading and Processing the Data set"
      ],
      "metadata": {
        "id": "P5ni_J7Dn31Y"
      }
    },
    {
      "cell_type": "code",
      "execution_count": null,
      "metadata": {
        "id": "8kHct9-VhAf1"
      },
      "outputs": [],
      "source": [
        "!pip install -q kaggle\n",
        "from google.colab import files\n",
        "import json\n",
        "import pandas as pd\n",
        "import gc\n",
        "import matplotlib.pyplot as plt\n",
        "from IPython.display import HTML, display\n",
        "import time\n",
        "!pip install transformers\n",
        "from transformers import Trainer\n",
        "from transformers import TrainingArguments\n",
        "from transformers import AutoTokenizer, AutoModelForSequenceClassification, DataCollatorWithPadding\n",
        "!pip install datasets\n",
        "from datasets import load_metric\n",
        "import numpy as np\n",
        "from sklearn.model_selection import train_test_split\n",
        "from torch.utils.data import DataLoader\n",
        "import re\n",
        "import tensorflow as tf\n",
        "\n",
        "# Serializing json\n",
        "json_object = json.dumps({\"username\":\"margaretearnest\",\"key\":\"eea4cccb1ee7693f36add93a14642d7e\"}, indent=4)\n",
        "\n",
        "# Writing to kaggle.json\n",
        "with open(\"kaggle.json\", \"w\") as outfile:\n",
        "    outfile.write(json_object)"
      ]
    },
    {
      "cell_type": "code",
      "source": [
        "! mkdir ~/.kaggle\n",
        "! cp kaggle.json ~/.kaggle/\n",
        "! chmod 600 ~/.kaggle/kaggle.json\n",
        "! kaggle datasets download -d yelp-dataset/yelp-dataset\n",
        "! mkdir train\n",
        "! unzip -o yelp-dataset.zip -d train\n",
        "! rm yelp-dataset.zip"
      ],
      "metadata": {
        "id": "F3IhFZJOhX6Y"
      },
      "execution_count": null,
      "outputs": []
    },
    {
      "cell_type": "code",
      "source": [
        "max = 6290515\n",
        "def progress(value):\n",
        "    return HTML(\"\"\"\n",
        "        <progress\n",
        "            value='{value}'\n",
        "            max='{max}',\n",
        "            style='width: 100%'\n",
        "        >\n",
        "            {value}\n",
        "        </progress>\n",
        "    \"\"\".format(value=value, max=max))"
      ],
      "metadata": {
        "id": "ZLc7RWoZuEIb"
      },
      "execution_count": null,
      "outputs": []
    },
    {
      "cell_type": "code",
      "source": [
        "# Read in and process data\n",
        "chunk = 100000\n",
        "chunks = pd.read_json('train/yelp_academic_dataset_review.json', lines=True, chunksize=chunk)\n",
        "df = pd.DataFrame()\n",
        "\n",
        "out = display(progress(0), display_id=True)\n",
        "i = chunk\n",
        "\n",
        "for c in chunks:\n",
        "    df = pd.concat([df, c])\n",
        "    out.update(progress(i))\n",
        "    i += chunk"
      ],
      "metadata": {
        "colab": {
          "base_uri": "https://localhost:8080/",
          "height": 34
        },
        "id": "U1vqW1-Rijc_",
        "outputId": "dba89597-f88c-4bf7-cbe2-eb041e1980c4"
      },
      "execution_count": null,
      "outputs": [
        {
          "output_type": "display_data",
          "data": {
            "text/plain": [
              "<IPython.core.display.HTML object>"
            ],
            "text/html": [
              "\n",
              "        <progress\n",
              "            value='7000000'\n",
              "            max='1987896',\n",
              "            style='width: 100%'\n",
              "        >\n",
              "            7000000\n",
              "        </progress>\n",
              "    "
            ]
          },
          "metadata": {}
        }
      ]
    },
    {
      "cell_type": "code",
      "source": [
        "def findCorrelations(column, colTitle):\n",
        "  print(\"Correlation between \" + colTitle + \" and Funny scores\", column.corr(df['funny']))\n",
        "  print(\"Correlation between \" + colTitle + \" and Useful scores\", column.corr(df['useful']))\n",
        "  print(\"Correlation between \" + colTitle + \" and Cool scores\", column.corr(df['cool']), \"\\n\")\n",
        "\n",
        "def getAverageWordLength(n):\n",
        "  words = n.split()\n",
        "  return sum(len(word) for word in words) / len(words)"
      ],
      "metadata": {
        "id": "4IYlm4Lm62He"
      },
      "execution_count": null,
      "outputs": []
    },
    {
      "cell_type": "code",
      "source": [
        "# Need a dataframe of a sample size with text, star rating, user stats\n",
        "df.drop(columns=['business_id', 'date'], inplace=True)\n",
        "df = df.sample(frac=0.2)\n",
        "gc.collect()"
      ],
      "metadata": {
        "id": "BjM8E-V3GO2i",
        "colab": {
          "base_uri": "https://localhost:8080/"
        },
        "outputId": "8c23f721-bb42-498b-cd5f-61a4c46c148d"
      },
      "execution_count": null,
      "outputs": [
        {
          "output_type": "execute_result",
          "data": {
            "text/plain": [
              "0"
            ]
          },
          "metadata": {},
          "execution_count": 18
        }
      ]
    },
    {
      "cell_type": "code",
      "source": [
        "print(df[\"funny\"].max())\n",
        "print(df[\"funny\"].mean())\n",
        "print(df[\"useful\"].max())\n",
        "print(df[\"useful\"].mean())\n",
        "print(df[\"cool\"].max())\n",
        "print(df[\"cool\"].mean())"
      ],
      "metadata": {
        "colab": {
          "base_uri": "https://localhost:8080/"
        },
        "id": "DfgPjNS5Mwrg",
        "outputId": "0cc00e4f-9d15-4a7e-914d-5da98d4f4618"
      },
      "execution_count": null,
      "outputs": [
        {
          "output_type": "stream",
          "name": "stdout",
          "text": [
            "375\n",
            "0.3255913926194659\n",
            "1182\n",
            "1.182273099217771\n",
            "400\n",
            "0.4955559720068438\n"
          ]
        }
      ]
    },
    {
      "cell_type": "code",
      "source": [
        "chunk = 100000\n",
        "max = 1987896\n",
        "chunks = pd.read_json('train/yelp_academic_dataset_user.json', lines=True, chunksize=chunk)\n",
        "users = pd.DataFrame()\n",
        "\n",
        "out = display(progress(0), display_id=True)\n",
        "i = chunk\n",
        "\n",
        "for c in chunks:\n",
        "    users = pd.concat([users, c])\n",
        "    out.update(progress(i))\n",
        "    i += chunk"
      ],
      "metadata": {
        "colab": {
          "base_uri": "https://localhost:8080/",
          "height": 34
        },
        "id": "uXL9AeXJrEJg",
        "outputId": "1cd57cca-05d9-45e0-aedc-d32284eeb9da"
      },
      "execution_count": null,
      "outputs": [
        {
          "output_type": "display_data",
          "data": {
            "text/plain": [
              "<IPython.core.display.HTML object>"
            ],
            "text/html": [
              "\n",
              "        <progress\n",
              "            value='2000000'\n",
              "            max='1987896',\n",
              "            style='width: 100%'\n",
              "        >\n",
              "            2000000\n",
              "        </progress>\n",
              "    "
            ]
          },
          "metadata": {}
        }
      ]
    },
    {
      "cell_type": "code",
      "source": [
        "# Renaming columns to prevent clash between useful, funny, cool columns in the review and user datasets\n",
        "df.rename(columns={\"useful\": \"review_useful\", \"funny\": \"review_funny\", \"cool\": \"review_cool\"}, inplace=True)\n",
        "data = pd.merge(df, users[[\"user_id\", \"useful\", \"funny\", \"cool\"]], on=[\"user_id\"])\n",
        "userScoreSums = data[[\"useful\", \"funny\", \"cool\"]].sum(axis=1)\n",
        "data[\"user_useful\"] = (data[\"useful\"] / userScoreSums).fillna(1/3)\n",
        "data[\"user_funny\"] = (data[\"funny\"] / userScoreSums).fillna(1/3)\n",
        "data[\"user_cool\"] = (data[\"cool\"] / userScoreSums).fillna(1/3)\n",
        "data.drop(columns=['useful', 'funny', 'cool'], inplace=True)\n",
        "data.rename(columns={\"review_useful\": \"useful\", \"review_funny\": \"funny\", \"review_cool\": \"cool\"}, inplace=True)\n",
        "data.drop(columns=['user_id'], inplace=True)"
      ],
      "metadata": {
        "id": "lGzxVBeDrWAJ"
      },
      "execution_count": null,
      "outputs": []
    },
    {
      "cell_type": "code",
      "source": [
        "del chunks\n",
        "del df\n",
        "del users\n",
        "gc.collect()"
      ],
      "metadata": {
        "colab": {
          "base_uri": "https://localhost:8080/"
        },
        "id": "7fGApeHCzZlz",
        "outputId": "550f549b-dbca-406b-be21-12eb6c04efea"
      },
      "execution_count": null,
      "outputs": [
        {
          "output_type": "execute_result",
          "data": {
            "text/plain": [
              "87"
            ]
          },
          "metadata": {},
          "execution_count": 23
        }
      ]
    },
    {
      "cell_type": "code",
      "source": [
        "# double check after merge\n",
        "print(data[\"funny\"].max())\n",
        "print(data[\"funny\"].mean())\n",
        "print(data[\"useful\"].max())\n",
        "print(data[\"useful\"].mean())\n",
        "print(data[\"cool\"].max())\n",
        "print(data[\"cool\"].mean())"
      ],
      "metadata": {
        "colab": {
          "base_uri": "https://localhost:8080/"
        },
        "id": "7-o0EgWwNBd6",
        "outputId": "7a75c9cb-a5c4-4106-d215-a3d1455b4712"
      },
      "execution_count": null,
      "outputs": [
        {
          "output_type": "stream",
          "name": "stdout",
          "text": [
            "375\n",
            "0.32559442020023704\n",
            "1182\n",
            "1.182284092835485\n",
            "400\n",
            "0.49556058003938364\n"
          ]
        }
      ]
    },
    {
      "cell_type": "code",
      "source": [
        "data.tail(10)"
      ],
      "metadata": {
        "colab": {
          "base_uri": "https://localhost:8080/",
          "height": 363
        },
        "id": "6f46HvHB8e6S",
        "outputId": "a69dd5d0-efc1-48c6-b5f2-3c4ee662d8db"
      },
      "execution_count": null,
      "outputs": [
        {
          "output_type": "execute_result",
          "data": {
            "text/plain": [
              "                      review_id  stars  useful  funny  cool  \\\n",
              "1398033  4ZCXEtTf3TFOnP3m1HGyPQ      5       1      0     0   \n",
              "1398034  L6OuTqrdiLlMqvLFyWayDg      5       0      0     0   \n",
              "1398035  ZWGBkDaS81RZz-SB0_NFQw      3       0      0     0   \n",
              "1398036  4DGA9HH18s_ifFO0zeR_SA      1       2      0     0   \n",
              "1398037  FRxtN_8JSKdiTU0Eks5NBw      1       0      0     0   \n",
              "1398038  mQNNgVLdcv0pSjo9xpx1ng      5       0      0     0   \n",
              "1398039  MyrCqiVNZIMdmlwKl45ymg      2       0      0     0   \n",
              "1398040  dyzFL_d6f5KnuOqdWl-rBA      5       0      0     0   \n",
              "1398041  BotWI74kUPrGqczTnddejw      5       0      0     0   \n",
              "1398042  XNvfChtLjzCyDakIfY07TQ      1       0      0     0   \n",
              "\n",
              "                                                      text  user_useful  \\\n",
              "1398033  Everyone was friendly and welcoming. There was...     0.625000   \n",
              "1398034  April and John have been with us for 2 purchas...     0.500000   \n",
              "1398035  2/22/2021 - Huge fan of Mad Mex and haven't be...     0.666667   \n",
              "1398036  Do not take your dogs to the salon. I unfortun...     0.714286   \n",
              "1398037  I experienced a horrible experience and custom...     0.400000   \n",
              "1398038  Best tacos ,burritos and tortas in town!!!\\nRe...     0.333333   \n",
              "1398039  The Mrs. and I tried the updated Diamond Diner...     0.333333   \n",
              "1398040  Not only is this the best Mexican in East Nash...     0.800000   \n",
              "1398041  Loved it. Amazing burgers. A little loud insid...     0.600000   \n",
              "1398042  TLDR: Owner flipping off my wife and charging ...     0.333333   \n",
              "\n",
              "         user_funny  user_cool  \n",
              "1398033    0.125000   0.250000  \n",
              "1398034    0.000000   0.500000  \n",
              "1398035    0.000000   0.333333  \n",
              "1398036    0.000000   0.285714  \n",
              "1398037    0.400000   0.200000  \n",
              "1398038    0.333333   0.333333  \n",
              "1398039    0.333333   0.333333  \n",
              "1398040    0.100000   0.100000  \n",
              "1398041    0.000000   0.400000  \n",
              "1398042    0.333333   0.333333  "
            ],
            "text/html": [
              "\n",
              "  <div id=\"df-46422cc3-bac5-40ce-ac04-2d96311d40d6\">\n",
              "    <div class=\"colab-df-container\">\n",
              "      <div>\n",
              "<style scoped>\n",
              "    .dataframe tbody tr th:only-of-type {\n",
              "        vertical-align: middle;\n",
              "    }\n",
              "\n",
              "    .dataframe tbody tr th {\n",
              "        vertical-align: top;\n",
              "    }\n",
              "\n",
              "    .dataframe thead th {\n",
              "        text-align: right;\n",
              "    }\n",
              "</style>\n",
              "<table border=\"1\" class=\"dataframe\">\n",
              "  <thead>\n",
              "    <tr style=\"text-align: right;\">\n",
              "      <th></th>\n",
              "      <th>review_id</th>\n",
              "      <th>stars</th>\n",
              "      <th>useful</th>\n",
              "      <th>funny</th>\n",
              "      <th>cool</th>\n",
              "      <th>text</th>\n",
              "      <th>user_useful</th>\n",
              "      <th>user_funny</th>\n",
              "      <th>user_cool</th>\n",
              "    </tr>\n",
              "  </thead>\n",
              "  <tbody>\n",
              "    <tr>\n",
              "      <th>1398033</th>\n",
              "      <td>4ZCXEtTf3TFOnP3m1HGyPQ</td>\n",
              "      <td>5</td>\n",
              "      <td>1</td>\n",
              "      <td>0</td>\n",
              "      <td>0</td>\n",
              "      <td>Everyone was friendly and welcoming. There was...</td>\n",
              "      <td>0.625000</td>\n",
              "      <td>0.125000</td>\n",
              "      <td>0.250000</td>\n",
              "    </tr>\n",
              "    <tr>\n",
              "      <th>1398034</th>\n",
              "      <td>L6OuTqrdiLlMqvLFyWayDg</td>\n",
              "      <td>5</td>\n",
              "      <td>0</td>\n",
              "      <td>0</td>\n",
              "      <td>0</td>\n",
              "      <td>April and John have been with us for 2 purchas...</td>\n",
              "      <td>0.500000</td>\n",
              "      <td>0.000000</td>\n",
              "      <td>0.500000</td>\n",
              "    </tr>\n",
              "    <tr>\n",
              "      <th>1398035</th>\n",
              "      <td>ZWGBkDaS81RZz-SB0_NFQw</td>\n",
              "      <td>3</td>\n",
              "      <td>0</td>\n",
              "      <td>0</td>\n",
              "      <td>0</td>\n",
              "      <td>2/22/2021 - Huge fan of Mad Mex and haven't be...</td>\n",
              "      <td>0.666667</td>\n",
              "      <td>0.000000</td>\n",
              "      <td>0.333333</td>\n",
              "    </tr>\n",
              "    <tr>\n",
              "      <th>1398036</th>\n",
              "      <td>4DGA9HH18s_ifFO0zeR_SA</td>\n",
              "      <td>1</td>\n",
              "      <td>2</td>\n",
              "      <td>0</td>\n",
              "      <td>0</td>\n",
              "      <td>Do not take your dogs to the salon. I unfortun...</td>\n",
              "      <td>0.714286</td>\n",
              "      <td>0.000000</td>\n",
              "      <td>0.285714</td>\n",
              "    </tr>\n",
              "    <tr>\n",
              "      <th>1398037</th>\n",
              "      <td>FRxtN_8JSKdiTU0Eks5NBw</td>\n",
              "      <td>1</td>\n",
              "      <td>0</td>\n",
              "      <td>0</td>\n",
              "      <td>0</td>\n",
              "      <td>I experienced a horrible experience and custom...</td>\n",
              "      <td>0.400000</td>\n",
              "      <td>0.400000</td>\n",
              "      <td>0.200000</td>\n",
              "    </tr>\n",
              "    <tr>\n",
              "      <th>1398038</th>\n",
              "      <td>mQNNgVLdcv0pSjo9xpx1ng</td>\n",
              "      <td>5</td>\n",
              "      <td>0</td>\n",
              "      <td>0</td>\n",
              "      <td>0</td>\n",
              "      <td>Best tacos ,burritos and tortas in town!!!\\nRe...</td>\n",
              "      <td>0.333333</td>\n",
              "      <td>0.333333</td>\n",
              "      <td>0.333333</td>\n",
              "    </tr>\n",
              "    <tr>\n",
              "      <th>1398039</th>\n",
              "      <td>MyrCqiVNZIMdmlwKl45ymg</td>\n",
              "      <td>2</td>\n",
              "      <td>0</td>\n",
              "      <td>0</td>\n",
              "      <td>0</td>\n",
              "      <td>The Mrs. and I tried the updated Diamond Diner...</td>\n",
              "      <td>0.333333</td>\n",
              "      <td>0.333333</td>\n",
              "      <td>0.333333</td>\n",
              "    </tr>\n",
              "    <tr>\n",
              "      <th>1398040</th>\n",
              "      <td>dyzFL_d6f5KnuOqdWl-rBA</td>\n",
              "      <td>5</td>\n",
              "      <td>0</td>\n",
              "      <td>0</td>\n",
              "      <td>0</td>\n",
              "      <td>Not only is this the best Mexican in East Nash...</td>\n",
              "      <td>0.800000</td>\n",
              "      <td>0.100000</td>\n",
              "      <td>0.100000</td>\n",
              "    </tr>\n",
              "    <tr>\n",
              "      <th>1398041</th>\n",
              "      <td>BotWI74kUPrGqczTnddejw</td>\n",
              "      <td>5</td>\n",
              "      <td>0</td>\n",
              "      <td>0</td>\n",
              "      <td>0</td>\n",
              "      <td>Loved it. Amazing burgers. A little loud insid...</td>\n",
              "      <td>0.600000</td>\n",
              "      <td>0.000000</td>\n",
              "      <td>0.400000</td>\n",
              "    </tr>\n",
              "    <tr>\n",
              "      <th>1398042</th>\n",
              "      <td>XNvfChtLjzCyDakIfY07TQ</td>\n",
              "      <td>1</td>\n",
              "      <td>0</td>\n",
              "      <td>0</td>\n",
              "      <td>0</td>\n",
              "      <td>TLDR: Owner flipping off my wife and charging ...</td>\n",
              "      <td>0.333333</td>\n",
              "      <td>0.333333</td>\n",
              "      <td>0.333333</td>\n",
              "    </tr>\n",
              "  </tbody>\n",
              "</table>\n",
              "</div>\n",
              "      <button class=\"colab-df-convert\" onclick=\"convertToInteractive('df-46422cc3-bac5-40ce-ac04-2d96311d40d6')\"\n",
              "              title=\"Convert this dataframe to an interactive table.\"\n",
              "              style=\"display:none;\">\n",
              "        \n",
              "  <svg xmlns=\"http://www.w3.org/2000/svg\" height=\"24px\"viewBox=\"0 0 24 24\"\n",
              "       width=\"24px\">\n",
              "    <path d=\"M0 0h24v24H0V0z\" fill=\"none\"/>\n",
              "    <path d=\"M18.56 5.44l.94 2.06.94-2.06 2.06-.94-2.06-.94-.94-2.06-.94 2.06-2.06.94zm-11 1L8.5 8.5l.94-2.06 2.06-.94-2.06-.94L8.5 2.5l-.94 2.06-2.06.94zm10 10l.94 2.06.94-2.06 2.06-.94-2.06-.94-.94-2.06-.94 2.06-2.06.94z\"/><path d=\"M17.41 7.96l-1.37-1.37c-.4-.4-.92-.59-1.43-.59-.52 0-1.04.2-1.43.59L10.3 9.45l-7.72 7.72c-.78.78-.78 2.05 0 2.83L4 21.41c.39.39.9.59 1.41.59.51 0 1.02-.2 1.41-.59l7.78-7.78 2.81-2.81c.8-.78.8-2.07 0-2.86zM5.41 20L4 18.59l7.72-7.72 1.47 1.35L5.41 20z\"/>\n",
              "  </svg>\n",
              "      </button>\n",
              "      \n",
              "  <style>\n",
              "    .colab-df-container {\n",
              "      display:flex;\n",
              "      flex-wrap:wrap;\n",
              "      gap: 12px;\n",
              "    }\n",
              "\n",
              "    .colab-df-convert {\n",
              "      background-color: #E8F0FE;\n",
              "      border: none;\n",
              "      border-radius: 50%;\n",
              "      cursor: pointer;\n",
              "      display: none;\n",
              "      fill: #1967D2;\n",
              "      height: 32px;\n",
              "      padding: 0 0 0 0;\n",
              "      width: 32px;\n",
              "    }\n",
              "\n",
              "    .colab-df-convert:hover {\n",
              "      background-color: #E2EBFA;\n",
              "      box-shadow: 0px 1px 2px rgba(60, 64, 67, 0.3), 0px 1px 3px 1px rgba(60, 64, 67, 0.15);\n",
              "      fill: #174EA6;\n",
              "    }\n",
              "\n",
              "    [theme=dark] .colab-df-convert {\n",
              "      background-color: #3B4455;\n",
              "      fill: #D2E3FC;\n",
              "    }\n",
              "\n",
              "    [theme=dark] .colab-df-convert:hover {\n",
              "      background-color: #434B5C;\n",
              "      box-shadow: 0px 1px 3px 1px rgba(0, 0, 0, 0.15);\n",
              "      filter: drop-shadow(0px 1px 2px rgba(0, 0, 0, 0.3));\n",
              "      fill: #FFFFFF;\n",
              "    }\n",
              "  </style>\n",
              "\n",
              "      <script>\n",
              "        const buttonEl =\n",
              "          document.querySelector('#df-46422cc3-bac5-40ce-ac04-2d96311d40d6 button.colab-df-convert');\n",
              "        buttonEl.style.display =\n",
              "          google.colab.kernel.accessAllowed ? 'block' : 'none';\n",
              "\n",
              "        async function convertToInteractive(key) {\n",
              "          const element = document.querySelector('#df-46422cc3-bac5-40ce-ac04-2d96311d40d6');\n",
              "          const dataTable =\n",
              "            await google.colab.kernel.invokeFunction('convertToInteractive',\n",
              "                                                     [key], {});\n",
              "          if (!dataTable) return;\n",
              "\n",
              "          const docLinkHtml = 'Like what you see? Visit the ' +\n",
              "            '<a target=\"_blank\" href=https://colab.research.google.com/notebooks/data_table.ipynb>data table notebook</a>'\n",
              "            + ' to learn more about interactive tables.';\n",
              "          element.innerHTML = '';\n",
              "          dataTable['output_type'] = 'display_data';\n",
              "          await google.colab.output.renderOutput(dataTable, element);\n",
              "          const docLink = document.createElement('div');\n",
              "          docLink.innerHTML = docLinkHtml;\n",
              "          element.appendChild(docLink);\n",
              "        }\n",
              "      </script>\n",
              "    </div>\n",
              "  </div>\n",
              "  "
            ]
          },
          "metadata": {},
          "execution_count": 29
        }
      ]
    },
    {
      "cell_type": "code",
      "source": [
        "data.to_csv(r'/content/drive/MyDrive/yelp_data_sample.csv') "
      ],
      "metadata": {
        "id": "iH8fars8kSHv"
      },
      "execution_count": null,
      "outputs": []
    },
    {
      "cell_type": "code",
      "source": [
        "del data \n",
        "gc.collect()"
      ],
      "metadata": {
        "colab": {
          "base_uri": "https://localhost:8080/"
        },
        "id": "Kgm9KjPZ-pY0",
        "outputId": "5f223736-5029-4430-ed34-7138857e3dc8"
      },
      "execution_count": null,
      "outputs": [
        {
          "output_type": "execute_result",
          "data": {
            "text/plain": [
              "0"
            ]
          },
          "metadata": {},
          "execution_count": 31
        }
      ]
    },
    {
      "cell_type": "markdown",
      "source": [
        "## Reading the Dataset"
      ],
      "metadata": {
        "id": "22KeI5GBxsKC"
      }
    },
    {
      "cell_type": "code",
      "source": [
        "# Conect notebook to google drive folders\n",
        "from google.colab import drive\n",
        "drive.mount('/content/drive')"
      ],
      "metadata": {
        "colab": {
          "base_uri": "https://localhost:8080/"
        },
        "id": "O3hatv7yzq8B",
        "outputId": "b4155bb2-d77c-4c5b-b945-354b8e168807"
      },
      "execution_count": null,
      "outputs": [
        {
          "output_type": "stream",
          "name": "stdout",
          "text": [
            "Mounted at /content/drive\n"
          ]
        }
      ]
    },
    {
      "cell_type": "code",
      "source": [
        "df = pd.read_csv(r'/content/drive/MyDrive/yelp_data_sample.csv')\n",
        "df.head(10)"
      ],
      "metadata": {
        "colab": {
          "base_uri": "https://localhost:8080/",
          "height": 363
        },
        "id": "dh4toM16oMhW",
        "outputId": "7f63ff46-35b3-4eb0-9701-ce44845e12c1"
      },
      "execution_count": null,
      "outputs": [
        {
          "output_type": "execute_result",
          "data": {
            "text/plain": [
              "   Unnamed: 0               review_id  stars  useful  funny  cool  \\\n",
              "0           0  BFaW6f0VQ1BHCF0JCtDkyg      4       5      3     2   \n",
              "1           1  5cjA-ZZDdZDqQgzhIRLyCw      4       0      0     0   \n",
              "2           2  4WuqRDC--to0vSiFhSYwXQ      4       1      0     2   \n",
              "3           3  B5xq-_eZK7wAmzqwRTSGIw      3       1      1     0   \n",
              "4           4  SF0TjRXMZG0Ky4NsY887Aw      4       0      0     0   \n",
              "5           5  KhmqvdkCSz-I--GqE9y8vA      5       1      0     0   \n",
              "6           6  hoWQGSgMYkMsrN-ClgiSEg      5       0      0     0   \n",
              "7           7  CJZwchkHlrkXQa9wJTOQpQ      4       2      0     2   \n",
              "8           8  lPHydYGuTRD5ncmGL6q01g      1       0      0     0   \n",
              "9           9  J9KICzF17FLwFWt2AOI57A      4       0      0     0   \n",
              "\n",
              "                                                text  user_useful  user_funny  \\\n",
              "0  I lived here for two years and really liked it...     0.628049    0.158537   \n",
              "1  We had a groupon/living social (some deal!) fo...     0.628049    0.158537   \n",
              "2  I've had lunch many times and its a great deal...     0.628049    0.158537   \n",
              "3  We arranged for a rather large group at Jolly'...     0.628049    0.158537   \n",
              "4  5 stars for the chocolate pizza (with bananas ...     0.628049    0.158537   \n",
              "5  It's best to go on off days/times, but this pl...     0.628049    0.158537   \n",
              "6  I love ESP.  \\n\\nI went to their Halloween eve...     0.628049    0.158537   \n",
              "7  I've been here twice now and have had a facial...     0.628049    0.158537   \n",
              "8  I will not be returning to Minar in the future...     0.628049    0.158537   \n",
              "9  Its really hard to find good produce in Ritten...     0.628049    0.158537   \n",
              "\n",
              "   user_cool  \n",
              "0   0.213415  \n",
              "1   0.213415  \n",
              "2   0.213415  \n",
              "3   0.213415  \n",
              "4   0.213415  \n",
              "5   0.213415  \n",
              "6   0.213415  \n",
              "7   0.213415  \n",
              "8   0.213415  \n",
              "9   0.213415  "
            ],
            "text/html": [
              "\n",
              "  <div id=\"df-6a592636-e9b5-4456-bdc2-b8a925ca19e7\">\n",
              "    <div class=\"colab-df-container\">\n",
              "      <div>\n",
              "<style scoped>\n",
              "    .dataframe tbody tr th:only-of-type {\n",
              "        vertical-align: middle;\n",
              "    }\n",
              "\n",
              "    .dataframe tbody tr th {\n",
              "        vertical-align: top;\n",
              "    }\n",
              "\n",
              "    .dataframe thead th {\n",
              "        text-align: right;\n",
              "    }\n",
              "</style>\n",
              "<table border=\"1\" class=\"dataframe\">\n",
              "  <thead>\n",
              "    <tr style=\"text-align: right;\">\n",
              "      <th></th>\n",
              "      <th>Unnamed: 0</th>\n",
              "      <th>review_id</th>\n",
              "      <th>stars</th>\n",
              "      <th>useful</th>\n",
              "      <th>funny</th>\n",
              "      <th>cool</th>\n",
              "      <th>text</th>\n",
              "      <th>user_useful</th>\n",
              "      <th>user_funny</th>\n",
              "      <th>user_cool</th>\n",
              "    </tr>\n",
              "  </thead>\n",
              "  <tbody>\n",
              "    <tr>\n",
              "      <th>0</th>\n",
              "      <td>0</td>\n",
              "      <td>BFaW6f0VQ1BHCF0JCtDkyg</td>\n",
              "      <td>4</td>\n",
              "      <td>5</td>\n",
              "      <td>3</td>\n",
              "      <td>2</td>\n",
              "      <td>I lived here for two years and really liked it...</td>\n",
              "      <td>0.628049</td>\n",
              "      <td>0.158537</td>\n",
              "      <td>0.213415</td>\n",
              "    </tr>\n",
              "    <tr>\n",
              "      <th>1</th>\n",
              "      <td>1</td>\n",
              "      <td>5cjA-ZZDdZDqQgzhIRLyCw</td>\n",
              "      <td>4</td>\n",
              "      <td>0</td>\n",
              "      <td>0</td>\n",
              "      <td>0</td>\n",
              "      <td>We had a groupon/living social (some deal!) fo...</td>\n",
              "      <td>0.628049</td>\n",
              "      <td>0.158537</td>\n",
              "      <td>0.213415</td>\n",
              "    </tr>\n",
              "    <tr>\n",
              "      <th>2</th>\n",
              "      <td>2</td>\n",
              "      <td>4WuqRDC--to0vSiFhSYwXQ</td>\n",
              "      <td>4</td>\n",
              "      <td>1</td>\n",
              "      <td>0</td>\n",
              "      <td>2</td>\n",
              "      <td>I've had lunch many times and its a great deal...</td>\n",
              "      <td>0.628049</td>\n",
              "      <td>0.158537</td>\n",
              "      <td>0.213415</td>\n",
              "    </tr>\n",
              "    <tr>\n",
              "      <th>3</th>\n",
              "      <td>3</td>\n",
              "      <td>B5xq-_eZK7wAmzqwRTSGIw</td>\n",
              "      <td>3</td>\n",
              "      <td>1</td>\n",
              "      <td>1</td>\n",
              "      <td>0</td>\n",
              "      <td>We arranged for a rather large group at Jolly'...</td>\n",
              "      <td>0.628049</td>\n",
              "      <td>0.158537</td>\n",
              "      <td>0.213415</td>\n",
              "    </tr>\n",
              "    <tr>\n",
              "      <th>4</th>\n",
              "      <td>4</td>\n",
              "      <td>SF0TjRXMZG0Ky4NsY887Aw</td>\n",
              "      <td>4</td>\n",
              "      <td>0</td>\n",
              "      <td>0</td>\n",
              "      <td>0</td>\n",
              "      <td>5 stars for the chocolate pizza (with bananas ...</td>\n",
              "      <td>0.628049</td>\n",
              "      <td>0.158537</td>\n",
              "      <td>0.213415</td>\n",
              "    </tr>\n",
              "    <tr>\n",
              "      <th>5</th>\n",
              "      <td>5</td>\n",
              "      <td>KhmqvdkCSz-I--GqE9y8vA</td>\n",
              "      <td>5</td>\n",
              "      <td>1</td>\n",
              "      <td>0</td>\n",
              "      <td>0</td>\n",
              "      <td>It's best to go on off days/times, but this pl...</td>\n",
              "      <td>0.628049</td>\n",
              "      <td>0.158537</td>\n",
              "      <td>0.213415</td>\n",
              "    </tr>\n",
              "    <tr>\n",
              "      <th>6</th>\n",
              "      <td>6</td>\n",
              "      <td>hoWQGSgMYkMsrN-ClgiSEg</td>\n",
              "      <td>5</td>\n",
              "      <td>0</td>\n",
              "      <td>0</td>\n",
              "      <td>0</td>\n",
              "      <td>I love ESP.  \\n\\nI went to their Halloween eve...</td>\n",
              "      <td>0.628049</td>\n",
              "      <td>0.158537</td>\n",
              "      <td>0.213415</td>\n",
              "    </tr>\n",
              "    <tr>\n",
              "      <th>7</th>\n",
              "      <td>7</td>\n",
              "      <td>CJZwchkHlrkXQa9wJTOQpQ</td>\n",
              "      <td>4</td>\n",
              "      <td>2</td>\n",
              "      <td>0</td>\n",
              "      <td>2</td>\n",
              "      <td>I've been here twice now and have had a facial...</td>\n",
              "      <td>0.628049</td>\n",
              "      <td>0.158537</td>\n",
              "      <td>0.213415</td>\n",
              "    </tr>\n",
              "    <tr>\n",
              "      <th>8</th>\n",
              "      <td>8</td>\n",
              "      <td>lPHydYGuTRD5ncmGL6q01g</td>\n",
              "      <td>1</td>\n",
              "      <td>0</td>\n",
              "      <td>0</td>\n",
              "      <td>0</td>\n",
              "      <td>I will not be returning to Minar in the future...</td>\n",
              "      <td>0.628049</td>\n",
              "      <td>0.158537</td>\n",
              "      <td>0.213415</td>\n",
              "    </tr>\n",
              "    <tr>\n",
              "      <th>9</th>\n",
              "      <td>9</td>\n",
              "      <td>J9KICzF17FLwFWt2AOI57A</td>\n",
              "      <td>4</td>\n",
              "      <td>0</td>\n",
              "      <td>0</td>\n",
              "      <td>0</td>\n",
              "      <td>Its really hard to find good produce in Ritten...</td>\n",
              "      <td>0.628049</td>\n",
              "      <td>0.158537</td>\n",
              "      <td>0.213415</td>\n",
              "    </tr>\n",
              "  </tbody>\n",
              "</table>\n",
              "</div>\n",
              "      <button class=\"colab-df-convert\" onclick=\"convertToInteractive('df-6a592636-e9b5-4456-bdc2-b8a925ca19e7')\"\n",
              "              title=\"Convert this dataframe to an interactive table.\"\n",
              "              style=\"display:none;\">\n",
              "        \n",
              "  <svg xmlns=\"http://www.w3.org/2000/svg\" height=\"24px\"viewBox=\"0 0 24 24\"\n",
              "       width=\"24px\">\n",
              "    <path d=\"M0 0h24v24H0V0z\" fill=\"none\"/>\n",
              "    <path d=\"M18.56 5.44l.94 2.06.94-2.06 2.06-.94-2.06-.94-.94-2.06-.94 2.06-2.06.94zm-11 1L8.5 8.5l.94-2.06 2.06-.94-2.06-.94L8.5 2.5l-.94 2.06-2.06.94zm10 10l.94 2.06.94-2.06 2.06-.94-2.06-.94-.94-2.06-.94 2.06-2.06.94z\"/><path d=\"M17.41 7.96l-1.37-1.37c-.4-.4-.92-.59-1.43-.59-.52 0-1.04.2-1.43.59L10.3 9.45l-7.72 7.72c-.78.78-.78 2.05 0 2.83L4 21.41c.39.39.9.59 1.41.59.51 0 1.02-.2 1.41-.59l7.78-7.78 2.81-2.81c.8-.78.8-2.07 0-2.86zM5.41 20L4 18.59l7.72-7.72 1.47 1.35L5.41 20z\"/>\n",
              "  </svg>\n",
              "      </button>\n",
              "      \n",
              "  <style>\n",
              "    .colab-df-container {\n",
              "      display:flex;\n",
              "      flex-wrap:wrap;\n",
              "      gap: 12px;\n",
              "    }\n",
              "\n",
              "    .colab-df-convert {\n",
              "      background-color: #E8F0FE;\n",
              "      border: none;\n",
              "      border-radius: 50%;\n",
              "      cursor: pointer;\n",
              "      display: none;\n",
              "      fill: #1967D2;\n",
              "      height: 32px;\n",
              "      padding: 0 0 0 0;\n",
              "      width: 32px;\n",
              "    }\n",
              "\n",
              "    .colab-df-convert:hover {\n",
              "      background-color: #E2EBFA;\n",
              "      box-shadow: 0px 1px 2px rgba(60, 64, 67, 0.3), 0px 1px 3px 1px rgba(60, 64, 67, 0.15);\n",
              "      fill: #174EA6;\n",
              "    }\n",
              "\n",
              "    [theme=dark] .colab-df-convert {\n",
              "      background-color: #3B4455;\n",
              "      fill: #D2E3FC;\n",
              "    }\n",
              "\n",
              "    [theme=dark] .colab-df-convert:hover {\n",
              "      background-color: #434B5C;\n",
              "      box-shadow: 0px 1px 3px 1px rgba(0, 0, 0, 0.15);\n",
              "      filter: drop-shadow(0px 1px 2px rgba(0, 0, 0, 0.3));\n",
              "      fill: #FFFFFF;\n",
              "    }\n",
              "  </style>\n",
              "\n",
              "      <script>\n",
              "        const buttonEl =\n",
              "          document.querySelector('#df-6a592636-e9b5-4456-bdc2-b8a925ca19e7 button.colab-df-convert');\n",
              "        buttonEl.style.display =\n",
              "          google.colab.kernel.accessAllowed ? 'block' : 'none';\n",
              "\n",
              "        async function convertToInteractive(key) {\n",
              "          const element = document.querySelector('#df-6a592636-e9b5-4456-bdc2-b8a925ca19e7');\n",
              "          const dataTable =\n",
              "            await google.colab.kernel.invokeFunction('convertToInteractive',\n",
              "                                                     [key], {});\n",
              "          if (!dataTable) return;\n",
              "\n",
              "          const docLinkHtml = 'Like what you see? Visit the ' +\n",
              "            '<a target=\"_blank\" href=https://colab.research.google.com/notebooks/data_table.ipynb>data table notebook</a>'\n",
              "            + ' to learn more about interactive tables.';\n",
              "          element.innerHTML = '';\n",
              "          dataTable['output_type'] = 'display_data';\n",
              "          await google.colab.output.renderOutput(dataTable, element);\n",
              "          const docLink = document.createElement('div');\n",
              "          docLink.innerHTML = docLinkHtml;\n",
              "          element.appendChild(docLink);\n",
              "        }\n",
              "      </script>\n",
              "    </div>\n",
              "  </div>\n",
              "  "
            ]
          },
          "metadata": {},
          "execution_count": 4
        }
      ]
    },
    {
      "cell_type": "code",
      "source": [
        "def setHistLabels(title):\n",
        "  plt.title(title + ' Score Distribution')\n",
        "  plt.xlabel('Number of Votes')\n",
        "  plt.ylabel('Number of Reviews')\n",
        "\n",
        "# Review scores distribution of U,F,C\n",
        "hist = df.hist(bins=[0, 1, 2, 3, 4, 5, 6, 7, 8, 9, 10], column=[\"funny\"])\n",
        "setHistLabels(\"Funny\")\n",
        "hist = df.hist(bins=[1, 2, 3, 4, 5, 6, 7, 8, 9, 10], column=[\"funny\"])\n",
        "setHistLabels(\"Funny without 0\")\n",
        "hist1 = df.hist(bins=[0, 1, 2, 3, 4, 5, 6, 7, 8, 9, 10], column=[\"useful\"])\n",
        "setHistLabels(\"Useful\")\n",
        "hist1 = df.hist(bins=[1, 2, 3, 4, 5, 6, 7, 8, 9, 10], column=[\"useful\"])\n",
        "setHistLabels(\"Useful without 0\")\n",
        "hist2 = df.hist(bins=[0, 1, 2, 3, 4, 5, 6, 7, 8, 9, 10], column=[\"cool\"])\n",
        "setHistLabels(\"Cool\")\n",
        "hist2 = df.hist(bins=[1, 2, 3, 4, 5, 6, 7, 8, 9, 10], column=[\"cool\"])\n",
        "setHistLabels(\"Cool without 0\")\n",
        "\n",
        "del hist\n",
        "del hist1\n",
        "del hist2\n",
        "gc.collect()"
      ],
      "metadata": {
        "colab": {
          "base_uri": "https://localhost:8080/",
          "height": 1000
        },
        "id": "4kuYN_Ovs0AU",
        "outputId": "dc42b455-5cb0-4949-9c86-1d1177e13e59"
      },
      "execution_count": null,
      "outputs": [
        {
          "output_type": "execute_result",
          "data": {
            "text/plain": [
              "0"
            ]
          },
          "metadata": {},
          "execution_count": 5
        },
        {
          "output_type": "display_data",
          "data": {
            "text/plain": [
              "<Figure size 432x288 with 1 Axes>"
            ],
            "image/png": "[encoded data removed]"
          },
          "metadata": {
            "needs_background": "light"
          }
        },
        {
          "output_type": "display_data",
          "data": {
            "text/plain": [
              "<Figure size 432x288 with 1 Axes>"
            ],
            "image/png": "[encoded data removed]"
          },
          "metadata": {
            "needs_background": "light"
          }
        },
        {
          "output_type": "display_data",
          "data": {
            "text/plain": [
              "<Figure size 432x288 with 1 Axes>"
            ],
            "image/png": "[encoded data removed]"
          },
          "metadata": {
            "needs_background": "light"
          }
        },
        {
          "output_type": "display_data",
          "data": {
            "text/plain": [
              "<Figure size 432x288 with 1 Axes>"
            ],
            "image/png": "[encoded data removed]"
          },
          "metadata": {
            "needs_background": "light"
          }
        },
        {
          "output_type": "display_data",
          "data": {
            "text/plain": [
              "<Figure size 432x288 with 1 Axes>"
            ],
            "image/png": "[encoded data removed]"
          },
          "metadata": {
            "needs_background": "light"
          }
        },
        {
          "output_type": "display_data",
          "data": {
            "text/plain": [
              "<Figure size 432x288 with 1 Axes>"
            ],
            "image/png": "[encoded data removed]"
          },
          "metadata": {
            "needs_background": "light"
          }
        }
      ]
    },
    {
      "cell_type": "code",
      "source": [
        "# All 3 features (Useful, Funny, Cool) has high concentration of 0 score (no rating)\n",
        "# To adapt this unbalance distribution while maintaining the majority of the dataset, \n",
        "#  1 will be chosen as the threshold value for all 3 features.\n",
        "# 1/0 indicates success/failure for passing the threshold\n",
        "df['useful_pass'] = np.where(df['useful']>=1, 1, 0)\n",
        "df['funny_pass'] = np.where(df['funny']>=1, 1, 0)\n",
        "df['cool_pass'] = np.where(df['cool']>=1, 1, 0)"
      ],
      "metadata": {
        "id": "0kqaOW87taVa"
      },
      "execution_count": null,
      "outputs": []
    },
    {
      "cell_type": "code",
      "source": [
        "df.tail(10)"
      ],
      "metadata": {
        "colab": {
          "base_uri": "https://localhost:8080/",
          "height": 407
        },
        "id": "qdsyXBWbbQl8",
        "outputId": "bc14844a-80ad-4c49-e3b9-2a203099eae1"
      },
      "execution_count": null,
      "outputs": [
        {
          "output_type": "execute_result",
          "data": {
            "text/plain": [
              "         Unnamed: 0               review_id  stars  useful  funny  cool  \\\n",
              "1398033     1398033  4ZCXEtTf3TFOnP3m1HGyPQ      5       1      0     0   \n",
              "1398034     1398034  L6OuTqrdiLlMqvLFyWayDg      5       0      0     0   \n",
              "1398035     1398035  ZWGBkDaS81RZz-SB0_NFQw      3       0      0     0   \n",
              "1398036     1398036  4DGA9HH18s_ifFO0zeR_SA      1       2      0     0   \n",
              "1398037     1398037  FRxtN_8JSKdiTU0Eks5NBw      1       0      0     0   \n",
              "1398038     1398038  mQNNgVLdcv0pSjo9xpx1ng      5       0      0     0   \n",
              "1398039     1398039  MyrCqiVNZIMdmlwKl45ymg      2       0      0     0   \n",
              "1398040     1398040  dyzFL_d6f5KnuOqdWl-rBA      5       0      0     0   \n",
              "1398041     1398041  BotWI74kUPrGqczTnddejw      5       0      0     0   \n",
              "1398042     1398042  XNvfChtLjzCyDakIfY07TQ      1       0      0     0   \n",
              "\n",
              "                                                      text  user_useful  \\\n",
              "1398033  Everyone was friendly and welcoming. There was...     0.625000   \n",
              "1398034  April and John have been with us for 2 purchas...     0.500000   \n",
              "1398035  2/22/2021 - Huge fan of Mad Mex and haven't be...     0.666667   \n",
              "1398036  Do not take your dogs to the salon. I unfortun...     0.714286   \n",
              "1398037  I experienced a horrible experience and custom...     0.400000   \n",
              "1398038  Best tacos ,burritos and tortas in town!!!\\nRe...     0.333333   \n",
              "1398039  The Mrs. and I tried the updated Diamond Diner...     0.333333   \n",
              "1398040  Not only is this the best Mexican in East Nash...     0.800000   \n",
              "1398041  Loved it. Amazing burgers. A little loud insid...     0.600000   \n",
              "1398042  TLDR: Owner flipping off my wife and charging ...     0.333333   \n",
              "\n",
              "         user_funny  user_cool  useful_pass  funny_pass  cool_pass  \n",
              "1398033    0.125000   0.250000            1           0          0  \n",
              "1398034    0.000000   0.500000            0           0          0  \n",
              "1398035    0.000000   0.333333            0           0          0  \n",
              "1398036    0.000000   0.285714            1           0          0  \n",
              "1398037    0.400000   0.200000            0           0          0  \n",
              "1398038    0.333333   0.333333            0           0          0  \n",
              "1398039    0.333333   0.333333            0           0          0  \n",
              "1398040    0.100000   0.100000            0           0          0  \n",
              "1398041    0.000000   0.400000            0           0          0  \n",
              "1398042    0.333333   0.333333            0           0          0  "
            ],
            "text/html": [
              "\n",
              "  <div id=\"df-74a70cf3-544d-4326-97f3-5874e9e762ad\">\n",
              "    <div class=\"colab-df-container\">\n",
              "      <div>\n",
              "<style scoped>\n",
              "    .dataframe tbody tr th:only-of-type {\n",
              "        vertical-align: middle;\n",
              "    }\n",
              "\n",
              "    .dataframe tbody tr th {\n",
              "        vertical-align: top;\n",
              "    }\n",
              "\n",
              "    .dataframe thead th {\n",
              "        text-align: right;\n",
              "    }\n",
              "</style>\n",
              "<table border=\"1\" class=\"dataframe\">\n",
              "  <thead>\n",
              "    <tr style=\"text-align: right;\">\n",
              "      <th></th>\n",
              "      <th>Unnamed: 0</th>\n",
              "      <th>review_id</th>\n",
              "      <th>stars</th>\n",
              "      <th>useful</th>\n",
              "      <th>funny</th>\n",
              "      <th>cool</th>\n",
              "      <th>text</th>\n",
              "      <th>user_useful</th>\n",
              "      <th>user_funny</th>\n",
              "      <th>user_cool</th>\n",
              "      <th>useful_pass</th>\n",
              "      <th>funny_pass</th>\n",
              "      <th>cool_pass</th>\n",
              "    </tr>\n",
              "  </thead>\n",
              "  <tbody>\n",
              "    <tr>\n",
              "      <th>1398033</th>\n",
              "      <td>1398033</td>\n",
              "      <td>4ZCXEtTf3TFOnP3m1HGyPQ</td>\n",
              "      <td>5</td>\n",
              "      <td>1</td>\n",
              "      <td>0</td>\n",
              "      <td>0</td>\n",
              "      <td>Everyone was friendly and welcoming. There was...</td>\n",
              "      <td>0.625000</td>\n",
              "      <td>0.125000</td>\n",
              "      <td>0.250000</td>\n",
              "      <td>1</td>\n",
              "      <td>0</td>\n",
              "      <td>0</td>\n",
              "    </tr>\n",
              "    <tr>\n",
              "      <th>1398034</th>\n",
              "      <td>1398034</td>\n",
              "      <td>L6OuTqrdiLlMqvLFyWayDg</td>\n",
              "      <td>5</td>\n",
              "      <td>0</td>\n",
              "      <td>0</td>\n",
              "      <td>0</td>\n",
              "      <td>April and John have been with us for 2 purchas...</td>\n",
              "      <td>0.500000</td>\n",
              "      <td>0.000000</td>\n",
              "      <td>0.500000</td>\n",
              "      <td>0</td>\n",
              "      <td>0</td>\n",
              "      <td>0</td>\n",
              "    </tr>\n",
              "    <tr>\n",
              "      <th>1398035</th>\n",
              "      <td>1398035</td>\n",
              "      <td>ZWGBkDaS81RZz-SB0_NFQw</td>\n",
              "      <td>3</td>\n",
              "      <td>0</td>\n",
              "      <td>0</td>\n",
              "      <td>0</td>\n",
              "      <td>2/22/2021 - Huge fan of Mad Mex and haven't be...</td>\n",
              "      <td>0.666667</td>\n",
              "      <td>0.000000</td>\n",
              "      <td>0.333333</td>\n",
              "      <td>0</td>\n",
              "      <td>0</td>\n",
              "      <td>0</td>\n",
              "    </tr>\n",
              "    <tr>\n",
              "      <th>1398036</th>\n",
              "      <td>1398036</td>\n",
              "      <td>4DGA9HH18s_ifFO0zeR_SA</td>\n",
              "      <td>1</td>\n",
              "      <td>2</td>\n",
              "      <td>0</td>\n",
              "      <td>0</td>\n",
              "      <td>Do not take your dogs to the salon. I unfortun...</td>\n",
              "      <td>0.714286</td>\n",
              "      <td>0.000000</td>\n",
              "      <td>0.285714</td>\n",
              "      <td>1</td>\n",
              "      <td>0</td>\n",
              "      <td>0</td>\n",
              "    </tr>\n",
              "    <tr>\n",
              "      <th>1398037</th>\n",
              "      <td>1398037</td>\n",
              "      <td>FRxtN_8JSKdiTU0Eks5NBw</td>\n",
              "      <td>1</td>\n",
              "      <td>0</td>\n",
              "      <td>0</td>\n",
              "      <td>0</td>\n",
              "      <td>I experienced a horrible experience and custom...</td>\n",
              "      <td>0.400000</td>\n",
              "      <td>0.400000</td>\n",
              "      <td>0.200000</td>\n",
              "      <td>0</td>\n",
              "      <td>0</td>\n",
              "      <td>0</td>\n",
              "    </tr>\n",
              "    <tr>\n",
              "      <th>1398038</th>\n",
              "      <td>1398038</td>\n",
              "      <td>mQNNgVLdcv0pSjo9xpx1ng</td>\n",
              "      <td>5</td>\n",
              "      <td>0</td>\n",
              "      <td>0</td>\n",
              "      <td>0</td>\n",
              "      <td>Best tacos ,burritos and tortas in town!!!\\nRe...</td>\n",
              "      <td>0.333333</td>\n",
              "      <td>0.333333</td>\n",
              "      <td>0.333333</td>\n",
              "      <td>0</td>\n",
              "      <td>0</td>\n",
              "      <td>0</td>\n",
              "    </tr>\n",
              "    <tr>\n",
              "      <th>1398039</th>\n",
              "      <td>1398039</td>\n",
              "      <td>MyrCqiVNZIMdmlwKl45ymg</td>\n",
              "      <td>2</td>\n",
              "      <td>0</td>\n",
              "      <td>0</td>\n",
              "      <td>0</td>\n",
              "      <td>The Mrs. and I tried the updated Diamond Diner...</td>\n",
              "      <td>0.333333</td>\n",
              "      <td>0.333333</td>\n",
              "      <td>0.333333</td>\n",
              "      <td>0</td>\n",
              "      <td>0</td>\n",
              "      <td>0</td>\n",
              "    </tr>\n",
              "    <tr>\n",
              "      <th>1398040</th>\n",
              "      <td>1398040</td>\n",
              "      <td>dyzFL_d6f5KnuOqdWl-rBA</td>\n",
              "      <td>5</td>\n",
              "      <td>0</td>\n",
              "      <td>0</td>\n",
              "      <td>0</td>\n",
              "      <td>Not only is this the best Mexican in East Nash...</td>\n",
              "      <td>0.800000</td>\n",
              "      <td>0.100000</td>\n",
              "      <td>0.100000</td>\n",
              "      <td>0</td>\n",
              "      <td>0</td>\n",
              "      <td>0</td>\n",
              "    </tr>\n",
              "    <tr>\n",
              "      <th>1398041</th>\n",
              "      <td>1398041</td>\n",
              "      <td>BotWI74kUPrGqczTnddejw</td>\n",
              "      <td>5</td>\n",
              "      <td>0</td>\n",
              "      <td>0</td>\n",
              "      <td>0</td>\n",
              "      <td>Loved it. Amazing burgers. A little loud insid...</td>\n",
              "      <td>0.600000</td>\n",
              "      <td>0.000000</td>\n",
              "      <td>0.400000</td>\n",
              "      <td>0</td>\n",
              "      <td>0</td>\n",
              "      <td>0</td>\n",
              "    </tr>\n",
              "    <tr>\n",
              "      <th>1398042</th>\n",
              "      <td>1398042</td>\n",
              "      <td>XNvfChtLjzCyDakIfY07TQ</td>\n",
              "      <td>1</td>\n",
              "      <td>0</td>\n",
              "      <td>0</td>\n",
              "      <td>0</td>\n",
              "      <td>TLDR: Owner flipping off my wife and charging ...</td>\n",
              "      <td>0.333333</td>\n",
              "      <td>0.333333</td>\n",
              "      <td>0.333333</td>\n",
              "      <td>0</td>\n",
              "      <td>0</td>\n",
              "      <td>0</td>\n",
              "    </tr>\n",
              "  </tbody>\n",
              "</table>\n",
              "</div>\n",
              "      <button class=\"colab-df-convert\" onclick=\"convertToInteractive('df-74a70cf3-544d-4326-97f3-5874e9e762ad')\"\n",
              "              title=\"Convert this dataframe to an interactive table.\"\n",
              "              style=\"display:none;\">\n",
              "        \n",
              "  <svg xmlns=\"http://www.w3.org/2000/svg\" height=\"24px\"viewBox=\"0 0 24 24\"\n",
              "       width=\"24px\">\n",
              "    <path d=\"M0 0h24v24H0V0z\" fill=\"none\"/>\n",
              "    <path d=\"M18.56 5.44l.94 2.06.94-2.06 2.06-.94-2.06-.94-.94-2.06-.94 2.06-2.06.94zm-11 1L8.5 8.5l.94-2.06 2.06-.94-2.06-.94L8.5 2.5l-.94 2.06-2.06.94zm10 10l.94 2.06.94-2.06 2.06-.94-2.06-.94-.94-2.06-.94 2.06-2.06.94z\"/><path d=\"M17.41 7.96l-1.37-1.37c-.4-.4-.92-.59-1.43-.59-.52 0-1.04.2-1.43.59L10.3 9.45l-7.72 7.72c-.78.78-.78 2.05 0 2.83L4 21.41c.39.39.9.59 1.41.59.51 0 1.02-.2 1.41-.59l7.78-7.78 2.81-2.81c.8-.78.8-2.07 0-2.86zM5.41 20L4 18.59l7.72-7.72 1.47 1.35L5.41 20z\"/>\n",
              "  </svg>\n",
              "      </button>\n",
              "      \n",
              "  <style>\n",
              "    .colab-df-container {\n",
              "      display:flex;\n",
              "      flex-wrap:wrap;\n",
              "      gap: 12px;\n",
              "    }\n",
              "\n",
              "    .colab-df-convert {\n",
              "      background-color: #E8F0FE;\n",
              "      border: none;\n",
              "      border-radius: 50%;\n",
              "      cursor: pointer;\n",
              "      display: none;\n",
              "      fill: #1967D2;\n",
              "      height: 32px;\n",
              "      padding: 0 0 0 0;\n",
              "      width: 32px;\n",
              "    }\n",
              "\n",
              "    .colab-df-convert:hover {\n",
              "      background-color: #E2EBFA;\n",
              "      box-shadow: 0px 1px 2px rgba(60, 64, 67, 0.3), 0px 1px 3px 1px rgba(60, 64, 67, 0.15);\n",
              "      fill: #174EA6;\n",
              "    }\n",
              "\n",
              "    [theme=dark] .colab-df-convert {\n",
              "      background-color: #3B4455;\n",
              "      fill: #D2E3FC;\n",
              "    }\n",
              "\n",
              "    [theme=dark] .colab-df-convert:hover {\n",
              "      background-color: #434B5C;\n",
              "      box-shadow: 0px 1px 3px 1px rgba(0, 0, 0, 0.15);\n",
              "      filter: drop-shadow(0px 1px 2px rgba(0, 0, 0, 0.3));\n",
              "      fill: #FFFFFF;\n",
              "    }\n",
              "  </style>\n",
              "\n",
              "      <script>\n",
              "        const buttonEl =\n",
              "          document.querySelector('#df-74a70cf3-544d-4326-97f3-5874e9e762ad button.colab-df-convert');\n",
              "        buttonEl.style.display =\n",
              "          google.colab.kernel.accessAllowed ? 'block' : 'none';\n",
              "\n",
              "        async function convertToInteractive(key) {\n",
              "          const element = document.querySelector('#df-74a70cf3-544d-4326-97f3-5874e9e762ad');\n",
              "          const dataTable =\n",
              "            await google.colab.kernel.invokeFunction('convertToInteractive',\n",
              "                                                     [key], {});\n",
              "          if (!dataTable) return;\n",
              "\n",
              "          const docLinkHtml = 'Like what you see? Visit the ' +\n",
              "            '<a target=\"_blank\" href=https://colab.research.google.com/notebooks/data_table.ipynb>data table notebook</a>'\n",
              "            + ' to learn more about interactive tables.';\n",
              "          element.innerHTML = '';\n",
              "          dataTable['output_type'] = 'display_data';\n",
              "          await google.colab.output.renderOutput(dataTable, element);\n",
              "          const docLink = document.createElement('div');\n",
              "          docLink.innerHTML = docLinkHtml;\n",
              "          element.appendChild(docLink);\n",
              "        }\n",
              "      </script>\n",
              "    </div>\n",
              "  </div>\n",
              "  "
            ]
          },
          "metadata": {},
          "execution_count": 7
        }
      ]
    },
    {
      "cell_type": "code",
      "source": [
        "# Double check sentiments correcta after import from Drive\n",
        "print(df[\"funny\"].max())\n",
        "print(df[\"funny\"].mean())\n",
        "print(df[\"useful\"].max())\n",
        "print(df[\"useful\"].mean())\n",
        "print(df[\"cool\"].max())\n",
        "print(df[\"cool\"].mean())"
      ],
      "metadata": {
        "id": "GGKEI6nzIHi1"
      },
      "execution_count": null,
      "outputs": []
    },
    {
      "cell_type": "markdown",
      "source": [
        "Seeing the sentiment distribution"
      ],
      "metadata": {
        "id": "orAAollFyj_K"
      }
    },
    {
      "cell_type": "code",
      "source": [
        "sns.set(style='darkgrid')\n",
        "ax = sns.countplot(x='useful_pass', data=df)\n",
        "plt.show()\n",
        "\n",
        "sns.set(style='darkgrid')\n",
        "ax = sns.countplot(x='funny_pass', data=df)\n",
        "plt.show()\n",
        "\n",
        "sns.set(style='darkgrid')\n",
        "ax = sns.countplot(x='cool_pass', data=df)\n",
        "plt.show()"
      ],
      "metadata": {
        "colab": {
          "base_uri": "https://localhost:8080/",
          "height": 845
        },
        "id": "_zhPJYgDwoVP",
        "outputId": "fdf63db0-cba9-4f83-8568-48fbaa505f26"
      },
      "execution_count": null,
      "outputs": [
        {
          "output_type": "display_data",
          "data": {
            "text/plain": [
              "<Figure size 432x288 with 1 Axes>"
            ],
            "image/png": "[encoded data removed]"
          },
          "metadata": {}
        },
        {
          "output_type": "display_data",
          "data": {
            "text/plain": [
              "<Figure size 432x288 with 1 Axes>"
            ],
            "image/png": "[encoded data removed]"
          },
          "metadata": {}
        },
        {
          "output_type": "display_data",
          "data": {
            "text/plain": [
              "<Figure size 432x288 with 1 Axes>"
            ],
            "image/png": "[encoded data removed]"
          },
          "metadata": {}
        }
      ]
    },
    {
      "cell_type": "markdown",
      "source": [
        "####Resampling one label cannot solve imbalance of others, so we move on with this imbalanced distribution of dataset."
      ],
      "metadata": {
        "id": "r8Gx5NuIlmjE"
      }
    },
    {
      "cell_type": "markdown",
      "source": [
        "# Task 2 - Can we predict whether a review hits thresholds for sentiments? (boolean outputs for Useful, Funny, and Cool)"
      ],
      "metadata": {
        "id": "v3BKIYzRoBQN"
      }
    },
    {
      "cell_type": "markdown",
      "source": [
        "## Approach 1: Multi-label Text Classification Model with Single Output Layer"
      ],
      "metadata": {
        "id": "biKDqw63A21R"
      }
    },
    {
      "cell_type": "code",
      "source": [
        "def preprocess_text(sen):\n",
        "    # Remove punctuations and numbers\n",
        "    sentence = re.sub('[^a-zA-Z]', ' ', sen)\n",
        "    # Single character removal\n",
        "    sentence = re.sub(r\"\\s+[a-zA-Z]\\s+\", ' ', sentence)\n",
        "    # Removing multiple spaces\n",
        "    sentence = re.sub(r'\\s+', ' ', sentence)\n",
        "\n",
        "    return sentence"
      ],
      "metadata": {
        "id": "Qiouqo1U1rUO"
      },
      "execution_count": null,
      "outputs": []
    },
    {
      "cell_type": "code",
      "source": [
        "df['preprocessed_text'] = df['text'].apply(preprocess_text)\n",
        "df.head(10)"
      ],
      "metadata": {
        "colab": {
          "base_uri": "https://localhost:8080/",
          "height": 598
        },
        "id": "OSF68YAm198x",
        "outputId": "e0a55318-e59e-434a-a28b-6ade9598b30b"
      },
      "execution_count": null,
      "outputs": [
        {
          "output_type": "execute_result",
          "data": {
            "text/plain": [
              "   Unnamed: 0               review_id  stars  useful  funny  cool  \\\n",
              "0           0  BFaW6f0VQ1BHCF0JCtDkyg      4       5      3     2   \n",
              "1           1  5cjA-ZZDdZDqQgzhIRLyCw      4       0      0     0   \n",
              "2           2  4WuqRDC--to0vSiFhSYwXQ      4       1      0     2   \n",
              "3           3  B5xq-_eZK7wAmzqwRTSGIw      3       1      1     0   \n",
              "4           4  SF0TjRXMZG0Ky4NsY887Aw      4       0      0     0   \n",
              "5           5  KhmqvdkCSz-I--GqE9y8vA      5       1      0     0   \n",
              "6           6  hoWQGSgMYkMsrN-ClgiSEg      5       0      0     0   \n",
              "7           7  CJZwchkHlrkXQa9wJTOQpQ      4       2      0     2   \n",
              "8           8  lPHydYGuTRD5ncmGL6q01g      1       0      0     0   \n",
              "9           9  J9KICzF17FLwFWt2AOI57A      4       0      0     0   \n",
              "\n",
              "                                                text  user_useful  user_funny  \\\n",
              "0  I lived here for two years and really liked it...     0.628049    0.158537   \n",
              "1  We had a groupon/living social (some deal!) fo...     0.628049    0.158537   \n",
              "2  I've had lunch many times and its a great deal...     0.628049    0.158537   \n",
              "3  We arranged for a rather large group at Jolly'...     0.628049    0.158537   \n",
              "4  5 stars for the chocolate pizza (with bananas ...     0.628049    0.158537   \n",
              "5  It's best to go on off days/times, but this pl...     0.628049    0.158537   \n",
              "6  I love ESP.  \\n\\nI went to their Halloween eve...     0.628049    0.158537   \n",
              "7  I've been here twice now and have had a facial...     0.628049    0.158537   \n",
              "8  I will not be returning to Minar in the future...     0.628049    0.158537   \n",
              "9  Its really hard to find good produce in Ritten...     0.628049    0.158537   \n",
              "\n",
              "   user_cool  useful_pass  funny_pass  cool_pass  \\\n",
              "0   0.213415            1           1          1   \n",
              "1   0.213415            0           0          0   \n",
              "2   0.213415            1           0          1   \n",
              "3   0.213415            1           1          0   \n",
              "4   0.213415            0           0          0   \n",
              "5   0.213415            1           0          0   \n",
              "6   0.213415            0           0          0   \n",
              "7   0.213415            1           0          1   \n",
              "8   0.213415            0           0          0   \n",
              "9   0.213415            0           0          0   \n",
              "\n",
              "                                   preprocessed_text  \n",
              "0  I lived here for two years and really liked it...  \n",
              "1  We had groupon living social some deal for Max...  \n",
              "2  I ve had lunch many times and its great deal i...  \n",
              "3  We arranged for rather large group at Jolly an...  \n",
              "4   stars for the chocolate pizza with bananas an...  \n",
              "5  It best to go on off days times but this place...  \n",
              "6  I love ESP went to their Halloween event and l...  \n",
              "7  I ve been here twice now and have had facial a...  \n",
              "8  I will not be returning to Minar in the future...  \n",
              "9  Its really hard to find good produce in Ritten...  "
            ],
            "text/html": [
              "\n",
              "  <div id=\"df-2ed69f7e-c927-4992-a461-14a290e9a12c\">\n",
              "    <div class=\"colab-df-container\">\n",
              "      <div>\n",
              "<style scoped>\n",
              "    .dataframe tbody tr th:only-of-type {\n",
              "        vertical-align: middle;\n",
              "    }\n",
              "\n",
              "    .dataframe tbody tr th {\n",
              "        vertical-align: top;\n",
              "    }\n",
              "\n",
              "    .dataframe thead th {\n",
              "        text-align: right;\n",
              "    }\n",
              "</style>\n",
              "<table border=\"1\" class=\"dataframe\">\n",
              "  <thead>\n",
              "    <tr style=\"text-align: right;\">\n",
              "      <th></th>\n",
              "      <th>Unnamed: 0</th>\n",
              "      <th>review_id</th>\n",
              "      <th>stars</th>\n",
              "      <th>useful</th>\n",
              "      <th>funny</th>\n",
              "      <th>cool</th>\n",
              "      <th>text</th>\n",
              "      <th>user_useful</th>\n",
              "      <th>user_funny</th>\n",
              "      <th>user_cool</th>\n",
              "      <th>useful_pass</th>\n",
              "      <th>funny_pass</th>\n",
              "      <th>cool_pass</th>\n",
              "      <th>preprocessed_text</th>\n",
              "    </tr>\n",
              "  </thead>\n",
              "  <tbody>\n",
              "    <tr>\n",
              "      <th>0</th>\n",
              "      <td>0</td>\n",
              "      <td>BFaW6f0VQ1BHCF0JCtDkyg</td>\n",
              "      <td>4</td>\n",
              "      <td>5</td>\n",
              "      <td>3</td>\n",
              "      <td>2</td>\n",
              "      <td>I lived here for two years and really liked it...</td>\n",
              "      <td>0.628049</td>\n",
              "      <td>0.158537</td>\n",
              "      <td>0.213415</td>\n",
              "      <td>1</td>\n",
              "      <td>1</td>\n",
              "      <td>1</td>\n",
              "      <td>I lived here for two years and really liked it...</td>\n",
              "    </tr>\n",
              "    <tr>\n",
              "      <th>1</th>\n",
              "      <td>1</td>\n",
              "      <td>5cjA-ZZDdZDqQgzhIRLyCw</td>\n",
              "      <td>4</td>\n",
              "      <td>0</td>\n",
              "      <td>0</td>\n",
              "      <td>0</td>\n",
              "      <td>We had a groupon/living social (some deal!) fo...</td>\n",
              "      <td>0.628049</td>\n",
              "      <td>0.158537</td>\n",
              "      <td>0.213415</td>\n",
              "      <td>0</td>\n",
              "      <td>0</td>\n",
              "      <td>0</td>\n",
              "      <td>We had groupon living social some deal for Max...</td>\n",
              "    </tr>\n",
              "    <tr>\n",
              "      <th>2</th>\n",
              "      <td>2</td>\n",
              "      <td>4WuqRDC--to0vSiFhSYwXQ</td>\n",
              "      <td>4</td>\n",
              "      <td>1</td>\n",
              "      <td>0</td>\n",
              "      <td>2</td>\n",
              "      <td>I've had lunch many times and its a great deal...</td>\n",
              "      <td>0.628049</td>\n",
              "      <td>0.158537</td>\n",
              "      <td>0.213415</td>\n",
              "      <td>1</td>\n",
              "      <td>0</td>\n",
              "      <td>1</td>\n",
              "      <td>I ve had lunch many times and its great deal i...</td>\n",
              "    </tr>\n",
              "    <tr>\n",
              "      <th>3</th>\n",
              "      <td>3</td>\n",
              "      <td>B5xq-_eZK7wAmzqwRTSGIw</td>\n",
              "      <td>3</td>\n",
              "      <td>1</td>\n",
              "      <td>1</td>\n",
              "      <td>0</td>\n",
              "      <td>We arranged for a rather large group at Jolly'...</td>\n",
              "      <td>0.628049</td>\n",
              "      <td>0.158537</td>\n",
              "      <td>0.213415</td>\n",
              "      <td>1</td>\n",
              "      <td>1</td>\n",
              "      <td>0</td>\n",
              "      <td>We arranged for rather large group at Jolly an...</td>\n",
              "    </tr>\n",
              "    <tr>\n",
              "      <th>4</th>\n",
              "      <td>4</td>\n",
              "      <td>SF0TjRXMZG0Ky4NsY887Aw</td>\n",
              "      <td>4</td>\n",
              "      <td>0</td>\n",
              "      <td>0</td>\n",
              "      <td>0</td>\n",
              "      <td>5 stars for the chocolate pizza (with bananas ...</td>\n",
              "      <td>0.628049</td>\n",
              "      <td>0.158537</td>\n",
              "      <td>0.213415</td>\n",
              "      <td>0</td>\n",
              "      <td>0</td>\n",
              "      <td>0</td>\n",
              "      <td>stars for the chocolate pizza with bananas an...</td>\n",
              "    </tr>\n",
              "    <tr>\n",
              "      <th>5</th>\n",
              "      <td>5</td>\n",
              "      <td>KhmqvdkCSz-I--GqE9y8vA</td>\n",
              "      <td>5</td>\n",
              "      <td>1</td>\n",
              "      <td>0</td>\n",
              "      <td>0</td>\n",
              "      <td>It's best to go on off days/times, but this pl...</td>\n",
              "      <td>0.628049</td>\n",
              "      <td>0.158537</td>\n",
              "      <td>0.213415</td>\n",
              "      <td>1</td>\n",
              "      <td>0</td>\n",
              "      <td>0</td>\n",
              "      <td>It best to go on off days times but this place...</td>\n",
              "    </tr>\n",
              "    <tr>\n",
              "      <th>6</th>\n",
              "      <td>6</td>\n",
              "      <td>hoWQGSgMYkMsrN-ClgiSEg</td>\n",
              "      <td>5</td>\n",
              "      <td>0</td>\n",
              "      <td>0</td>\n",
              "      <td>0</td>\n",
              "      <td>I love ESP.  \\n\\nI went to their Halloween eve...</td>\n",
              "      <td>0.628049</td>\n",
              "      <td>0.158537</td>\n",
              "      <td>0.213415</td>\n",
              "      <td>0</td>\n",
              "      <td>0</td>\n",
              "      <td>0</td>\n",
              "      <td>I love ESP went to their Halloween event and l...</td>\n",
              "    </tr>\n",
              "    <tr>\n",
              "      <th>7</th>\n",
              "      <td>7</td>\n",
              "      <td>CJZwchkHlrkXQa9wJTOQpQ</td>\n",
              "      <td>4</td>\n",
              "      <td>2</td>\n",
              "      <td>0</td>\n",
              "      <td>2</td>\n",
              "      <td>I've been here twice now and have had a facial...</td>\n",
              "      <td>0.628049</td>\n",
              "      <td>0.158537</td>\n",
              "      <td>0.213415</td>\n",
              "      <td>1</td>\n",
              "      <td>0</td>\n",
              "      <td>1</td>\n",
              "      <td>I ve been here twice now and have had facial a...</td>\n",
              "    </tr>\n",
              "    <tr>\n",
              "      <th>8</th>\n",
              "      <td>8</td>\n",
              "      <td>lPHydYGuTRD5ncmGL6q01g</td>\n",
              "      <td>1</td>\n",
              "      <td>0</td>\n",
              "      <td>0</td>\n",
              "      <td>0</td>\n",
              "      <td>I will not be returning to Minar in the future...</td>\n",
              "      <td>0.628049</td>\n",
              "      <td>0.158537</td>\n",
              "      <td>0.213415</td>\n",
              "      <td>0</td>\n",
              "      <td>0</td>\n",
              "      <td>0</td>\n",
              "      <td>I will not be returning to Minar in the future...</td>\n",
              "    </tr>\n",
              "    <tr>\n",
              "      <th>9</th>\n",
              "      <td>9</td>\n",
              "      <td>J9KICzF17FLwFWt2AOI57A</td>\n",
              "      <td>4</td>\n",
              "      <td>0</td>\n",
              "      <td>0</td>\n",
              "      <td>0</td>\n",
              "      <td>Its really hard to find good produce in Ritten...</td>\n",
              "      <td>0.628049</td>\n",
              "      <td>0.158537</td>\n",
              "      <td>0.213415</td>\n",
              "      <td>0</td>\n",
              "      <td>0</td>\n",
              "      <td>0</td>\n",
              "      <td>Its really hard to find good produce in Ritten...</td>\n",
              "    </tr>\n",
              "  </tbody>\n",
              "</table>\n",
              "</div>\n",
              "      <button class=\"colab-df-convert\" onclick=\"convertToInteractive('df-2ed69f7e-c927-4992-a461-14a290e9a12c')\"\n",
              "              title=\"Convert this dataframe to an interactive table.\"\n",
              "              style=\"display:none;\">\n",
              "        \n",
              "  <svg xmlns=\"http://www.w3.org/2000/svg\" height=\"24px\"viewBox=\"0 0 24 24\"\n",
              "       width=\"24px\">\n",
              "    <path d=\"M0 0h24v24H0V0z\" fill=\"none\"/>\n",
              "    <path d=\"M18.56 5.44l.94 2.06.94-2.06 2.06-.94-2.06-.94-.94-2.06-.94 2.06-2.06.94zm-11 1L8.5 8.5l.94-2.06 2.06-.94-2.06-.94L8.5 2.5l-.94 2.06-2.06.94zm10 10l.94 2.06.94-2.06 2.06-.94-2.06-.94-.94-2.06-.94 2.06-2.06.94z\"/><path d=\"M17.41 7.96l-1.37-1.37c-.4-.4-.92-.59-1.43-.59-.52 0-1.04.2-1.43.59L10.3 9.45l-7.72 7.72c-.78.78-.78 2.05 0 2.83L4 21.41c.39.39.9.59 1.41.59.51 0 1.02-.2 1.41-.59l7.78-7.78 2.81-2.81c.8-.78.8-2.07 0-2.86zM5.41 20L4 18.59l7.72-7.72 1.47 1.35L5.41 20z\"/>\n",
              "  </svg>\n",
              "      </button>\n",
              "      \n",
              "  <style>\n",
              "    .colab-df-container {\n",
              "      display:flex;\n",
              "      flex-wrap:wrap;\n",
              "      gap: 12px;\n",
              "    }\n",
              "\n",
              "    .colab-df-convert {\n",
              "      background-color: #E8F0FE;\n",
              "      border: none;\n",
              "      border-radius: 50%;\n",
              "      cursor: pointer;\n",
              "      display: none;\n",
              "      fill: #1967D2;\n",
              "      height: 32px;\n",
              "      padding: 0 0 0 0;\n",
              "      width: 32px;\n",
              "    }\n",
              "\n",
              "    .colab-df-convert:hover {\n",
              "      background-color: #E2EBFA;\n",
              "      box-shadow: 0px 1px 2px rgba(60, 64, 67, 0.3), 0px 1px 3px 1px rgba(60, 64, 67, 0.15);\n",
              "      fill: #174EA6;\n",
              "    }\n",
              "\n",
              "    [theme=dark] .colab-df-convert {\n",
              "      background-color: #3B4455;\n",
              "      fill: #D2E3FC;\n",
              "    }\n",
              "\n",
              "    [theme=dark] .colab-df-convert:hover {\n",
              "      background-color: #434B5C;\n",
              "      box-shadow: 0px 1px 3px 1px rgba(0, 0, 0, 0.15);\n",
              "      filter: drop-shadow(0px 1px 2px rgba(0, 0, 0, 0.3));\n",
              "      fill: #FFFFFF;\n",
              "    }\n",
              "  </style>\n",
              "\n",
              "      <script>\n",
              "        const buttonEl =\n",
              "          document.querySelector('#df-2ed69f7e-c927-4992-a461-14a290e9a12c button.colab-df-convert');\n",
              "        buttonEl.style.display =\n",
              "          google.colab.kernel.accessAllowed ? 'block' : 'none';\n",
              "\n",
              "        async function convertToInteractive(key) {\n",
              "          const element = document.querySelector('#df-2ed69f7e-c927-4992-a461-14a290e9a12c');\n",
              "          const dataTable =\n",
              "            await google.colab.kernel.invokeFunction('convertToInteractive',\n",
              "                                                     [key], {});\n",
              "          if (!dataTable) return;\n",
              "\n",
              "          const docLinkHtml = 'Like what you see? Visit the ' +\n",
              "            '<a target=\"_blank\" href=https://colab.research.google.com/notebooks/data_table.ipynb>data table notebook</a>'\n",
              "            + ' to learn more about interactive tables.';\n",
              "          element.innerHTML = '';\n",
              "          dataTable['output_type'] = 'display_data';\n",
              "          await google.colab.output.renderOutput(dataTable, element);\n",
              "          const docLink = document.createElement('div');\n",
              "          docLink.innerHTML = docLinkHtml;\n",
              "          element.appendChild(docLink);\n",
              "        }\n",
              "      </script>\n",
              "    </div>\n",
              "  </div>\n",
              "  "
            ]
          },
          "metadata": {},
          "execution_count": 11
        }
      ]
    },
    {
      "cell_type": "code",
      "source": [
        "reviews = []\n",
        "sentences = list(df['preprocessed_text'])\n",
        "for sen in sentences:\n",
        "    reviews.append(preprocess_text(sen))\n",
        "\n",
        "yelp_labels = df[[\"useful_pass\", \"funny_pass\", \"cool_pass\"]]\n",
        "yelp_labels.head()\n",
        "gc.collect()"
      ],
      "metadata": {
        "colab": {
          "base_uri": "https://localhost:8080/"
        },
        "id": "FJGvjec4CV1P",
        "outputId": "3f3b9dd5-aed5-44da-b1a5-f0ec8fb2e326"
      },
      "execution_count": null,
      "outputs": [
        {
          "output_type": "execute_result",
          "data": {
            "text/plain": [
              "22649"
            ]
          },
          "metadata": {},
          "execution_count": 12
        }
      ]
    },
    {
      "cell_type": "code",
      "source": [
        "X_train, X_test, y_train, y_test = train_test_split(reviews, yelp_labels.values, test_size=0.20, random_state=42)"
      ],
      "metadata": {
        "id": "R0E5piMG7LY7"
      },
      "execution_count": null,
      "outputs": []
    },
    {
      "cell_type": "code",
      "source": [
        "from keras.preprocessing.text import Tokenizer\n",
        "from keras_preprocessing.sequence import pad_sequences"
      ],
      "metadata": {
        "id": "iJJZgdNo8hs_"
      },
      "execution_count": null,
      "outputs": []
    },
    {
      "cell_type": "code",
      "source": [
        "tokenizer = Tokenizer(num_words=5000)\n",
        "tokenizer.fit_on_texts(X_train)\n",
        "\n",
        "X_train = tokenizer.texts_to_sequences(X_train)\n",
        "X_test = tokenizer.texts_to_sequences(X_test)\n",
        "\n",
        "vocab_size = len(tokenizer.word_index) + 1\n",
        "\n",
        "maxlen = 200\n",
        "X_train = pad_sequences(X_train, padding='post', maxlen=maxlen)\n",
        "X_test = pad_sequences(X_test, padding='post', maxlen=maxlen)\n",
        "\n",
        "gc.collect()"
      ],
      "metadata": {
        "colab": {
          "base_uri": "https://localhost:8080/"
        },
        "id": "qzjcx57Z7SEx",
        "outputId": "ee5de39e-9612-48d6-9782-12642a388e81"
      },
      "execution_count": null,
      "outputs": [
        {
          "output_type": "execute_result",
          "data": {
            "text/plain": [
              "0"
            ]
          },
          "metadata": {},
          "execution_count": 15
        }
      ]
    },
    {
      "cell_type": "code",
      "source": [
        "!wget http://nlp.stanford.edu/data/glove.6B.zip\n",
        "!unzip -q glove.6B.zip"
      ],
      "metadata": {
        "colab": {
          "base_uri": "https://localhost:8080/"
        },
        "id": "sORDdw0r-ckS",
        "outputId": "758eb66b-9359-44af-e92e-b005e3bb10b7"
      },
      "execution_count": null,
      "outputs": [
        {
          "output_type": "stream",
          "name": "stdout",
          "text": [
            "--2022-12-15 03:03:28--  http://nlp.stanford.edu/data/glove.6B.zip\n",
            "Resolving nlp.stanford.edu (nlp.stanford.edu)... 171.64.67.140\n",
            "Connecting to nlp.stanford.edu (nlp.stanford.edu)|171.64.67.140|:80... connected.\n",
            "HTTP request sent, awaiting response... 302 Found\n",
            "Location: https://nlp.stanford.edu/data/glove.6B.zip [following]\n",
            "--2022-12-15 03:03:28--  https://nlp.stanford.edu/data/glove.6B.zip\n",
            "Connecting to nlp.stanford.edu (nlp.stanford.edu)|171.64.67.140|:443... connected.\n",
            "HTTP request sent, awaiting response... 301 Moved Permanently\n",
            "Location: https://downloads.cs.stanford.edu/nlp/data/glove.6B.zip [following]\n",
            "--2022-12-15 03:03:29--  https://downloads.cs.stanford.edu/nlp/data/glove.6B.zip\n",
            "Resolving downloads.cs.stanford.edu (downloads.cs.stanford.edu)... 171.64.64.22\n",
            "Connecting to downloads.cs.stanford.edu (downloads.cs.stanford.edu)|171.64.64.22|:443... connected.\n",
            "HTTP request sent, awaiting response... 200 OK\n",
            "Length: 862182613 (822M) [application/zip]\n",
            "Saving to: ‘glove.6B.zip’\n",
            "\n",
            "glove.6B.zip        100%[===================>] 822.24M  5.02MB/s    in 2m 39s  \n",
            "\n",
            "2022-12-15 03:06:08 (5.18 MB/s) - ‘glove.6B.zip’ saved [862182613/862182613]\n",
            "\n"
          ]
        }
      ]
    },
    {
      "cell_type": "code",
      "source": [
        "from numpy import array\n",
        "from numpy import asarray\n",
        "from numpy import zeros\n",
        "\n",
        "embeddings_dictionary = dict()\n",
        "\n",
        "glove_file = open('glove.6B.100d.txt', encoding=\"utf8\")\n",
        "\n",
        "for line in glove_file:\n",
        "    records = line.split()\n",
        "    word = records[0]\n",
        "    vector_dimensions = asarray(records[1:], dtype='float32')\n",
        "    embeddings_dictionary[word] = vector_dimensions\n",
        "glove_file.close()\n",
        "\n",
        "embedding_matrix = zeros((vocab_size, 100))\n",
        "for word, index in tokenizer.word_index.items():\n",
        "    embedding_vector = embeddings_dictionary.get(word)\n",
        "    if embedding_vector is not None:\n",
        "        embedding_matrix[index] = embedding_vector\n",
        "\n",
        "gc.collect()"
      ],
      "metadata": {
        "colab": {
          "base_uri": "https://localhost:8080/"
        },
        "id": "YCYaGF4r7auu",
        "outputId": "cd34fded-7770-49c9-d306-854ad8f4df9c"
      },
      "execution_count": null,
      "outputs": [
        {
          "output_type": "execute_result",
          "data": {
            "text/plain": [
              "0"
            ]
          },
          "metadata": {},
          "execution_count": 17
        }
      ]
    },
    {
      "cell_type": "code",
      "source": [
        "from keras.layers import Flatten, LSTM, Input\n",
        "from keras.models import Model\n",
        "from keras.layers.core import Activation, Dropout, Dense\n",
        "from tensorflow.keras.layers import Embedding\n",
        "\n",
        "deep_inputs = Input(shape=(maxlen,))\n",
        "embedding_layer = Embedding(vocab_size, 100, weights=[embedding_matrix], trainable=False)(deep_inputs)\n",
        "LSTM_Layer_1 = LSTM(128)(embedding_layer)\n",
        "dense_layer_1 = Dense(3, activation='sigmoid')(LSTM_Layer_1)\n",
        "model = Model(inputs=deep_inputs, outputs=dense_layer_1)\n",
        "\n",
        "model.compile(loss='binary_crossentropy', optimizer='adam', metrics=['acc'])\n",
        "print(model.summary())"
      ],
      "metadata": {
        "colab": {
          "base_uri": "https://localhost:8080/"
        },
        "id": "8_1SgJ029Kz5",
        "outputId": "3f4376ae-6c1e-47ef-b269-d609e1f3c00d"
      },
      "execution_count": null,
      "outputs": [
        {
          "output_type": "stream",
          "name": "stdout",
          "text": [
            "Model: \"model\"\n",
            "_________________________________________________________________\n",
            " Layer (type)                Output Shape              Param #   \n",
            "=================================================================\n",
            " input_1 (InputLayer)        [(None, 200)]             0         \n",
            "                                                                 \n",
            " embedding (Embedding)       (None, 200, 100)          22152700  \n",
            "                                                                 \n",
            " lstm (LSTM)                 (None, 128)               117248    \n",
            "                                                                 \n",
            " dense (Dense)               (None, 3)                 387       \n",
            "                                                                 \n",
            "=================================================================\n",
            "Total params: 22,270,335\n",
            "Trainable params: 117,635\n",
            "Non-trainable params: 22,152,700\n",
            "_________________________________________________________________\n",
            "None\n"
          ]
        }
      ]
    },
    {
      "cell_type": "code",
      "source": [
        "history = model.fit(X_train, y_train, batch_size=128, epochs=5, verbose=1, validation_split=0.2)"
      ],
      "metadata": {
        "colab": {
          "base_uri": "https://localhost:8080/"
        },
        "id": "8ytLpCWw_wff",
        "outputId": "7e81392d-ee7d-4be5-a2db-d95684d21419"
      },
      "execution_count": null,
      "outputs": [
        {
          "output_type": "stream",
          "name": "stdout",
          "text": [
            "Epoch 1/5\n",
            "6991/6991 [==============================] - 3143s 449ms/step - loss: 0.5170 - acc: 0.9431 - val_loss: 0.5080 - val_acc: 0.9427\n",
            "Epoch 2/5\n",
            "6991/6991 [==============================] - 3178s 455ms/step - loss: 0.5053 - acc: 0.9432 - val_loss: 0.5038 - val_acc: 0.9427\n",
            "Epoch 3/5\n",
            "6991/6991 [==============================] - 3254s 465ms/step - loss: 0.5017 - acc: 0.9431 - val_loss: 0.5014 - val_acc: 0.9427\n",
            "Epoch 4/5\n",
            "6991/6991 [==============================] - 3244s 464ms/step - loss: 0.4993 - acc: 0.9430 - val_loss: 0.5015 - val_acc: 0.9425\n",
            "Epoch 5/5\n",
            "6991/6991 [==============================] - 3187s 456ms/step - loss: 0.4972 - acc: 0.9428 - val_loss: 0.5013 - val_acc: 0.9424\n"
          ]
        }
      ]
    },
    {
      "cell_type": "code",
      "source": [
        "score = model.evaluate(X_test, y_test, verbose=1)\n",
        "\n",
        "print(\"Test Score:\", score[0])\n",
        "print(\"Test Accuracy:\", score[1])"
      ],
      "metadata": {
        "colab": {
          "base_uri": "https://localhost:8080/"
        },
        "id": "IKx6LknY_xXF",
        "outputId": "8b42c9af-5b8d-4a2c-ce3c-b72738538905"
      },
      "execution_count": null,
      "outputs": [
        {
          "output_type": "stream",
          "name": "stdout",
          "text": [
            "8738/8738 [==============================] - 643s 74ms/step - loss: 0.5009 - acc: 0.9424\n",
            "Test Score: 0.5009253621101379\n",
            "Test Accuracy: 0.9423945546150208\n"
          ]
        }
      ]
    },
    {
      "cell_type": "markdown",
      "source": [
        "# Approach 2: Multi-class Text Classification with Fine tune BERT"
      ],
      "metadata": {
        "id": "yv3EICoYOhZX"
      }
    },
    {
      "cell_type": "code",
      "source": [
        "# Convert U,F,C sentiments into classes\n",
        "# 0 - None         passed\n",
        "# 1 - Only Useful  passed\n",
        "# 2 - Only Funny   passed\n",
        "# 3 - Only Cool    passed\n",
        "# 4 - Useful&Funny passed\n",
        "# 5 - Useful&Cool  passed\n",
        "# 6 - Funny&Cool   passed\n",
        "# 7 - All          passed\n",
        "\n",
        "conditions = [\n",
        "    (df['useful_pass'] == 0) & (df['funny_pass'] == 0) & (df['cool_pass'] == 0),\n",
        "    (df['useful_pass'] == 1) & (df['funny_pass'] == 0) & (df['cool_pass'] == 0),\n",
        "    (df['useful_pass'] == 0) & (df['funny_pass'] == 1) & (df['cool_pass'] == 0),\n",
        "    (df['useful_pass'] == 0) & (df['funny_pass'] == 0) & (df['cool_pass'] == 1),\n",
        "    (df['useful_pass'] == 1) & (df['funny_pass'] == 1) & (df['cool_pass'] == 0),\n",
        "    (df['useful_pass'] == 1) & (df['funny_pass'] == 0) & (df['cool_pass'] == 1),\n",
        "    (df['useful_pass'] == 0) & (df['funny_pass'] == 1) & (df['cool_pass'] == 1),\n",
        "    (df['useful_pass'] == 1) & (df['funny_pass'] == 1) & (df['cool_pass'] == 1)\n",
        "]\n",
        "values = ['0', '1', '2', '3', '4', '5', '6', '7']\n",
        "\n",
        "df['Label'] = np.select(conditions, values)\n",
        "df.head()"
      ],
      "metadata": {
        "colab": {
          "base_uri": "https://localhost:8080/",
          "height": 250
        },
        "id": "S48HUF0k7JHe",
        "outputId": "672c7617-1ba5-43b5-d8c3-c18f00646ab0"
      },
      "execution_count": null,
      "outputs": [
        {
          "output_type": "execute_result",
          "data": {
            "text/plain": [
              "   Unnamed: 0               review_id  stars  useful  funny  cool  \\\n",
              "0           0  BFaW6f0VQ1BHCF0JCtDkyg      4       5      3     2   \n",
              "1           1  5cjA-ZZDdZDqQgzhIRLyCw      4       0      0     0   \n",
              "2           2  4WuqRDC--to0vSiFhSYwXQ      4       1      0     2   \n",
              "3           3  B5xq-_eZK7wAmzqwRTSGIw      3       1      1     0   \n",
              "4           4  SF0TjRXMZG0Ky4NsY887Aw      4       0      0     0   \n",
              "\n",
              "                                                text  user_useful  user_funny  \\\n",
              "0  I lived here for two years and really liked it...     0.628049    0.158537   \n",
              "1  We had a groupon/living social (some deal!) fo...     0.628049    0.158537   \n",
              "2  I've had lunch many times and its a great deal...     0.628049    0.158537   \n",
              "3  We arranged for a rather large group at Jolly'...     0.628049    0.158537   \n",
              "4  5 stars for the chocolate pizza (with bananas ...     0.628049    0.158537   \n",
              "\n",
              "   user_cool  useful_pass  funny_pass  cool_pass Label  \n",
              "0   0.213415            1           1          1     7  \n",
              "1   0.213415            0           0          0     0  \n",
              "2   0.213415            1           0          1     5  \n",
              "3   0.213415            1           1          0     4  \n",
              "4   0.213415            0           0          0     0  "
            ],
            "text/html": [
              "\n",
              "  <div id=\"df-5decef3b-c327-41ed-ad55-838f5a0a5a90\">\n",
              "    <div class=\"colab-df-container\">\n",
              "      <div>\n",
              "<style scoped>\n",
              "    .dataframe tbody tr th:only-of-type {\n",
              "        vertical-align: middle;\n",
              "    }\n",
              "\n",
              "    .dataframe tbody tr th {\n",
              "        vertical-align: top;\n",
              "    }\n",
              "\n",
              "    .dataframe thead th {\n",
              "        text-align: right;\n",
              "    }\n",
              "</style>\n",
              "<table border=\"1\" class=\"dataframe\">\n",
              "  <thead>\n",
              "    <tr style=\"text-align: right;\">\n",
              "      <th></th>\n",
              "      <th>Unnamed: 0</th>\n",
              "      <th>review_id</th>\n",
              "      <th>stars</th>\n",
              "      <th>useful</th>\n",
              "      <th>funny</th>\n",
              "      <th>cool</th>\n",
              "      <th>text</th>\n",
              "      <th>user_useful</th>\n",
              "      <th>user_funny</th>\n",
              "      <th>user_cool</th>\n",
              "      <th>useful_pass</th>\n",
              "      <th>funny_pass</th>\n",
              "      <th>cool_pass</th>\n",
              "      <th>Label</th>\n",
              "    </tr>\n",
              "  </thead>\n",
              "  <tbody>\n",
              "    <tr>\n",
              "      <th>0</th>\n",
              "      <td>0</td>\n",
              "      <td>BFaW6f0VQ1BHCF0JCtDkyg</td>\n",
              "      <td>4</td>\n",
              "      <td>5</td>\n",
              "      <td>3</td>\n",
              "      <td>2</td>\n",
              "      <td>I lived here for two years and really liked it...</td>\n",
              "      <td>0.628049</td>\n",
              "      <td>0.158537</td>\n",
              "      <td>0.213415</td>\n",
              "      <td>1</td>\n",
              "      <td>1</td>\n",
              "      <td>1</td>\n",
              "      <td>7</td>\n",
              "    </tr>\n",
              "    <tr>\n",
              "      <th>1</th>\n",
              "      <td>1</td>\n",
              "      <td>5cjA-ZZDdZDqQgzhIRLyCw</td>\n",
              "      <td>4</td>\n",
              "      <td>0</td>\n",
              "      <td>0</td>\n",
              "      <td>0</td>\n",
              "      <td>We had a groupon/living social (some deal!) fo...</td>\n",
              "      <td>0.628049</td>\n",
              "      <td>0.158537</td>\n",
              "      <td>0.213415</td>\n",
              "      <td>0</td>\n",
              "      <td>0</td>\n",
              "      <td>0</td>\n",
              "      <td>0</td>\n",
              "    </tr>\n",
              "    <tr>\n",
              "      <th>2</th>\n",
              "      <td>2</td>\n",
              "      <td>4WuqRDC--to0vSiFhSYwXQ</td>\n",
              "      <td>4</td>\n",
              "      <td>1</td>\n",
              "      <td>0</td>\n",
              "      <td>2</td>\n",
              "      <td>I've had lunch many times and its a great deal...</td>\n",
              "      <td>0.628049</td>\n",
              "      <td>0.158537</td>\n",
              "      <td>0.213415</td>\n",
              "      <td>1</td>\n",
              "      <td>0</td>\n",
              "      <td>1</td>\n",
              "      <td>5</td>\n",
              "    </tr>\n",
              "    <tr>\n",
              "      <th>3</th>\n",
              "      <td>3</td>\n",
              "      <td>B5xq-_eZK7wAmzqwRTSGIw</td>\n",
              "      <td>3</td>\n",
              "      <td>1</td>\n",
              "      <td>1</td>\n",
              "      <td>0</td>\n",
              "      <td>We arranged for a rather large group at Jolly'...</td>\n",
              "      <td>0.628049</td>\n",
              "      <td>0.158537</td>\n",
              "      <td>0.213415</td>\n",
              "      <td>1</td>\n",
              "      <td>1</td>\n",
              "      <td>0</td>\n",
              "      <td>4</td>\n",
              "    </tr>\n",
              "    <tr>\n",
              "      <th>4</th>\n",
              "      <td>4</td>\n",
              "      <td>SF0TjRXMZG0Ky4NsY887Aw</td>\n",
              "      <td>4</td>\n",
              "      <td>0</td>\n",
              "      <td>0</td>\n",
              "      <td>0</td>\n",
              "      <td>5 stars for the chocolate pizza (with bananas ...</td>\n",
              "      <td>0.628049</td>\n",
              "      <td>0.158537</td>\n",
              "      <td>0.213415</td>\n",
              "      <td>0</td>\n",
              "      <td>0</td>\n",
              "      <td>0</td>\n",
              "      <td>0</td>\n",
              "    </tr>\n",
              "  </tbody>\n",
              "</table>\n",
              "</div>\n",
              "      <button class=\"colab-df-convert\" onclick=\"convertToInteractive('df-5decef3b-c327-41ed-ad55-838f5a0a5a90')\"\n",
              "              title=\"Convert this dataframe to an interactive table.\"\n",
              "              style=\"display:none;\">\n",
              "        \n",
              "  <svg xmlns=\"http://www.w3.org/2000/svg\" height=\"24px\"viewBox=\"0 0 24 24\"\n",
              "       width=\"24px\">\n",
              "    <path d=\"M0 0h24v24H0V0z\" fill=\"none\"/>\n",
              "    <path d=\"M18.56 5.44l.94 2.06.94-2.06 2.06-.94-2.06-.94-.94-2.06-.94 2.06-2.06.94zm-11 1L8.5 8.5l.94-2.06 2.06-.94-2.06-.94L8.5 2.5l-.94 2.06-2.06.94zm10 10l.94 2.06.94-2.06 2.06-.94-2.06-.94-.94-2.06-.94 2.06-2.06.94z\"/><path d=\"M17.41 7.96l-1.37-1.37c-.4-.4-.92-.59-1.43-.59-.52 0-1.04.2-1.43.59L10.3 9.45l-7.72 7.72c-.78.78-.78 2.05 0 2.83L4 21.41c.39.39.9.59 1.41.59.51 0 1.02-.2 1.41-.59l7.78-7.78 2.81-2.81c.8-.78.8-2.07 0-2.86zM5.41 20L4 18.59l7.72-7.72 1.47 1.35L5.41 20z\"/>\n",
              "  </svg>\n",
              "      </button>\n",
              "      \n",
              "  <style>\n",
              "    .colab-df-container {\n",
              "      display:flex;\n",
              "      flex-wrap:wrap;\n",
              "      gap: 12px;\n",
              "    }\n",
              "\n",
              "    .colab-df-convert {\n",
              "      background-color: #E8F0FE;\n",
              "      border: none;\n",
              "      border-radius: 50%;\n",
              "      cursor: pointer;\n",
              "      display: none;\n",
              "      fill: #1967D2;\n",
              "      height: 32px;\n",
              "      padding: 0 0 0 0;\n",
              "      width: 32px;\n",
              "    }\n",
              "\n",
              "    .colab-df-convert:hover {\n",
              "      background-color: #E2EBFA;\n",
              "      box-shadow: 0px 1px 2px rgba(60, 64, 67, 0.3), 0px 1px 3px 1px rgba(60, 64, 67, 0.15);\n",
              "      fill: #174EA6;\n",
              "    }\n",
              "\n",
              "    [theme=dark] .colab-df-convert {\n",
              "      background-color: #3B4455;\n",
              "      fill: #D2E3FC;\n",
              "    }\n",
              "\n",
              "    [theme=dark] .colab-df-convert:hover {\n",
              "      background-color: #434B5C;\n",
              "      box-shadow: 0px 1px 3px 1px rgba(0, 0, 0, 0.15);\n",
              "      filter: drop-shadow(0px 1px 2px rgba(0, 0, 0, 0.3));\n",
              "      fill: #FFFFFF;\n",
              "    }\n",
              "  </style>\n",
              "\n",
              "      <script>\n",
              "        const buttonEl =\n",
              "          document.querySelector('#df-5decef3b-c327-41ed-ad55-838f5a0a5a90 button.colab-df-convert');\n",
              "        buttonEl.style.display =\n",
              "          google.colab.kernel.accessAllowed ? 'block' : 'none';\n",
              "\n",
              "        async function convertToInteractive(key) {\n",
              "          const element = document.querySelector('#df-5decef3b-c327-41ed-ad55-838f5a0a5a90');\n",
              "          const dataTable =\n",
              "            await google.colab.kernel.invokeFunction('convertToInteractive',\n",
              "                                                     [key], {});\n",
              "          if (!dataTable) return;\n",
              "\n",
              "          const docLinkHtml = 'Like what you see? Visit the ' +\n",
              "            '<a target=\"_blank\" href=https://colab.research.google.com/notebooks/data_table.ipynb>data table notebook</a>'\n",
              "            + ' to learn more about interactive tables.';\n",
              "          element.innerHTML = '';\n",
              "          dataTable['output_type'] = 'display_data';\n",
              "          await google.colab.output.renderOutput(dataTable, element);\n",
              "          const docLink = document.createElement('div');\n",
              "          docLink.innerHTML = docLinkHtml;\n",
              "          element.appendChild(docLink);\n",
              "        }\n",
              "      </script>\n",
              "    </div>\n",
              "  </div>\n",
              "  "
            ]
          },
          "metadata": {},
          "execution_count": 10
        }
      ]
    },
    {
      "cell_type": "code",
      "source": [
        "# Class distribution \n",
        "sns.countplot(x='Label', data=df)\n",
        "plt.show()"
      ],
      "metadata": {
        "colab": {
          "base_uri": "https://localhost:8080/",
          "height": 279
        },
        "id": "TGuDX0Ur9JGr",
        "outputId": "aac7c907-5cf1-4e39-912f-5f316d2096ff"
      },
      "execution_count": null,
      "outputs": [
        {
          "output_type": "display_data",
          "data": {
            "text/plain": [
              "<Figure size 432x288 with 1 Axes>"
            ],
            "image/png": "[encoded data removed]"
          },
          "metadata": {
            "needs_background": "light"
          }
        }
      ]
    },
    {
      "cell_type": "code",
      "source": [
        "# Undersampling to balance distribution \n",
        "downsampling_size = len(df[df['Label'] == '6'])\n",
        "none_data = df[df['Label'] == '0']\n",
        "u_data = df[df['Label'] == '1']\n",
        "f_data = df[df['Label'] == '2']\n",
        "c_data = df[df['Label'] == '3']\n",
        "uf_data = df[df['Label'] == '4']\n",
        "uc_data = df[df['Label'] == '5']\n",
        "fc_data = df[df['Label'] == '6']\n",
        "all_data = df[df['Label'] == '7']\n",
        "\n",
        "none_down = resample(none_data, replace=True, n_samples=downsampling_size, random_state=42)\n",
        "u_down = resample(u_data, replace=True, n_samples=downsampling_size, random_state=42)\n",
        "f_down = resample(f_data, replace=True, n_samples=downsampling_size, random_state=42)\n",
        "c_down = resample(c_data, replace=True, n_samples=downsampling_size, random_state=42)\n",
        "uf_down = resample(uf_data, replace=True, n_samples=downsampling_size, random_state=42)\n",
        "uc_down = resample(uc_data, replace=True, n_samples=downsampling_size, random_state=42)\n",
        "all_down = resample(all_data, replace=True, n_samples=downsampling_size, random_state=42)\n",
        "gc.collect()"
      ],
      "metadata": {
        "colab": {
          "base_uri": "https://localhost:8080/"
        },
        "id": "RGqnPkVM-CwS",
        "outputId": "006d37d9-0009-443d-e463-89a054243006"
      },
      "execution_count": null,
      "outputs": [
        {
          "output_type": "execute_result",
          "data": {
            "text/plain": [
              "47"
            ]
          },
          "metadata": {},
          "execution_count": 18
        }
      ]
    },
    {
      "cell_type": "code",
      "source": [
        "data_downsampled = pd.concat([none_down, u_down, f_down, c_down, uf_down, uc_down, fc_data, all_down])"
      ],
      "metadata": {
        "id": "gdHPfJOy_OAI"
      },
      "execution_count": null,
      "outputs": []
    },
    {
      "cell_type": "code",
      "source": [
        "#4988 each --> 39904 instances total\n",
        "sns.countplot(x='Label', data=data_downsampled)\n",
        "plt.show()"
      ],
      "metadata": {
        "colab": {
          "base_uri": "https://localhost:8080/",
          "height": 279
        },
        "id": "nO4z9zSb_8WY",
        "outputId": "d201c645-26a4-46a5-ce00-df0b12734c14"
      },
      "execution_count": null,
      "outputs": [
        {
          "output_type": "display_data",
          "data": {
            "text/plain": [
              "<Figure size 432x288 with 1 Axes>"
            ],
            "image/png": "[encoded data removed]"
          },
          "metadata": {
            "needs_background": "light"
          }
        }
      ]
    },
    {
      "cell_type": "code",
      "source": [
        "data_downsampled['Label'] = data_downsampled['Label'].replace(['0','1','2','3','4','5','6','7'],[0,1,2,3,4,5,6,7]) \n",
        "gc.collect()"
      ],
      "metadata": {
        "id": "Ni4EcKoI2-w5"
      },
      "execution_count": null,
      "outputs": []
    },
    {
      "cell_type": "code",
      "source": [
        "# Truncate the input text data to the maximum sequence length of the BERT model\n",
        "# Tokenize the text data and create input features for BERT\n",
        "MAX_LEN = 512\n",
        "tokenizer = BertTokenizer.from_pretrained('bert-base-uncased', num_labels=8, do_lower_case = True)"
      ],
      "metadata": {
        "colab": {
          "base_uri": "https://localhost:8080/",
          "height": 113,
          "referenced_widgets": [
            "bf9a74f5276846a7abf363361e6d203b",
            "4aa67deea62e4c9eaaeecea6a6357d03",
            "14f147f5f2ed42be940b6a4dbd2a603a",
            "dc0ffdde73ca4d8a8d18c28f819794c5",
            "80224edae56c46a9841b2219d235d210",
            "075361a80977491b8f807ae9447627d7",
            "ef32914ac8584067a78eeef4b86e7691",
            "9c356ce1731244958651d5075986f34b",
            "c8fa266e5cfd42f4b93a3e4b6cb33f8a",
            "53b9cbe6ee4d462f943851d0d159a7a6",
            "446cf64f2afc437bbbdd504e01ea6674",
            "db764a36ba894b8b8068575f0c2ddda4",
            "9b3c215d03ae4de197b7cb9300529f62",
            "6080611b03d045f899fbd3476d756769",
            "d3251272349d4d8aa99c3c3fb1dc6e07",
            "b68f01ca1e674bbe8926a99be118c480",
            "61e010d6a7cc4f1fb984dfc71220f418",
            "2109e0cea36a4f8cbd739ac4477e2a6d",
            "d9eb276cb9a14beeb5600f95fd46d27c",
            "2a44c5e908d242efaf351657521f28a4",
            "5cc04662d9534399932983f7853be833",
            "ea0c16dcb36440d5a65420244d7c904f",
            "606a600db84949f696caabe1024bd067",
            "56f3af716d8a4069a08d8f9cbe7607f7",
            "7dfc27d2bddb4d23801c47d2f53dcc1c",
            "fb250ad14daf4063a58e1685cabf4e3c",
            "b3f8914999fe4d798b017c8d00009b7b",
            "29a26f8b586f408ca43ab4caa63468c0",
            "23af975df21540c0a8d7be516ff4f7b8",
            "273bcb44f522495e9e65952b1d43c52f",
            "73b62d10526d4bfc82ebe7391257e9cd",
            "211cfb642bf244bdbba7ad221daa06e0",
            "dde5b22639454908bc03f6b288a62e2f"
          ]
        },
        "id": "cAyEOvJCkGwM",
        "outputId": "1dc75d06-8bb8-4093-9868-3395393344c5"
      },
      "execution_count": null,
      "outputs": [
        {
          "output_type": "display_data",
          "data": {
            "text/plain": [
              "Downloading:   0%|          | 0.00/232k [00:00<?, ?B/s]"
            ],
            "application/vnd.jupyter.widget-view+json": {
              "version_major": 2,
              "version_minor": 0,
              "model_id": "bf9a74f5276846a7abf363361e6d203b"
            }
          },
          "metadata": {}
        },
        {
          "output_type": "display_data",
          "data": {
            "text/plain": [
              "Downloading:   0%|          | 0.00/28.0 [00:00<?, ?B/s]"
            ],
            "application/vnd.jupyter.widget-view+json": {
              "version_major": 2,
              "version_minor": 0,
              "model_id": "db764a36ba894b8b8068575f0c2ddda4"
            }
          },
          "metadata": {}
        },
        {
          "output_type": "display_data",
          "data": {
            "text/plain": [
              "Downloading:   0%|          | 0.00/570 [00:00<?, ?B/s]"
            ],
            "application/vnd.jupyter.widget-view+json": {
              "version_major": 2,
              "version_minor": 0,
              "model_id": "606a600db84949f696caabe1024bd067"
            }
          },
          "metadata": {}
        }
      ]
    },
    {
      "cell_type": "code",
      "source": [
        "y = data_downsampled['Label'].values\n",
        "dsm = data_downsampled.copy()\n",
        "dsm.drop(['Label'], axis=1, inplace=True)\n",
        "\n",
        "X_train, X_test, y_train, y_test = train_test_split(dsm, y, test_size=0.2, stratify=y)\n",
        "\n",
        "train_text = X_train['preprocessed_text'].values.tolist()\n",
        "valid_text = X_test['preprocessed_text'].values.tolist()\n",
        "train_label = y_train\n",
        "valid_label = y_test"
      ],
      "metadata": {
        "id": "7HEuOB5GwhJJ"
      },
      "execution_count": null,
      "outputs": []
    },
    {
      "cell_type": "code",
      "source": [
        "# tokenize the dataset, truncate when passed `max_length`, and pad with 0's when less than `max_length`\n",
        "train_encodings = tokenizer(train_text, truncation=True, padding=True, max_length=MAX_LEN)\n",
        "valid_encodings = tokenizer(valid_text, truncation=True, padding=True, max_length=MAX_LEN)"
      ],
      "metadata": {
        "id": "Le9KQwx6xXbY"
      },
      "execution_count": null,
      "outputs": []
    },
    {
      "cell_type": "code",
      "source": [
        "class CreationofTorchDataset(torch.utils.data.Dataset):\n",
        "    def __init__(self, encodings, labels):\n",
        "        self.encodings = encodings\n",
        "        self.labels = labels\n",
        "\n",
        "    def __getitem__(self, idx):\n",
        "        item = {k: torch.tensor(v[idx]) for k, v in self.encodings.items()}\n",
        "        item[\"labels\"] = torch.tensor([self.labels[idx]])\n",
        "        return item\n",
        "\n",
        "    def __len__(self):\n",
        "        return len(self.labels)\n",
        "\n",
        "# convert our tokenized data into a torch Dataset\n",
        "train_dataset = CreationofTorchDataset(train_encodings, train_label)\n",
        "valid_dataset = CreationofTorchDataset(valid_encodings, valid_label)"
      ],
      "metadata": {
        "id": "rMtrWK3FxovT"
      },
      "execution_count": null,
      "outputs": []
    },
    {
      "cell_type": "code",
      "source": [
        "# load the model and pass to CUDA\n",
        "model = BertForSequenceClassification.from_pretrained(\"bert-base-uncased\", num_labels=8).to(\"cuda\")"
      ],
      "metadata": {
        "colab": {
          "base_uri": "https://localhost:8080/",
          "height": 156,
          "referenced_widgets": [
            "fcd31ff7cd9f42f7b85b3891b715ab3c",
            "813848ecec90458c895207bf5b504b03",
            "1900bdc0bcfe4041a7ff9b601b6a28d6",
            "8b6cd61ddd5b4aa2b189e7c6c3ef8389",
            "4711e68c667346dea2f9faab8374461e",
            "79d1843b0fea4842a5d4915ee7928c63",
            "689ad0e2827343f999f90c846b34a9f4",
            "d336fde86c4c4bfe91f978b7b3c606d1",
            "3bf220f8588642ce92f6440ad3021b51",
            "3142b25041f34963b7f0db25695f9f54",
            "797c52d2104a46ef9027f648bc1bb459"
          ]
        },
        "id": "NGR0RP09ys4i",
        "outputId": "15aeec7e-1e0f-43a1-8058-e72000f8e6a3"
      },
      "execution_count": null,
      "outputs": [
        {
          "output_type": "display_data",
          "data": {
            "text/plain": [
              "Downloading:   0%|          | 0.00/440M [00:00<?, ?B/s]"
            ],
            "application/vnd.jupyter.widget-view+json": {
              "version_major": 2,
              "version_minor": 0,
              "model_id": "fcd31ff7cd9f42f7b85b3891b715ab3c"
            }
          },
          "metadata": {}
        },
        {
          "output_type": "stream",
          "name": "stderr",
          "text": [
            "Some weights of the model checkpoint at bert-base-uncased were not used when initializing BertForSequenceClassification: ['cls.predictions.transform.LayerNorm.weight', 'cls.predictions.decoder.weight', 'cls.predictions.transform.dense.bias', 'cls.seq_relationship.weight', 'cls.predictions.transform.LayerNorm.bias', 'cls.seq_relationship.bias', 'cls.predictions.bias', 'cls.predictions.transform.dense.weight']\n",
            "- This IS expected if you are initializing BertForSequenceClassification from the checkpoint of a model trained on another task or with another architecture (e.g. initializing a BertForSequenceClassification model from a BertForPreTraining model).\n",
            "- This IS NOT expected if you are initializing BertForSequenceClassification from the checkpoint of a model that you expect to be exactly identical (initializing a BertForSequenceClassification model from a BertForSequenceClassification model).\n",
            "Some weights of BertForSequenceClassification were not initialized from the model checkpoint at bert-base-uncased and are newly initialized: ['classifier.weight', 'classifier.bias']\n",
            "You should probably TRAIN this model on a down-stream task to be able to use it for predictions and inference.\n"
          ]
        }
      ]
    },
    {
      "cell_type": "code",
      "source": [
        "def compute_metrics(pred):\n",
        "  labels = pred.label_ids\n",
        "  preds = pred.predictions.argmax(-1)\n",
        "  acc = accuracy_score(labels, preds)\n",
        "  recall = recall_score(labels, preds, average='macro')\n",
        "  precision = precision_score(labels, preds, average='macro')\n",
        "  f1 = f1_score(labels, preds, average='macro')\n",
        "  return {\n",
        "      'accuracy': acc,\n",
        "      'precision': precision,\n",
        "      'recall': recall,\n",
        "      'f1': f1\n",
        "}"
      ],
      "metadata": {
        "id": "l2drl5yF1rMM"
      },
      "execution_count": null,
      "outputs": []
    },
    {
      "cell_type": "code",
      "source": [
        "training_args = TrainingArguments(\n",
        "    output_dir='./results',          # output directory\n",
        "    num_train_epochs=2,              # total number of training epochs\n",
        "    per_device_train_batch_size=8,  # batch size per device during training\n",
        "    per_device_eval_batch_size=20,   # batch size for evaluation\n",
        "    warmup_steps=500,                # number of warmup steps for learning rate scheduler\n",
        "    weight_decay=0.01,               # strength of weight decay\n",
        "    logging_dir='./logs',            # directory for storing logs\n",
        "    load_best_model_at_end=True,     # load the best model when finished training (default metric is loss)\n",
        "    # but you can specify `metric_for_best_model` argument to change to accuracy or other metric\n",
        "    logging_steps=1000,              \n",
        "    save_steps=50000,\n",
        "    evaluation_strategy=\"steps\", \n",
        ")    "
      ],
      "metadata": {
        "id": "HkA-ItTH17W1"
      },
      "execution_count": null,
      "outputs": []
    },
    {
      "cell_type": "code",
      "source": [
        "trainer = Trainer(\n",
        "    model=model,                         # the instantiated Transformers model to be trained\n",
        "    args=training_args,                  # training arguments, defined above\n",
        "    train_dataset=train_dataset,         # training dataset\n",
        "    eval_dataset=valid_dataset,          # evaluation dataset\n",
        "    compute_metrics=compute_metrics,     # the callback that computes metrics of interest\n",
        ")"
      ],
      "metadata": {
        "id": "t6vOxKmL2K-K"
      },
      "execution_count": null,
      "outputs": []
    },
    {
      "cell_type": "code",
      "source": [
        "trainer.train()"
      ],
      "metadata": {
        "colab": {
          "base_uri": "https://localhost:8080/",
          "height": 1000
        },
        "outputId": "a238a1c5-8f81-4226-e57d-e8f6c84a19a8",
        "id": "xJERSsMZpc-8"
      },
      "execution_count": null,
      "outputs": [
        {
          "output_type": "stream",
          "name": "stderr",
          "text": [
            "/usr/local/lib/python3.8/dist-packages/transformers/optimization.py:306: FutureWarning: This implementation of AdamW is deprecated and will be removed in a future version. Use the PyTorch implementation torch.optim.AdamW instead, or set `no_deprecation_warning=True` to disable this warning\n",
            "  warnings.warn(\n",
            "***** Running training *****\n",
            "  Num examples = 31923\n",
            "  Num Epochs = 2\n",
            "  Instantaneous batch size per device = 8\n",
            "  Total train batch size (w. parallel, distributed & accumulation) = 8\n",
            "  Gradient Accumulation steps = 1\n",
            "  Total optimization steps = 7982\n",
            "  Number of trainable parameters = 109488392\n"
          ]
        },
        {
          "output_type": "display_data",
          "data": {
            "text/plain": [
              "<IPython.core.display.HTML object>"
            ],
            "text/html": [
              "\n",
              "    <div>\n",
              "      \n",
              "      <progress value='7982' max='7982' style='width:300px; height:20px; vertical-align: middle;'></progress>\n",
              "      [7982/7982 2:12:12, Epoch 2/2]\n",
              "    </div>\n",
              "    <table border=\"1\" class=\"dataframe\">\n",
              "  <thead>\n",
              " <tr style=\"text-align: left;\">\n",
              "      <th>Step</th>\n",
              "      <th>Training Loss</th>\n",
              "      <th>Validation Loss</th>\n",
              "      <th>Accuracy</th>\n",
              "      <th>Precision</th>\n",
              "      <th>Recall</th>\n",
              "      <th>F1</th>\n",
              "    </tr>\n",
              "  </thead>\n",
              "  <tbody>\n",
              "    <tr>\n",
              "      <td>1000</td>\n",
              "      <td>2.017300</td>\n",
              "      <td>1.974725</td>\n",
              "      <td>0.224157</td>\n",
              "      <td>0.273984</td>\n",
              "      <td>0.224129</td>\n",
              "      <td>0.142788</td>\n",
              "    </tr>\n",
              "    <tr>\n",
              "      <td>2000</td>\n",
              "      <td>1.967400</td>\n",
              "      <td>1.950250</td>\n",
              "      <td>0.233555</td>\n",
              "      <td>0.237171</td>\n",
              "      <td>0.233519</td>\n",
              "      <td>0.212186</td>\n",
              "    </tr>\n",
              "    <tr>\n",
              "      <td>3000</td>\n",
              "      <td>1.961300</td>\n",
              "      <td>1.953870</td>\n",
              "      <td>0.228292</td>\n",
              "      <td>0.203260</td>\n",
              "      <td>0.228255</td>\n",
              "      <td>0.172884</td>\n",
              "    </tr>\n",
              "    <tr>\n",
              "      <td>4000</td>\n",
              "      <td>1.947500</td>\n",
              "      <td>1.916331</td>\n",
              "      <td>0.247588</td>\n",
              "      <td>0.262063</td>\n",
              "      <td>0.247571</td>\n",
              "      <td>0.235469</td>\n",
              "    </tr>\n",
              "    <tr>\n",
              "      <td>5000</td>\n",
              "      <td>1.857400</td>\n",
              "      <td>1.930597</td>\n",
              "      <td>0.254229</td>\n",
              "      <td>0.256488</td>\n",
              "      <td>0.254203</td>\n",
              "      <td>0.236768</td>\n",
              "    </tr>\n",
              "    <tr>\n",
              "      <td>6000</td>\n",
              "      <td>1.828500</td>\n",
              "      <td>1.930297</td>\n",
              "      <td>0.247839</td>\n",
              "      <td>0.248498</td>\n",
              "      <td>0.247816</td>\n",
              "      <td>0.237312</td>\n",
              "    </tr>\n",
              "    <tr>\n",
              "      <td>7000</td>\n",
              "      <td>1.826900</td>\n",
              "      <td>1.919809</td>\n",
              "      <td>0.257862</td>\n",
              "      <td>0.258027</td>\n",
              "      <td>0.257836</td>\n",
              "      <td>0.252868</td>\n",
              "    </tr>\n",
              "  </tbody>\n",
              "</table><p>"
            ]
          },
          "metadata": {}
        },
        {
          "output_type": "stream",
          "name": "stderr",
          "text": [
            "***** Running Evaluation *****\n",
            "  Num examples = 7981\n",
            "  Batch size = 20\n",
            "***** Running Evaluation *****\n",
            "  Num examples = 7981\n",
            "  Batch size = 20\n",
            "***** Running Evaluation *****\n",
            "  Num examples = 7981\n",
            "  Batch size = 20\n",
            "/usr/local/lib/python3.8/dist-packages/sklearn/metrics/_classification.py:1318: UndefinedMetricWarning: Precision is ill-defined and being set to 0.0 in labels with no predicted samples. Use `zero_division` parameter to control this behavior.\n",
            "  _warn_prf(average, modifier, msg_start, len(result))\n",
            "***** Running Evaluation *****\n",
            "  Num examples = 7981\n",
            "  Batch size = 20\n",
            "***** Running Evaluation *****\n",
            "  Num examples = 7981\n",
            "  Batch size = 20\n",
            "***** Running Evaluation *****\n",
            "  Num examples = 7981\n",
            "  Batch size = 20\n",
            "***** Running Evaluation *****\n",
            "  Num examples = 7981\n",
            "  Batch size = 20\n",
            "\n",
            "\n",
            "Training completed. Do not forget to share your model on huggingface.co/models =)\n",
            "\n",
            "\n"
          ]
        },
        {
          "output_type": "execute_result",
          "data": {
            "text/plain": [
              "TrainOutput(global_step=7982, training_loss=1.9015344033352386, metrics={'train_runtime': 7936.0397, 'train_samples_per_second': 8.045, 'train_steps_per_second': 1.006, 'total_flos': 1.6799493406998528e+16, 'train_loss': 1.9015344033352386, 'epoch': 2.0})"
            ]
          },
          "metadata": {},
          "execution_count": 46
        }
      ]
    },
    {
      "cell_type": "code",
      "source": [
        "# evaluate the current model after training\n",
        "\n",
        "trainer.evaluate()"
      ],
      "metadata": {
        "colab": {
          "base_uri": "https://localhost:8080/",
          "height": 245
        },
        "outputId": "9efbd0e8-659d-477d-dce5-602d1d549fb0",
        "id": "OtVny4pBpjrQ"
      },
      "execution_count": null,
      "outputs": [
        {
          "output_type": "stream",
          "name": "stderr",
          "text": [
            "***** Running Evaluation *****\n",
            "  Num examples = 7981\n",
            "  Batch size = 20\n"
          ]
        },
        {
          "output_type": "display_data",
          "data": {
            "text/plain": [
              "<IPython.core.display.HTML object>"
            ],
            "text/html": [
              "\n",
              "    <div>\n",
              "      \n",
              "      <progress value='400' max='400' style='width:300px; height:20px; vertical-align: middle;'></progress>\n",
              "      [400/400 04:22]\n",
              "    </div>\n",
              "    "
            ]
          },
          "metadata": {}
        },
        {
          "output_type": "execute_result",
          "data": {
            "text/plain": [
              "{'eval_loss': 1.9185236692428589,\n",
              " 'eval_accuracy': 0.25961658939982457,\n",
              " 'eval_precision': 0.25660985558714455,\n",
              " 'eval_recall': 0.25959152507623073,\n",
              " 'eval_f1': 0.2540906395382118,\n",
              " 'eval_runtime': 262.868,\n",
              " 'eval_samples_per_second': 30.361,\n",
              " 'eval_steps_per_second': 1.522,\n",
              " 'epoch': 2.0}"
            ]
          },
          "metadata": {},
          "execution_count": 47
        }
      ]
    }
  ]
}