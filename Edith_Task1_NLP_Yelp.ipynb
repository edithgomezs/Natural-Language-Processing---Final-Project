{
  "nbformat": 4,
  "nbformat_minor": 0,
  "metadata": {
    "colab": {
      "provenance": [],
      "collapsed_sections": [
        "8Y5VUTVLSYN1"
      ],
      "include_colab_link": true
    },
    "kernelspec": {
      "name": "python3",
      "display_name": "Python 3"
    },
    "language_info": {
      "name": "python"
    },
    "accelerator": "GPU",
    "gpuClass": "standard",
    "widgets": {
      "application/vnd.jupyter.widget-state+json": {
        "bf9a74f5276846a7abf363361e6d203b": {
          "model_module": "@jupyter-widgets/controls",
          "model_name": "HBoxModel",
          "model_module_version": "1.5.0",
          "state": {
            "_dom_classes": [],
            "_model_module": "@jupyter-widgets/controls",
            "_model_module_version": "1.5.0",
            "_model_name": "HBoxModel",
            "_view_count": null,
            "_view_module": "@jupyter-widgets/controls",
            "_view_module_version": "1.5.0",
            "_view_name": "HBoxView",
            "box_style": "",
            "children": [
              "IPY_MODEL_4aa67deea62e4c9eaaeecea6a6357d03",
              "IPY_MODEL_14f147f5f2ed42be940b6a4dbd2a603a",
              "IPY_MODEL_dc0ffdde73ca4d8a8d18c28f819794c5"
            ],
            "layout": "IPY_MODEL_80224edae56c46a9841b2219d235d210"
          }
        },
        "4aa67deea62e4c9eaaeecea6a6357d03": {
          "model_module": "@jupyter-widgets/controls",
          "model_name": "HTMLModel",
          "model_module_version": "1.5.0",
          "state": {
            "_dom_classes": [],
            "_model_module": "@jupyter-widgets/controls",
            "_model_module_version": "1.5.0",
            "_model_name": "HTMLModel",
            "_view_count": null,
            "_view_module": "@jupyter-widgets/controls",
            "_view_module_version": "1.5.0",
            "_view_name": "HTMLView",
            "description": "",
            "description_tooltip": null,
            "layout": "IPY_MODEL_075361a80977491b8f807ae9447627d7",
            "placeholder": "​",
            "style": "IPY_MODEL_ef32914ac8584067a78eeef4b86e7691",
            "value": "Downloading: 100%"
          }
        },
        "14f147f5f2ed42be940b6a4dbd2a603a": {
          "model_module": "@jupyter-widgets/controls",
          "model_name": "FloatProgressModel",
          "model_module_version": "1.5.0",
          "state": {
            "_dom_classes": [],
            "_model_module": "@jupyter-widgets/controls",
            "_model_module_version": "1.5.0",
            "_model_name": "FloatProgressModel",
            "_view_count": null,
            "_view_module": "@jupyter-widgets/controls",
            "_view_module_version": "1.5.0",
            "_view_name": "ProgressView",
            "bar_style": "success",
            "description": "",
            "description_tooltip": null,
            "layout": "IPY_MODEL_9c356ce1731244958651d5075986f34b",
            "max": 231508,
            "min": 0,
            "orientation": "horizontal",
            "style": "IPY_MODEL_c8fa266e5cfd42f4b93a3e4b6cb33f8a",
            "value": 231508
          }
        },
        "dc0ffdde73ca4d8a8d18c28f819794c5": {
          "model_module": "@jupyter-widgets/controls",
          "model_name": "HTMLModel",
          "model_module_version": "1.5.0",
          "state": {
            "_dom_classes": [],
            "_model_module": "@jupyter-widgets/controls",
            "_model_module_version": "1.5.0",
            "_model_name": "HTMLModel",
            "_view_count": null,
            "_view_module": "@jupyter-widgets/controls",
            "_view_module_version": "1.5.0",
            "_view_name": "HTMLView",
            "description": "",
            "description_tooltip": null,
            "layout": "IPY_MODEL_53b9cbe6ee4d462f943851d0d159a7a6",
            "placeholder": "​",
            "style": "IPY_MODEL_446cf64f2afc437bbbdd504e01ea6674",
            "value": " 232k/232k [00:00&lt;00:00, 582kB/s]"
          }
        },
        "80224edae56c46a9841b2219d235d210": {
          "model_module": "@jupyter-widgets/base",
          "model_name": "LayoutModel",
          "model_module_version": "1.2.0",
          "state": {
            "_model_module": "@jupyter-widgets/base",
            "_model_module_version": "1.2.0",
            "_model_name": "LayoutModel",
            "_view_count": null,
            "_view_module": "@jupyter-widgets/base",
            "_view_module_version": "1.2.0",
            "_view_name": "LayoutView",
            "align_content": null,
            "align_items": null,
            "align_self": null,
            "border": null,
            "bottom": null,
            "display": null,
            "flex": null,
            "flex_flow": null,
            "grid_area": null,
            "grid_auto_columns": null,
            "grid_auto_flow": null,
            "grid_auto_rows": null,
            "grid_column": null,
            "grid_gap": null,
            "grid_row": null,
            "grid_template_areas": null,
            "grid_template_columns": null,
            "grid_template_rows": null,
            "height": null,
            "justify_content": null,
            "justify_items": null,
            "left": null,
            "margin": null,
            "max_height": null,
            "max_width": null,
            "min_height": null,
            "min_width": null,
            "object_fit": null,
            "object_position": null,
            "order": null,
            "overflow": null,
            "overflow_x": null,
            "overflow_y": null,
            "padding": null,
            "right": null,
            "top": null,
            "visibility": null,
            "width": null
          }
        },
        "075361a80977491b8f807ae9447627d7": {
          "model_module": "@jupyter-widgets/base",
          "model_name": "LayoutModel",
          "model_module_version": "1.2.0",
          "state": {
            "_model_module": "@jupyter-widgets/base",
            "_model_module_version": "1.2.0",
            "_model_name": "LayoutModel",
            "_view_count": null,
            "_view_module": "@jupyter-widgets/base",
            "_view_module_version": "1.2.0",
            "_view_name": "LayoutView",
            "align_content": null,
            "align_items": null,
            "align_self": null,
            "border": null,
            "bottom": null,
            "display": null,
            "flex": null,
            "flex_flow": null,
            "grid_area": null,
            "grid_auto_columns": null,
            "grid_auto_flow": null,
            "grid_auto_rows": null,
            "grid_column": null,
            "grid_gap": null,
            "grid_row": null,
            "grid_template_areas": null,
            "grid_template_columns": null,
            "grid_template_rows": null,
            "height": null,
            "justify_content": null,
            "justify_items": null,
            "left": null,
            "margin": null,
            "max_height": null,
            "max_width": null,
            "min_height": null,
            "min_width": null,
            "object_fit": null,
            "object_position": null,
            "order": null,
            "overflow": null,
            "overflow_x": null,
            "overflow_y": null,
            "padding": null,
            "right": null,
            "top": null,
            "visibility": null,
            "width": null
          }
        },
        "ef32914ac8584067a78eeef4b86e7691": {
          "model_module": "@jupyter-widgets/controls",
          "model_name": "DescriptionStyleModel",
          "model_module_version": "1.5.0",
          "state": {
            "_model_module": "@jupyter-widgets/controls",
            "_model_module_version": "1.5.0",
            "_model_name": "DescriptionStyleModel",
            "_view_count": null,
            "_view_module": "@jupyter-widgets/base",
            "_view_module_version": "1.2.0",
            "_view_name": "StyleView",
            "description_width": ""
          }
        },
        "9c356ce1731244958651d5075986f34b": {
          "model_module": "@jupyter-widgets/base",
          "model_name": "LayoutModel",
          "model_module_version": "1.2.0",
          "state": {
            "_model_module": "@jupyter-widgets/base",
            "_model_module_version": "1.2.0",
            "_model_name": "LayoutModel",
            "_view_count": null,
            "_view_module": "@jupyter-widgets/base",
            "_view_module_version": "1.2.0",
            "_view_name": "LayoutView",
            "align_content": null,
            "align_items": null,
            "align_self": null,
            "border": null,
            "bottom": null,
            "display": null,
            "flex": null,
            "flex_flow": null,
            "grid_area": null,
            "grid_auto_columns": null,
            "grid_auto_flow": null,
            "grid_auto_rows": null,
            "grid_column": null,
            "grid_gap": null,
            "grid_row": null,
            "grid_template_areas": null,
            "grid_template_columns": null,
            "grid_template_rows": null,
            "height": null,
            "justify_content": null,
            "justify_items": null,
            "left": null,
            "margin": null,
            "max_height": null,
            "max_width": null,
            "min_height": null,
            "min_width": null,
            "object_fit": null,
            "object_position": null,
            "order": null,
            "overflow": null,
            "overflow_x": null,
            "overflow_y": null,
            "padding": null,
            "right": null,
            "top": null,
            "visibility": null,
            "width": null
          }
        },
        "c8fa266e5cfd42f4b93a3e4b6cb33f8a": {
          "model_module": "@jupyter-widgets/controls",
          "model_name": "ProgressStyleModel",
          "model_module_version": "1.5.0",
          "state": {
            "_model_module": "@jupyter-widgets/controls",
            "_model_module_version": "1.5.0",
            "_model_name": "ProgressStyleModel",
            "_view_count": null,
            "_view_module": "@jupyter-widgets/base",
            "_view_module_version": "1.2.0",
            "_view_name": "StyleView",
            "bar_color": null,
            "description_width": ""
          }
        },
        "53b9cbe6ee4d462f943851d0d159a7a6": {
          "model_module": "@jupyter-widgets/base",
          "model_name": "LayoutModel",
          "model_module_version": "1.2.0",
          "state": {
            "_model_module": "@jupyter-widgets/base",
            "_model_module_version": "1.2.0",
            "_model_name": "LayoutModel",
            "_view_count": null,
            "_view_module": "@jupyter-widgets/base",
            "_view_module_version": "1.2.0",
            "_view_name": "LayoutView",
            "align_content": null,
            "align_items": null,
            "align_self": null,
            "border": null,
            "bottom": null,
            "display": null,
            "flex": null,
            "flex_flow": null,
            "grid_area": null,
            "grid_auto_columns": null,
            "grid_auto_flow": null,
            "grid_auto_rows": null,
            "grid_column": null,
            "grid_gap": null,
            "grid_row": null,
            "grid_template_areas": null,
            "grid_template_columns": null,
            "grid_template_rows": null,
            "height": null,
            "justify_content": null,
            "justify_items": null,
            "left": null,
            "margin": null,
            "max_height": null,
            "max_width": null,
            "min_height": null,
            "min_width": null,
            "object_fit": null,
            "object_position": null,
            "order": null,
            "overflow": null,
            "overflow_x": null,
            "overflow_y": null,
            "padding": null,
            "right": null,
            "top": null,
            "visibility": null,
            "width": null
          }
        },
        "446cf64f2afc437bbbdd504e01ea6674": {
          "model_module": "@jupyter-widgets/controls",
          "model_name": "DescriptionStyleModel",
          "model_module_version": "1.5.0",
          "state": {
            "_model_module": "@jupyter-widgets/controls",
            "_model_module_version": "1.5.0",
            "_model_name": "DescriptionStyleModel",
            "_view_count": null,
            "_view_module": "@jupyter-widgets/base",
            "_view_module_version": "1.2.0",
            "_view_name": "StyleView",
            "description_width": ""
          }
        },
        "db764a36ba894b8b8068575f0c2ddda4": {
          "model_module": "@jupyter-widgets/controls",
          "model_name": "HBoxModel",
          "model_module_version": "1.5.0",
          "state": {
            "_dom_classes": [],
            "_model_module": "@jupyter-widgets/controls",
            "_model_module_version": "1.5.0",
            "_model_name": "HBoxModel",
            "_view_count": null,
            "_view_module": "@jupyter-widgets/controls",
            "_view_module_version": "1.5.0",
            "_view_name": "HBoxView",
            "box_style": "",
            "children": [
              "IPY_MODEL_9b3c215d03ae4de197b7cb9300529f62",
              "IPY_MODEL_6080611b03d045f899fbd3476d756769",
              "IPY_MODEL_d3251272349d4d8aa99c3c3fb1dc6e07"
            ],
            "layout": "IPY_MODEL_b68f01ca1e674bbe8926a99be118c480"
          }
        },
        "9b3c215d03ae4de197b7cb9300529f62": {
          "model_module": "@jupyter-widgets/controls",
          "model_name": "HTMLModel",
          "model_module_version": "1.5.0",
          "state": {
            "_dom_classes": [],
            "_model_module": "@jupyter-widgets/controls",
            "_model_module_version": "1.5.0",
            "_model_name": "HTMLModel",
            "_view_count": null,
            "_view_module": "@jupyter-widgets/controls",
            "_view_module_version": "1.5.0",
            "_view_name": "HTMLView",
            "description": "",
            "description_tooltip": null,
            "layout": "IPY_MODEL_61e010d6a7cc4f1fb984dfc71220f418",
            "placeholder": "​",
            "style": "IPY_MODEL_2109e0cea36a4f8cbd739ac4477e2a6d",
            "value": "Downloading: 100%"
          }
        },
        "6080611b03d045f899fbd3476d756769": {
          "model_module": "@jupyter-widgets/controls",
          "model_name": "FloatProgressModel",
          "model_module_version": "1.5.0",
          "state": {
            "_dom_classes": [],
            "_model_module": "@jupyter-widgets/controls",
            "_model_module_version": "1.5.0",
            "_model_name": "FloatProgressModel",
            "_view_count": null,
            "_view_module": "@jupyter-widgets/controls",
            "_view_module_version": "1.5.0",
            "_view_name": "ProgressView",
            "bar_style": "success",
            "description": "",
            "description_tooltip": null,
            "layout": "IPY_MODEL_d9eb276cb9a14beeb5600f95fd46d27c",
            "max": 28,
            "min": 0,
            "orientation": "horizontal",
            "style": "IPY_MODEL_2a44c5e908d242efaf351657521f28a4",
            "value": 28
          }
        },
        "d3251272349d4d8aa99c3c3fb1dc6e07": {
          "model_module": "@jupyter-widgets/controls",
          "model_name": "HTMLModel",
          "model_module_version": "1.5.0",
          "state": {
            "_dom_classes": [],
            "_model_module": "@jupyter-widgets/controls",
            "_model_module_version": "1.5.0",
            "_model_name": "HTMLModel",
            "_view_count": null,
            "_view_module": "@jupyter-widgets/controls",
            "_view_module_version": "1.5.0",
            "_view_name": "HTMLView",
            "description": "",
            "description_tooltip": null,
            "layout": "IPY_MODEL_5cc04662d9534399932983f7853be833",
            "placeholder": "​",
            "style": "IPY_MODEL_ea0c16dcb36440d5a65420244d7c904f",
            "value": " 28.0/28.0 [00:00&lt;00:00, 960B/s]"
          }
        },
        "b68f01ca1e674bbe8926a99be118c480": {
          "model_module": "@jupyter-widgets/base",
          "model_name": "LayoutModel",
          "model_module_version": "1.2.0",
          "state": {
            "_model_module": "@jupyter-widgets/base",
            "_model_module_version": "1.2.0",
            "_model_name": "LayoutModel",
            "_view_count": null,
            "_view_module": "@jupyter-widgets/base",
            "_view_module_version": "1.2.0",
            "_view_name": "LayoutView",
            "align_content": null,
            "align_items": null,
            "align_self": null,
            "border": null,
            "bottom": null,
            "display": null,
            "flex": null,
            "flex_flow": null,
            "grid_area": null,
            "grid_auto_columns": null,
            "grid_auto_flow": null,
            "grid_auto_rows": null,
            "grid_column": null,
            "grid_gap": null,
            "grid_row": null,
            "grid_template_areas": null,
            "grid_template_columns": null,
            "grid_template_rows": null,
            "height": null,
            "justify_content": null,
            "justify_items": null,
            "left": null,
            "margin": null,
            "max_height": null,
            "max_width": null,
            "min_height": null,
            "min_width": null,
            "object_fit": null,
            "object_position": null,
            "order": null,
            "overflow": null,
            "overflow_x": null,
            "overflow_y": null,
            "padding": null,
            "right": null,
            "top": null,
            "visibility": null,
            "width": null
          }
        },
        "61e010d6a7cc4f1fb984dfc71220f418": {
          "model_module": "@jupyter-widgets/base",
          "model_name": "LayoutModel",
          "model_module_version": "1.2.0",
          "state": {
            "_model_module": "@jupyter-widgets/base",
            "_model_module_version": "1.2.0",
            "_model_name": "LayoutModel",
            "_view_count": null,
            "_view_module": "@jupyter-widgets/base",
            "_view_module_version": "1.2.0",
            "_view_name": "LayoutView",
            "align_content": null,
            "align_items": null,
            "align_self": null,
            "border": null,
            "bottom": null,
            "display": null,
            "flex": null,
            "flex_flow": null,
            "grid_area": null,
            "grid_auto_columns": null,
            "grid_auto_flow": null,
            "grid_auto_rows": null,
            "grid_column": null,
            "grid_gap": null,
            "grid_row": null,
            "grid_template_areas": null,
            "grid_template_columns": null,
            "grid_template_rows": null,
            "height": null,
            "justify_content": null,
            "justify_items": null,
            "left": null,
            "margin": null,
            "max_height": null,
            "max_width": null,
            "min_height": null,
            "min_width": null,
            "object_fit": null,
            "object_position": null,
            "order": null,
            "overflow": null,
            "overflow_x": null,
            "overflow_y": null,
            "padding": null,
            "right": null,
            "top": null,
            "visibility": null,
            "width": null
          }
        },
        "2109e0cea36a4f8cbd739ac4477e2a6d": {
          "model_module": "@jupyter-widgets/controls",
          "model_name": "DescriptionStyleModel",
          "model_module_version": "1.5.0",
          "state": {
            "_model_module": "@jupyter-widgets/controls",
            "_model_module_version": "1.5.0",
            "_model_name": "DescriptionStyleModel",
            "_view_count": null,
            "_view_module": "@jupyter-widgets/base",
            "_view_module_version": "1.2.0",
            "_view_name": "StyleView",
            "description_width": ""
          }
        },
        "d9eb276cb9a14beeb5600f95fd46d27c": {
          "model_module": "@jupyter-widgets/base",
          "model_name": "LayoutModel",
          "model_module_version": "1.2.0",
          "state": {
            "_model_module": "@jupyter-widgets/base",
            "_model_module_version": "1.2.0",
            "_model_name": "LayoutModel",
            "_view_count": null,
            "_view_module": "@jupyter-widgets/base",
            "_view_module_version": "1.2.0",
            "_view_name": "LayoutView",
            "align_content": null,
            "align_items": null,
            "align_self": null,
            "border": null,
            "bottom": null,
            "display": null,
            "flex": null,
            "flex_flow": null,
            "grid_area": null,
            "grid_auto_columns": null,
            "grid_auto_flow": null,
            "grid_auto_rows": null,
            "grid_column": null,
            "grid_gap": null,
            "grid_row": null,
            "grid_template_areas": null,
            "grid_template_columns": null,
            "grid_template_rows": null,
            "height": null,
            "justify_content": null,
            "justify_items": null,
            "left": null,
            "margin": null,
            "max_height": null,
            "max_width": null,
            "min_height": null,
            "min_width": null,
            "object_fit": null,
            "object_position": null,
            "order": null,
            "overflow": null,
            "overflow_x": null,
            "overflow_y": null,
            "padding": null,
            "right": null,
            "top": null,
            "visibility": null,
            "width": null
          }
        },
        "2a44c5e908d242efaf351657521f28a4": {
          "model_module": "@jupyter-widgets/controls",
          "model_name": "ProgressStyleModel",
          "model_module_version": "1.5.0",
          "state": {
            "_model_module": "@jupyter-widgets/controls",
            "_model_module_version": "1.5.0",
            "_model_name": "ProgressStyleModel",
            "_view_count": null,
            "_view_module": "@jupyter-widgets/base",
            "_view_module_version": "1.2.0",
            "_view_name": "StyleView",
            "bar_color": null,
            "description_width": ""
          }
        },
        "5cc04662d9534399932983f7853be833": {
          "model_module": "@jupyter-widgets/base",
          "model_name": "LayoutModel",
          "model_module_version": "1.2.0",
          "state": {
            "_model_module": "@jupyter-widgets/base",
            "_model_module_version": "1.2.0",
            "_model_name": "LayoutModel",
            "_view_count": null,
            "_view_module": "@jupyter-widgets/base",
            "_view_module_version": "1.2.0",
            "_view_name": "LayoutView",
            "align_content": null,
            "align_items": null,
            "align_self": null,
            "border": null,
            "bottom": null,
            "display": null,
            "flex": null,
            "flex_flow": null,
            "grid_area": null,
            "grid_auto_columns": null,
            "grid_auto_flow": null,
            "grid_auto_rows": null,
            "grid_column": null,
            "grid_gap": null,
            "grid_row": null,
            "grid_template_areas": null,
            "grid_template_columns": null,
            "grid_template_rows": null,
            "height": null,
            "justify_content": null,
            "justify_items": null,
            "left": null,
            "margin": null,
            "max_height": null,
            "max_width": null,
            "min_height": null,
            "min_width": null,
            "object_fit": null,
            "object_position": null,
            "order": null,
            "overflow": null,
            "overflow_x": null,
            "overflow_y": null,
            "padding": null,
            "right": null,
            "top": null,
            "visibility": null,
            "width": null
          }
        },
        "ea0c16dcb36440d5a65420244d7c904f": {
          "model_module": "@jupyter-widgets/controls",
          "model_name": "DescriptionStyleModel",
          "model_module_version": "1.5.0",
          "state": {
            "_model_module": "@jupyter-widgets/controls",
            "_model_module_version": "1.5.0",
            "_model_name": "DescriptionStyleModel",
            "_view_count": null,
            "_view_module": "@jupyter-widgets/base",
            "_view_module_version": "1.2.0",
            "_view_name": "StyleView",
            "description_width": ""
          }
        },
        "606a600db84949f696caabe1024bd067": {
          "model_module": "@jupyter-widgets/controls",
          "model_name": "HBoxModel",
          "model_module_version": "1.5.0",
          "state": {
            "_dom_classes": [],
            "_model_module": "@jupyter-widgets/controls",
            "_model_module_version": "1.5.0",
            "_model_name": "HBoxModel",
            "_view_count": null,
            "_view_module": "@jupyter-widgets/controls",
            "_view_module_version": "1.5.0",
            "_view_name": "HBoxView",
            "box_style": "",
            "children": [
              "IPY_MODEL_56f3af716d8a4069a08d8f9cbe7607f7",
              "IPY_MODEL_7dfc27d2bddb4d23801c47d2f53dcc1c",
              "IPY_MODEL_fb250ad14daf4063a58e1685cabf4e3c"
            ],
            "layout": "IPY_MODEL_b3f8914999fe4d798b017c8d00009b7b"
          }
        },
        "56f3af716d8a4069a08d8f9cbe7607f7": {
          "model_module": "@jupyter-widgets/controls",
          "model_name": "HTMLModel",
          "model_module_version": "1.5.0",
          "state": {
            "_dom_classes": [],
            "_model_module": "@jupyter-widgets/controls",
            "_model_module_version": "1.5.0",
            "_model_name": "HTMLModel",
            "_view_count": null,
            "_view_module": "@jupyter-widgets/controls",
            "_view_module_version": "1.5.0",
            "_view_name": "HTMLView",
            "description": "",
            "description_tooltip": null,
            "layout": "IPY_MODEL_29a26f8b586f408ca43ab4caa63468c0",
            "placeholder": "​",
            "style": "IPY_MODEL_23af975df21540c0a8d7be516ff4f7b8",
            "value": "Downloading: 100%"
          }
        },
        "7dfc27d2bddb4d23801c47d2f53dcc1c": {
          "model_module": "@jupyter-widgets/controls",
          "model_name": "FloatProgressModel",
          "model_module_version": "1.5.0",
          "state": {
            "_dom_classes": [],
            "_model_module": "@jupyter-widgets/controls",
            "_model_module_version": "1.5.0",
            "_model_name": "FloatProgressModel",
            "_view_count": null,
            "_view_module": "@jupyter-widgets/controls",
            "_view_module_version": "1.5.0",
            "_view_name": "ProgressView",
            "bar_style": "success",
            "description": "",
            "description_tooltip": null,
            "layout": "IPY_MODEL_273bcb44f522495e9e65952b1d43c52f",
            "max": 570,
            "min": 0,
            "orientation": "horizontal",
            "style": "IPY_MODEL_73b62d10526d4bfc82ebe7391257e9cd",
            "value": 570
          }
        },
        "fb250ad14daf4063a58e1685cabf4e3c": {
          "model_module": "@jupyter-widgets/controls",
          "model_name": "HTMLModel",
          "model_module_version": "1.5.0",
          "state": {
            "_dom_classes": [],
            "_model_module": "@jupyter-widgets/controls",
            "_model_module_version": "1.5.0",
            "_model_name": "HTMLModel",
            "_view_count": null,
            "_view_module": "@jupyter-widgets/controls",
            "_view_module_version": "1.5.0",
            "_view_name": "HTMLView",
            "description": "",
            "description_tooltip": null,
            "layout": "IPY_MODEL_211cfb642bf244bdbba7ad221daa06e0",
            "placeholder": "​",
            "style": "IPY_MODEL_dde5b22639454908bc03f6b288a62e2f",
            "value": " 570/570 [00:00&lt;00:00, 21.2kB/s]"
          }
        },
        "b3f8914999fe4d798b017c8d00009b7b": {
          "model_module": "@jupyter-widgets/base",
          "model_name": "LayoutModel",
          "model_module_version": "1.2.0",
          "state": {
            "_model_module": "@jupyter-widgets/base",
            "_model_module_version": "1.2.0",
            "_model_name": "LayoutModel",
            "_view_count": null,
            "_view_module": "@jupyter-widgets/base",
            "_view_module_version": "1.2.0",
            "_view_name": "LayoutView",
            "align_content": null,
            "align_items": null,
            "align_self": null,
            "border": null,
            "bottom": null,
            "display": null,
            "flex": null,
            "flex_flow": null,
            "grid_area": null,
            "grid_auto_columns": null,
            "grid_auto_flow": null,
            "grid_auto_rows": null,
            "grid_column": null,
            "grid_gap": null,
            "grid_row": null,
            "grid_template_areas": null,
            "grid_template_columns": null,
            "grid_template_rows": null,
            "height": null,
            "justify_content": null,
            "justify_items": null,
            "left": null,
            "margin": null,
            "max_height": null,
            "max_width": null,
            "min_height": null,
            "min_width": null,
            "object_fit": null,
            "object_position": null,
            "order": null,
            "overflow": null,
            "overflow_x": null,
            "overflow_y": null,
            "padding": null,
            "right": null,
            "top": null,
            "visibility": null,
            "width": null
          }
        },
        "29a26f8b586f408ca43ab4caa63468c0": {
          "model_module": "@jupyter-widgets/base",
          "model_name": "LayoutModel",
          "model_module_version": "1.2.0",
          "state": {
            "_model_module": "@jupyter-widgets/base",
            "_model_module_version": "1.2.0",
            "_model_name": "LayoutModel",
            "_view_count": null,
            "_view_module": "@jupyter-widgets/base",
            "_view_module_version": "1.2.0",
            "_view_name": "LayoutView",
            "align_content": null,
            "align_items": null,
            "align_self": null,
            "border": null,
            "bottom": null,
            "display": null,
            "flex": null,
            "flex_flow": null,
            "grid_area": null,
            "grid_auto_columns": null,
            "grid_auto_flow": null,
            "grid_auto_rows": null,
            "grid_column": null,
            "grid_gap": null,
            "grid_row": null,
            "grid_template_areas": null,
            "grid_template_columns": null,
            "grid_template_rows": null,
            "height": null,
            "justify_content": null,
            "justify_items": null,
            "left": null,
            "margin": null,
            "max_height": null,
            "max_width": null,
            "min_height": null,
            "min_width": null,
            "object_fit": null,
            "object_position": null,
            "order": null,
            "overflow": null,
            "overflow_x": null,
            "overflow_y": null,
            "padding": null,
            "right": null,
            "top": null,
            "visibility": null,
            "width": null
          }
        },
        "23af975df21540c0a8d7be516ff4f7b8": {
          "model_module": "@jupyter-widgets/controls",
          "model_name": "DescriptionStyleModel",
          "model_module_version": "1.5.0",
          "state": {
            "_model_module": "@jupyter-widgets/controls",
            "_model_module_version": "1.5.0",
            "_model_name": "DescriptionStyleModel",
            "_view_count": null,
            "_view_module": "@jupyter-widgets/base",
            "_view_module_version": "1.2.0",
            "_view_name": "StyleView",
            "description_width": ""
          }
        },
        "273bcb44f522495e9e65952b1d43c52f": {
          "model_module": "@jupyter-widgets/base",
          "model_name": "LayoutModel",
          "model_module_version": "1.2.0",
          "state": {
            "_model_module": "@jupyter-widgets/base",
            "_model_module_version": "1.2.0",
            "_model_name": "LayoutModel",
            "_view_count": null,
            "_view_module": "@jupyter-widgets/base",
            "_view_module_version": "1.2.0",
            "_view_name": "LayoutView",
            "align_content": null,
            "align_items": null,
            "align_self": null,
            "border": null,
            "bottom": null,
            "display": null,
            "flex": null,
            "flex_flow": null,
            "grid_area": null,
            "grid_auto_columns": null,
            "grid_auto_flow": null,
            "grid_auto_rows": null,
            "grid_column": null,
            "grid_gap": null,
            "grid_row": null,
            "grid_template_areas": null,
            "grid_template_columns": null,
            "grid_template_rows": null,
            "height": null,
            "justify_content": null,
            "justify_items": null,
            "left": null,
            "margin": null,
            "max_height": null,
            "max_width": null,
            "min_height": null,
            "min_width": null,
            "object_fit": null,
            "object_position": null,
            "order": null,
            "overflow": null,
            "overflow_x": null,
            "overflow_y": null,
            "padding": null,
            "right": null,
            "top": null,
            "visibility": null,
            "width": null
          }
        },
        "73b62d10526d4bfc82ebe7391257e9cd": {
          "model_module": "@jupyter-widgets/controls",
          "model_name": "ProgressStyleModel",
          "model_module_version": "1.5.0",
          "state": {
            "_model_module": "@jupyter-widgets/controls",
            "_model_module_version": "1.5.0",
            "_model_name": "ProgressStyleModel",
            "_view_count": null,
            "_view_module": "@jupyter-widgets/base",
            "_view_module_version": "1.2.0",
            "_view_name": "StyleView",
            "bar_color": null,
            "description_width": ""
          }
        },
        "211cfb642bf244bdbba7ad221daa06e0": {
          "model_module": "@jupyter-widgets/base",
          "model_name": "LayoutModel",
          "model_module_version": "1.2.0",
          "state": {
            "_model_module": "@jupyter-widgets/base",
            "_model_module_version": "1.2.0",
            "_model_name": "LayoutModel",
            "_view_count": null,
            "_view_module": "@jupyter-widgets/base",
            "_view_module_version": "1.2.0",
            "_view_name": "LayoutView",
            "align_content": null,
            "align_items": null,
            "align_self": null,
            "border": null,
            "bottom": null,
            "display": null,
            "flex": null,
            "flex_flow": null,
            "grid_area": null,
            "grid_auto_columns": null,
            "grid_auto_flow": null,
            "grid_auto_rows": null,
            "grid_column": null,
            "grid_gap": null,
            "grid_row": null,
            "grid_template_areas": null,
            "grid_template_columns": null,
            "grid_template_rows": null,
            "height": null,
            "justify_content": null,
            "justify_items": null,
            "left": null,
            "margin": null,
            "max_height": null,
            "max_width": null,
            "min_height": null,
            "min_width": null,
            "object_fit": null,
            "object_position": null,
            "order": null,
            "overflow": null,
            "overflow_x": null,
            "overflow_y": null,
            "padding": null,
            "right": null,
            "top": null,
            "visibility": null,
            "width": null
          }
        },
        "dde5b22639454908bc03f6b288a62e2f": {
          "model_module": "@jupyter-widgets/controls",
          "model_name": "DescriptionStyleModel",
          "model_module_version": "1.5.0",
          "state": {
            "_model_module": "@jupyter-widgets/controls",
            "_model_module_version": "1.5.0",
            "_model_name": "DescriptionStyleModel",
            "_view_count": null,
            "_view_module": "@jupyter-widgets/base",
            "_view_module_version": "1.2.0",
            "_view_name": "StyleView",
            "description_width": ""
          }
        },
        "fcd31ff7cd9f42f7b85b3891b715ab3c": {
          "model_module": "@jupyter-widgets/controls",
          "model_name": "HBoxModel",
          "model_module_version": "1.5.0",
          "state": {
            "_dom_classes": [],
            "_model_module": "@jupyter-widgets/controls",
            "_model_module_version": "1.5.0",
            "_model_name": "HBoxModel",
            "_view_count": null,
            "_view_module": "@jupyter-widgets/controls",
            "_view_module_version": "1.5.0",
            "_view_name": "HBoxView",
            "box_style": "",
            "children": [
              "IPY_MODEL_813848ecec90458c895207bf5b504b03",
              "IPY_MODEL_1900bdc0bcfe4041a7ff9b601b6a28d6",
              "IPY_MODEL_8b6cd61ddd5b4aa2b189e7c6c3ef8389"
            ],
            "layout": "IPY_MODEL_4711e68c667346dea2f9faab8374461e"
          }
        },
        "813848ecec90458c895207bf5b504b03": {
          "model_module": "@jupyter-widgets/controls",
          "model_name": "HTMLModel",
          "model_module_version": "1.5.0",
          "state": {
            "_dom_classes": [],
            "_model_module": "@jupyter-widgets/controls",
            "_model_module_version": "1.5.0",
            "_model_name": "HTMLModel",
            "_view_count": null,
            "_view_module": "@jupyter-widgets/controls",
            "_view_module_version": "1.5.0",
            "_view_name": "HTMLView",
            "description": "",
            "description_tooltip": null,
            "layout": "IPY_MODEL_79d1843b0fea4842a5d4915ee7928c63",
            "placeholder": "​",
            "style": "IPY_MODEL_689ad0e2827343f999f90c846b34a9f4",
            "value": "Downloading: 100%"
          }
        },
        "1900bdc0bcfe4041a7ff9b601b6a28d6": {
          "model_module": "@jupyter-widgets/controls",
          "model_name": "FloatProgressModel",
          "model_module_version": "1.5.0",
          "state": {
            "_dom_classes": [],
            "_model_module": "@jupyter-widgets/controls",
            "_model_module_version": "1.5.0",
            "_model_name": "FloatProgressModel",
            "_view_count": null,
            "_view_module": "@jupyter-widgets/controls",
            "_view_module_version": "1.5.0",
            "_view_name": "ProgressView",
            "bar_style": "success",
            "description": "",
            "description_tooltip": null,
            "layout": "IPY_MODEL_d336fde86c4c4bfe91f978b7b3c606d1",
            "max": 440473133,
            "min": 0,
            "orientation": "horizontal",
            "style": "IPY_MODEL_3bf220f8588642ce92f6440ad3021b51",
            "value": 440473133
          }
        },
        "8b6cd61ddd5b4aa2b189e7c6c3ef8389": {
          "model_module": "@jupyter-widgets/controls",
          "model_name": "HTMLModel",
          "model_module_version": "1.5.0",
          "state": {
            "_dom_classes": [],
            "_model_module": "@jupyter-widgets/controls",
            "_model_module_version": "1.5.0",
            "_model_name": "HTMLModel",
            "_view_count": null,
            "_view_module": "@jupyter-widgets/controls",
            "_view_module_version": "1.5.0",
            "_view_name": "HTMLView",
            "description": "",
            "description_tooltip": null,
            "layout": "IPY_MODEL_3142b25041f34963b7f0db25695f9f54",
            "placeholder": "​",
            "style": "IPY_MODEL_797c52d2104a46ef9027f648bc1bb459",
            "value": " 440M/440M [00:06&lt;00:00, 77.5MB/s]"
          }
        },
        "4711e68c667346dea2f9faab8374461e": {
          "model_module": "@jupyter-widgets/base",
          "model_name": "LayoutModel",
          "model_module_version": "1.2.0",
          "state": {
            "_model_module": "@jupyter-widgets/base",
            "_model_module_version": "1.2.0",
            "_model_name": "LayoutModel",
            "_view_count": null,
            "_view_module": "@jupyter-widgets/base",
            "_view_module_version": "1.2.0",
            "_view_name": "LayoutView",
            "align_content": null,
            "align_items": null,
            "align_self": null,
            "border": null,
            "bottom": null,
            "display": null,
            "flex": null,
            "flex_flow": null,
            "grid_area": null,
            "grid_auto_columns": null,
            "grid_auto_flow": null,
            "grid_auto_rows": null,
            "grid_column": null,
            "grid_gap": null,
            "grid_row": null,
            "grid_template_areas": null,
            "grid_template_columns": null,
            "grid_template_rows": null,
            "height": null,
            "justify_content": null,
            "justify_items": null,
            "left": null,
            "margin": null,
            "max_height": null,
            "max_width": null,
            "min_height": null,
            "min_width": null,
            "object_fit": null,
            "object_position": null,
            "order": null,
            "overflow": null,
            "overflow_x": null,
            "overflow_y": null,
            "padding": null,
            "right": null,
            "top": null,
            "visibility": null,
            "width": null
          }
        },
        "79d1843b0fea4842a5d4915ee7928c63": {
          "model_module": "@jupyter-widgets/base",
          "model_name": "LayoutModel",
          "model_module_version": "1.2.0",
          "state": {
            "_model_module": "@jupyter-widgets/base",
            "_model_module_version": "1.2.0",
            "_model_name": "LayoutModel",
            "_view_count": null,
            "_view_module": "@jupyter-widgets/base",
            "_view_module_version": "1.2.0",
            "_view_name": "LayoutView",
            "align_content": null,
            "align_items": null,
            "align_self": null,
            "border": null,
            "bottom": null,
            "display": null,
            "flex": null,
            "flex_flow": null,
            "grid_area": null,
            "grid_auto_columns": null,
            "grid_auto_flow": null,
            "grid_auto_rows": null,
            "grid_column": null,
            "grid_gap": null,
            "grid_row": null,
            "grid_template_areas": null,
            "grid_template_columns": null,
            "grid_template_rows": null,
            "height": null,
            "justify_content": null,
            "justify_items": null,
            "left": null,
            "margin": null,
            "max_height": null,
            "max_width": null,
            "min_height": null,
            "min_width": null,
            "object_fit": null,
            "object_position": null,
            "order": null,
            "overflow": null,
            "overflow_x": null,
            "overflow_y": null,
            "padding": null,
            "right": null,
            "top": null,
            "visibility": null,
            "width": null
          }
        },
        "689ad0e2827343f999f90c846b34a9f4": {
          "model_module": "@jupyter-widgets/controls",
          "model_name": "DescriptionStyleModel",
          "model_module_version": "1.5.0",
          "state": {
            "_model_module": "@jupyter-widgets/controls",
            "_model_module_version": "1.5.0",
            "_model_name": "DescriptionStyleModel",
            "_view_count": null,
            "_view_module": "@jupyter-widgets/base",
            "_view_module_version": "1.2.0",
            "_view_name": "StyleView",
            "description_width": ""
          }
        },
        "d336fde86c4c4bfe91f978b7b3c606d1": {
          "model_module": "@jupyter-widgets/base",
          "model_name": "LayoutModel",
          "model_module_version": "1.2.0",
          "state": {
            "_model_module": "@jupyter-widgets/base",
            "_model_module_version": "1.2.0",
            "_model_name": "LayoutModel",
            "_view_count": null,
            "_view_module": "@jupyter-widgets/base",
            "_view_module_version": "1.2.0",
            "_view_name": "LayoutView",
            "align_content": null,
            "align_items": null,
            "align_self": null,
            "border": null,
            "bottom": null,
            "display": null,
            "flex": null,
            "flex_flow": null,
            "grid_area": null,
            "grid_auto_columns": null,
            "grid_auto_flow": null,
            "grid_auto_rows": null,
            "grid_column": null,
            "grid_gap": null,
            "grid_row": null,
            "grid_template_areas": null,
            "grid_template_columns": null,
            "grid_template_rows": null,
            "height": null,
            "justify_content": null,
            "justify_items": null,
            "left": null,
            "margin": null,
            "max_height": null,
            "max_width": null,
            "min_height": null,
            "min_width": null,
            "object_fit": null,
            "object_position": null,
            "order": null,
            "overflow": null,
            "overflow_x": null,
            "overflow_y": null,
            "padding": null,
            "right": null,
            "top": null,
            "visibility": null,
            "width": null
          }
        },
        "3bf220f8588642ce92f6440ad3021b51": {
          "model_module": "@jupyter-widgets/controls",
          "model_name": "ProgressStyleModel",
          "model_module_version": "1.5.0",
          "state": {
            "_model_module": "@jupyter-widgets/controls",
            "_model_module_version": "1.5.0",
            "_model_name": "ProgressStyleModel",
            "_view_count": null,
            "_view_module": "@jupyter-widgets/base",
            "_view_module_version": "1.2.0",
            "_view_name": "StyleView",
            "bar_color": null,
            "description_width": ""
          }
        },
        "3142b25041f34963b7f0db25695f9f54": {
          "model_module": "@jupyter-widgets/base",
          "model_name": "LayoutModel",
          "model_module_version": "1.2.0",
          "state": {
            "_model_module": "@jupyter-widgets/base",
            "_model_module_version": "1.2.0",
            "_model_name": "LayoutModel",
            "_view_count": null,
            "_view_module": "@jupyter-widgets/base",
            "_view_module_version": "1.2.0",
            "_view_name": "LayoutView",
            "align_content": null,
            "align_items": null,
            "align_self": null,
            "border": null,
            "bottom": null,
            "display": null,
            "flex": null,
            "flex_flow": null,
            "grid_area": null,
            "grid_auto_columns": null,
            "grid_auto_flow": null,
            "grid_auto_rows": null,
            "grid_column": null,
            "grid_gap": null,
            "grid_row": null,
            "grid_template_areas": null,
            "grid_template_columns": null,
            "grid_template_rows": null,
            "height": null,
            "justify_content": null,
            "justify_items": null,
            "left": null,
            "margin": null,
            "max_height": null,
            "max_width": null,
            "min_height": null,
            "min_width": null,
            "object_fit": null,
            "object_position": null,
            "order": null,
            "overflow": null,
            "overflow_x": null,
            "overflow_y": null,
            "padding": null,
            "right": null,
            "top": null,
            "visibility": null,
            "width": null
          }
        },
        "797c52d2104a46ef9027f648bc1bb459": {
          "model_module": "@jupyter-widgets/controls",
          "model_name": "DescriptionStyleModel",
          "model_module_version": "1.5.0",
          "state": {
            "_model_module": "@jupyter-widgets/controls",
            "_model_module_version": "1.5.0",
            "_model_name": "DescriptionStyleModel",
            "_view_count": null,
            "_view_module": "@jupyter-widgets/base",
            "_view_module_version": "1.2.0",
            "_view_name": "StyleView",
            "description_width": ""
          }
        }
      }
    }
  },
  "cells": [
    {
      "cell_type": "markdown",
      "metadata": {
        "id": "view-in-github",
        "colab_type": "text"
      },
      "source": [
        "<a href=\"https://colab.research.google.com/github/edithgomezs/Natural-Language-Processing---Final-Project/blob/main/Edith_Task1_NLP_Yelp.ipynb\" target=\"_parent\"><img src=\"https://colab.research.google.com/assets/colab-badge.svg\" alt=\"Open In Colab\"/></a>"
      ]
    },
    {
      "cell_type": "markdown",
      "source": [
        "Importing libraries"
      ],
      "metadata": {
        "id": "gFkzKmv798TC"
      }
    },
    {
      "cell_type": "code",
      "source": [
        "!pip install transformers"
      ],
      "metadata": {
        "colab": {
          "base_uri": "https://localhost:8080/"
        },
        "id": "knvjZtI3ivcG",
        "outputId": "af5ca9e0-e8ee-4597-ee71-57a621770028"
      },
      "execution_count": 1,
      "outputs": [
        {
          "output_type": "stream",
          "name": "stdout",
          "text": [
            "Looking in indexes: https://pypi.org/simple, https://us-python.pkg.dev/colab-wheels/public/simple/\n",
            "Collecting transformers\n",
            "  Downloading transformers-4.25.1-py3-none-any.whl (5.8 MB)\n",
            "\u001b[K     |████████████████████████████████| 5.8 MB 31.7 MB/s \n",
            "\u001b[?25hRequirement already satisfied: filelock in /usr/local/lib/python3.8/dist-packages (from transformers) (3.8.0)\n",
            "Collecting huggingface-hub<1.0,>=0.10.0\n",
            "  Downloading huggingface_hub-0.11.1-py3-none-any.whl (182 kB)\n",
            "\u001b[K     |████████████████████████████████| 182 kB 70.6 MB/s \n",
            "\u001b[?25hRequirement already satisfied: regex!=2019.12.17 in /usr/local/lib/python3.8/dist-packages (from transformers) (2022.6.2)\n",
            "Requirement already satisfied: requests in /usr/local/lib/python3.8/dist-packages (from transformers) (2.23.0)\n",
            "Requirement already satisfied: packaging>=20.0 in /usr/local/lib/python3.8/dist-packages (from transformers) (21.3)\n",
            "Requirement already satisfied: pyyaml>=5.1 in /usr/local/lib/python3.8/dist-packages (from transformers) (6.0)\n",
            "Collecting tokenizers!=0.11.3,<0.14,>=0.11.1\n",
            "  Downloading tokenizers-0.13.2-cp38-cp38-manylinux_2_17_x86_64.manylinux2014_x86_64.whl (7.6 MB)\n",
            "\u001b[K     |████████████████████████████████| 7.6 MB 46.4 MB/s \n",
            "\u001b[?25hRequirement already satisfied: tqdm>=4.27 in /usr/local/lib/python3.8/dist-packages (from transformers) (4.64.1)\n",
            "Requirement already satisfied: numpy>=1.17 in /usr/local/lib/python3.8/dist-packages (from transformers) (1.21.6)\n",
            "Requirement already satisfied: typing-extensions>=3.7.4.3 in /usr/local/lib/python3.8/dist-packages (from huggingface-hub<1.0,>=0.10.0->transformers) (4.4.0)\n",
            "Requirement already satisfied: pyparsing!=3.0.5,>=2.0.2 in /usr/local/lib/python3.8/dist-packages (from packaging>=20.0->transformers) (3.0.9)\n",
            "Requirement already satisfied: urllib3!=1.25.0,!=1.25.1,<1.26,>=1.21.1 in /usr/local/lib/python3.8/dist-packages (from requests->transformers) (1.24.3)\n",
            "Requirement already satisfied: idna<3,>=2.5 in /usr/local/lib/python3.8/dist-packages (from requests->transformers) (2.10)\n",
            "Requirement already satisfied: certifi>=2017.4.17 in /usr/local/lib/python3.8/dist-packages (from requests->transformers) (2022.9.24)\n",
            "Requirement already satisfied: chardet<4,>=3.0.2 in /usr/local/lib/python3.8/dist-packages (from requests->transformers) (3.0.4)\n",
            "Installing collected packages: tokenizers, huggingface-hub, transformers\n",
            "Successfully installed huggingface-hub-0.11.1 tokenizers-0.13.2 transformers-4.25.1\n"
          ]
        }
      ]
    },
    {
      "cell_type": "code",
      "source": [
        "from sklearn.utils import resample\n",
        "from google.colab import files\n",
        "import json\n",
        "import pandas as pd\n",
        "from IPython.display import HTML, display\n",
        "import time\n",
        "import gc\n",
        "import numpy as np\n",
        "import matplotlib.pyplot as plt\n",
        "import seaborn as sns\n",
        "from sklearn.model_selection import train_test_split\n",
        "from sklearn.svm import SVC\n",
        "from sklearn.metrics import classification_report\n",
        "from nltk.corpus import stopwords\n",
        "from nltk.stem import PorterStemmer\n",
        "from nltk.tokenize import word_tokenize\n",
        "import string\n",
        "import nltk \n",
        "from sklearn.svm import SVC\n",
        "from sklearn.metrics import classification_report\n",
        "from sklearn.feature_extraction.text import TfidfVectorizer\n",
        "from sklearn.feature_extraction.text import CountVectorizer\n",
        "from sklearn.linear_model import LogisticRegression\n",
        "from sklearn.ensemble import RandomForestClassifier\n",
        "from sklearn.naive_bayes import MultinomialNB\n",
        "from sklearn.tree import DecisionTreeClassifier\n",
        "from sklearn.metrics import f1_score, accuracy_score, multilabel_confusion_matrix\n",
        "from transformers import BertTokenizer, BertForSequenceClassification\n",
        "from transformers import AdamW, get_linear_schedule_with_warmup\n",
        "import torch\n",
        "from sklearn.metrics import accuracy_score, precision_score, recall_score, f1_score\n",
        "from transformers import Trainer, TrainingArguments\n",
        "import tensorflow as tf\n",
        "from tensorflow.keras.preprocessing.text import Tokenizer\n",
        "from tensorflow.keras.preprocessing.sequence import pad_sequences\n",
        "from tensorflow.keras.models import Sequential\n",
        "from tensorflow.keras.layers import Dense, Flatten, LSTM, Dropout, Activation, Embedding, Bidirectional\n",
        "import tensorflow.keras as keras\n",
        "from sklearn.metrics import confusion_matrix, ConfusionMatrixDisplay\n",
        "import matplotlib.pyplot as plt\n",
        "from matplotlib.pyplot import figure"
      ],
      "metadata": {
        "id": "DurWICu18yv2"
      },
      "execution_count": 2,
      "outputs": []
    },
    {
      "cell_type": "code",
      "source": [
        "nltk.download('stopwords')"
      ],
      "metadata": {
        "colab": {
          "base_uri": "https://localhost:8080/"
        },
        "id": "1D7YOpqqCzlr",
        "outputId": "e69c4a65-93e3-441a-cd6f-bd0dc8404ab4"
      },
      "execution_count": 3,
      "outputs": [
        {
          "output_type": "stream",
          "name": "stderr",
          "text": [
            "[nltk_data] Downloading package stopwords to /root/nltk_data...\n",
            "[nltk_data]   Unzipping corpora/stopwords.zip.\n"
          ]
        },
        {
          "output_type": "execute_result",
          "data": {
            "text/plain": [
              "True"
            ]
          },
          "metadata": {},
          "execution_count": 3
        }
      ]
    },
    {
      "cell_type": "code",
      "source": [
        "nltk.download('punkt')"
      ],
      "metadata": {
        "colab": {
          "base_uri": "https://localhost:8080/"
        },
        "id": "pweJDcJLJRNe",
        "outputId": "41412a45-3ed6-4390-aecf-e6cf0855446a"
      },
      "execution_count": 4,
      "outputs": [
        {
          "output_type": "stream",
          "name": "stderr",
          "text": [
            "[nltk_data] Downloading package punkt to /root/nltk_data...\n",
            "[nltk_data]   Unzipping tokenizers/punkt.zip.\n"
          ]
        },
        {
          "output_type": "execute_result",
          "data": {
            "text/plain": [
              "True"
            ]
          },
          "metadata": {},
          "execution_count": 4
        }
      ]
    },
    {
      "cell_type": "code",
      "source": [
        "# Conect notebook to google drive folders\n",
        "\n",
        "from google.colab import drive\n",
        "drive.mount('/content/drive')"
      ],
      "metadata": {
        "colab": {
          "base_uri": "https://localhost:8080/"
        },
        "id": "RcUbHY1zjyHX",
        "outputId": "e94007a6-712c-4f41-cd97-e4be1c911b75"
      },
      "execution_count": 5,
      "outputs": [
        {
          "output_type": "stream",
          "name": "stdout",
          "text": [
            "Mounted at /content/drive\n"
          ]
        }
      ]
    },
    {
      "cell_type": "markdown",
      "source": [
        "# Task 1 - Can we predict the most popular sentiment about a review? (Useful, Funny, Cool, None (Zero votes for any))"
      ],
      "metadata": {
        "id": "v3BKIYzRoBQN"
      }
    },
    {
      "cell_type": "markdown",
      "source": [
        "## Reading the Dataset"
      ],
      "metadata": {
        "id": "22KeI5GBxsKC"
      }
    },
    {
      "cell_type": "code",
      "source": [
        "df = pd.read_csv(r'/content/drive/MyDrive/yelp_data_sample.csv')\n",
        "df.head(10)"
      ],
      "metadata": {
        "colab": {
          "base_uri": "https://localhost:8080/",
          "height": 598
        },
        "id": "dh4toM16oMhW",
        "outputId": "29b65286-8f6e-41bc-c16c-248c32397714"
      },
      "execution_count": 7,
      "outputs": [
        {
          "output_type": "execute_result",
          "data": {
            "text/plain": [
              "   Unnamed: 0               review_id  stars  useful  funny  cool  \\\n",
              "0           0  BFaW6f0VQ1BHCF0JCtDkyg      4       5      3     2   \n",
              "1           1  5cjA-ZZDdZDqQgzhIRLyCw      4       0      0     0   \n",
              "2           2  4WuqRDC--to0vSiFhSYwXQ      4       1      0     2   \n",
              "3           3  B5xq-_eZK7wAmzqwRTSGIw      3       1      1     0   \n",
              "4           4  SF0TjRXMZG0Ky4NsY887Aw      4       0      0     0   \n",
              "5           5  KhmqvdkCSz-I--GqE9y8vA      5       1      0     0   \n",
              "6           6  hoWQGSgMYkMsrN-ClgiSEg      5       0      0     0   \n",
              "7           7  CJZwchkHlrkXQa9wJTOQpQ      4       2      0     2   \n",
              "8           8  lPHydYGuTRD5ncmGL6q01g      1       0      0     0   \n",
              "9           9  J9KICzF17FLwFWt2AOI57A      4       0      0     0   \n",
              "\n",
              "                                                text  user_useful  user_funny  \\\n",
              "0  I lived here for two years and really liked it...     0.628049    0.158537   \n",
              "1  We had a groupon/living social (some deal!) fo...     0.628049    0.158537   \n",
              "2  I've had lunch many times and its a great deal...     0.628049    0.158537   \n",
              "3  We arranged for a rather large group at Jolly'...     0.628049    0.158537   \n",
              "4  5 stars for the chocolate pizza (with bananas ...     0.628049    0.158537   \n",
              "5  It's best to go on off days/times, but this pl...     0.628049    0.158537   \n",
              "6  I love ESP.  \\n\\nI went to their Halloween eve...     0.628049    0.158537   \n",
              "7  I've been here twice now and have had a facial...     0.628049    0.158537   \n",
              "8  I will not be returning to Minar in the future...     0.628049    0.158537   \n",
              "9  Its really hard to find good produce in Ritten...     0.628049    0.158537   \n",
              "\n",
              "   user_cool  \n",
              "0   0.213415  \n",
              "1   0.213415  \n",
              "2   0.213415  \n",
              "3   0.213415  \n",
              "4   0.213415  \n",
              "5   0.213415  \n",
              "6   0.213415  \n",
              "7   0.213415  \n",
              "8   0.213415  \n",
              "9   0.213415  "
            ],
            "text/html": [
              "\n",
              "  <div id=\"df-d0b67e53-8cb1-4247-9d92-67e9d1731eed\">\n",
              "    <div class=\"colab-df-container\">\n",
              "      <div>\n",
              "<style scoped>\n",
              "    .dataframe tbody tr th:only-of-type {\n",
              "        vertical-align: middle;\n",
              "    }\n",
              "\n",
              "    .dataframe tbody tr th {\n",
              "        vertical-align: top;\n",
              "    }\n",
              "\n",
              "    .dataframe thead th {\n",
              "        text-align: right;\n",
              "    }\n",
              "</style>\n",
              "<table border=\"1\" class=\"dataframe\">\n",
              "  <thead>\n",
              "    <tr style=\"text-align: right;\">\n",
              "      <th></th>\n",
              "      <th>Unnamed: 0</th>\n",
              "      <th>review_id</th>\n",
              "      <th>stars</th>\n",
              "      <th>useful</th>\n",
              "      <th>funny</th>\n",
              "      <th>cool</th>\n",
              "      <th>text</th>\n",
              "      <th>user_useful</th>\n",
              "      <th>user_funny</th>\n",
              "      <th>user_cool</th>\n",
              "    </tr>\n",
              "  </thead>\n",
              "  <tbody>\n",
              "    <tr>\n",
              "      <th>0</th>\n",
              "      <td>0</td>\n",
              "      <td>BFaW6f0VQ1BHCF0JCtDkyg</td>\n",
              "      <td>4</td>\n",
              "      <td>5</td>\n",
              "      <td>3</td>\n",
              "      <td>2</td>\n",
              "      <td>I lived here for two years and really liked it...</td>\n",
              "      <td>0.628049</td>\n",
              "      <td>0.158537</td>\n",
              "      <td>0.213415</td>\n",
              "    </tr>\n",
              "    <tr>\n",
              "      <th>1</th>\n",
              "      <td>1</td>\n",
              "      <td>5cjA-ZZDdZDqQgzhIRLyCw</td>\n",
              "      <td>4</td>\n",
              "      <td>0</td>\n",
              "      <td>0</td>\n",
              "      <td>0</td>\n",
              "      <td>We had a groupon/living social (some deal!) fo...</td>\n",
              "      <td>0.628049</td>\n",
              "      <td>0.158537</td>\n",
              "      <td>0.213415</td>\n",
              "    </tr>\n",
              "    <tr>\n",
              "      <th>2</th>\n",
              "      <td>2</td>\n",
              "      <td>4WuqRDC--to0vSiFhSYwXQ</td>\n",
              "      <td>4</td>\n",
              "      <td>1</td>\n",
              "      <td>0</td>\n",
              "      <td>2</td>\n",
              "      <td>I've had lunch many times and its a great deal...</td>\n",
              "      <td>0.628049</td>\n",
              "      <td>0.158537</td>\n",
              "      <td>0.213415</td>\n",
              "    </tr>\n",
              "    <tr>\n",
              "      <th>3</th>\n",
              "      <td>3</td>\n",
              "      <td>B5xq-_eZK7wAmzqwRTSGIw</td>\n",
              "      <td>3</td>\n",
              "      <td>1</td>\n",
              "      <td>1</td>\n",
              "      <td>0</td>\n",
              "      <td>We arranged for a rather large group at Jolly'...</td>\n",
              "      <td>0.628049</td>\n",
              "      <td>0.158537</td>\n",
              "      <td>0.213415</td>\n",
              "    </tr>\n",
              "    <tr>\n",
              "      <th>4</th>\n",
              "      <td>4</td>\n",
              "      <td>SF0TjRXMZG0Ky4NsY887Aw</td>\n",
              "      <td>4</td>\n",
              "      <td>0</td>\n",
              "      <td>0</td>\n",
              "      <td>0</td>\n",
              "      <td>5 stars for the chocolate pizza (with bananas ...</td>\n",
              "      <td>0.628049</td>\n",
              "      <td>0.158537</td>\n",
              "      <td>0.213415</td>\n",
              "    </tr>\n",
              "    <tr>\n",
              "      <th>5</th>\n",
              "      <td>5</td>\n",
              "      <td>KhmqvdkCSz-I--GqE9y8vA</td>\n",
              "      <td>5</td>\n",
              "      <td>1</td>\n",
              "      <td>0</td>\n",
              "      <td>0</td>\n",
              "      <td>It's best to go on off days/times, but this pl...</td>\n",
              "      <td>0.628049</td>\n",
              "      <td>0.158537</td>\n",
              "      <td>0.213415</td>\n",
              "    </tr>\n",
              "    <tr>\n",
              "      <th>6</th>\n",
              "      <td>6</td>\n",
              "      <td>hoWQGSgMYkMsrN-ClgiSEg</td>\n",
              "      <td>5</td>\n",
              "      <td>0</td>\n",
              "      <td>0</td>\n",
              "      <td>0</td>\n",
              "      <td>I love ESP.  \\n\\nI went to their Halloween eve...</td>\n",
              "      <td>0.628049</td>\n",
              "      <td>0.158537</td>\n",
              "      <td>0.213415</td>\n",
              "    </tr>\n",
              "    <tr>\n",
              "      <th>7</th>\n",
              "      <td>7</td>\n",
              "      <td>CJZwchkHlrkXQa9wJTOQpQ</td>\n",
              "      <td>4</td>\n",
              "      <td>2</td>\n",
              "      <td>0</td>\n",
              "      <td>2</td>\n",
              "      <td>I've been here twice now and have had a facial...</td>\n",
              "      <td>0.628049</td>\n",
              "      <td>0.158537</td>\n",
              "      <td>0.213415</td>\n",
              "    </tr>\n",
              "    <tr>\n",
              "      <th>8</th>\n",
              "      <td>8</td>\n",
              "      <td>lPHydYGuTRD5ncmGL6q01g</td>\n",
              "      <td>1</td>\n",
              "      <td>0</td>\n",
              "      <td>0</td>\n",
              "      <td>0</td>\n",
              "      <td>I will not be returning to Minar in the future...</td>\n",
              "      <td>0.628049</td>\n",
              "      <td>0.158537</td>\n",
              "      <td>0.213415</td>\n",
              "    </tr>\n",
              "    <tr>\n",
              "      <th>9</th>\n",
              "      <td>9</td>\n",
              "      <td>J9KICzF17FLwFWt2AOI57A</td>\n",
              "      <td>4</td>\n",
              "      <td>0</td>\n",
              "      <td>0</td>\n",
              "      <td>0</td>\n",
              "      <td>Its really hard to find good produce in Ritten...</td>\n",
              "      <td>0.628049</td>\n",
              "      <td>0.158537</td>\n",
              "      <td>0.213415</td>\n",
              "    </tr>\n",
              "  </tbody>\n",
              "</table>\n",
              "</div>\n",
              "      <button class=\"colab-df-convert\" onclick=\"convertToInteractive('df-d0b67e53-8cb1-4247-9d92-67e9d1731eed')\"\n",
              "              title=\"Convert this dataframe to an interactive table.\"\n",
              "              style=\"display:none;\">\n",
              "        \n",
              "  <svg xmlns=\"http://www.w3.org/2000/svg\" height=\"24px\"viewBox=\"0 0 24 24\"\n",
              "       width=\"24px\">\n",
              "    <path d=\"M0 0h24v24H0V0z\" fill=\"none\"/>\n",
              "    <path d=\"M18.56 5.44l.94 2.06.94-2.06 2.06-.94-2.06-.94-.94-2.06-.94 2.06-2.06.94zm-11 1L8.5 8.5l.94-2.06 2.06-.94-2.06-.94L8.5 2.5l-.94 2.06-2.06.94zm10 10l.94 2.06.94-2.06 2.06-.94-2.06-.94-.94-2.06-.94 2.06-2.06.94z\"/><path d=\"M17.41 7.96l-1.37-1.37c-.4-.4-.92-.59-1.43-.59-.52 0-1.04.2-1.43.59L10.3 9.45l-7.72 7.72c-.78.78-.78 2.05 0 2.83L4 21.41c.39.39.9.59 1.41.59.51 0 1.02-.2 1.41-.59l7.78-7.78 2.81-2.81c.8-.78.8-2.07 0-2.86zM5.41 20L4 18.59l7.72-7.72 1.47 1.35L5.41 20z\"/>\n",
              "  </svg>\n",
              "      </button>\n",
              "      \n",
              "  <style>\n",
              "    .colab-df-container {\n",
              "      display:flex;\n",
              "      flex-wrap:wrap;\n",
              "      gap: 12px;\n",
              "    }\n",
              "\n",
              "    .colab-df-convert {\n",
              "      background-color: #E8F0FE;\n",
              "      border: none;\n",
              "      border-radius: 50%;\n",
              "      cursor: pointer;\n",
              "      display: none;\n",
              "      fill: #1967D2;\n",
              "      height: 32px;\n",
              "      padding: 0 0 0 0;\n",
              "      width: 32px;\n",
              "    }\n",
              "\n",
              "    .colab-df-convert:hover {\n",
              "      background-color: #E2EBFA;\n",
              "      box-shadow: 0px 1px 2px rgba(60, 64, 67, 0.3), 0px 1px 3px 1px rgba(60, 64, 67, 0.15);\n",
              "      fill: #174EA6;\n",
              "    }\n",
              "\n",
              "    [theme=dark] .colab-df-convert {\n",
              "      background-color: #3B4455;\n",
              "      fill: #D2E3FC;\n",
              "    }\n",
              "\n",
              "    [theme=dark] .colab-df-convert:hover {\n",
              "      background-color: #434B5C;\n",
              "      box-shadow: 0px 1px 3px 1px rgba(0, 0, 0, 0.15);\n",
              "      filter: drop-shadow(0px 1px 2px rgba(0, 0, 0, 0.3));\n",
              "      fill: #FFFFFF;\n",
              "    }\n",
              "  </style>\n",
              "\n",
              "      <script>\n",
              "        const buttonEl =\n",
              "          document.querySelector('#df-d0b67e53-8cb1-4247-9d92-67e9d1731eed button.colab-df-convert');\n",
              "        buttonEl.style.display =\n",
              "          google.colab.kernel.accessAllowed ? 'block' : 'none';\n",
              "\n",
              "        async function convertToInteractive(key) {\n",
              "          const element = document.querySelector('#df-d0b67e53-8cb1-4247-9d92-67e9d1731eed');\n",
              "          const dataTable =\n",
              "            await google.colab.kernel.invokeFunction('convertToInteractive',\n",
              "                                                     [key], {});\n",
              "          if (!dataTable) return;\n",
              "\n",
              "          const docLinkHtml = 'Like what you see? Visit the ' +\n",
              "            '<a target=\"_blank\" href=https://colab.research.google.com/notebooks/data_table.ipynb>data table notebook</a>'\n",
              "            + ' to learn more about interactive tables.';\n",
              "          element.innerHTML = '';\n",
              "          dataTable['output_type'] = 'display_data';\n",
              "          await google.colab.output.renderOutput(dataTable, element);\n",
              "          const docLink = document.createElement('div');\n",
              "          docLink.innerHTML = docLinkHtml;\n",
              "          element.appendChild(docLink);\n",
              "        }\n",
              "      </script>\n",
              "    </div>\n",
              "  </div>\n",
              "  "
            ]
          },
          "metadata": {},
          "execution_count": 7
        }
      ]
    },
    {
      "cell_type": "code",
      "source": [
        "df.tail(10)"
      ],
      "metadata": {
        "colab": {
          "base_uri": "https://localhost:8080/",
          "height": 598
        },
        "id": "4kuYN_Ovs0AU",
        "outputId": "0404ea70-3c64-4481-9704-fae4aa3f4545"
      },
      "execution_count": 8,
      "outputs": [
        {
          "output_type": "execute_result",
          "data": {
            "text/plain": [
              "         Unnamed: 0               review_id  stars  useful  funny  cool  \\\n",
              "1398033     1398033  4ZCXEtTf3TFOnP3m1HGyPQ      5       1      0     0   \n",
              "1398034     1398034  L6OuTqrdiLlMqvLFyWayDg      5       0      0     0   \n",
              "1398035     1398035  ZWGBkDaS81RZz-SB0_NFQw      3       0      0     0   \n",
              "1398036     1398036  4DGA9HH18s_ifFO0zeR_SA      1       2      0     0   \n",
              "1398037     1398037  FRxtN_8JSKdiTU0Eks5NBw      1       0      0     0   \n",
              "1398038     1398038  mQNNgVLdcv0pSjo9xpx1ng      5       0      0     0   \n",
              "1398039     1398039  MyrCqiVNZIMdmlwKl45ymg      2       0      0     0   \n",
              "1398040     1398040  dyzFL_d6f5KnuOqdWl-rBA      5       0      0     0   \n",
              "1398041     1398041  BotWI74kUPrGqczTnddejw      5       0      0     0   \n",
              "1398042     1398042  XNvfChtLjzCyDakIfY07TQ      1       0      0     0   \n",
              "\n",
              "                                                      text  user_useful  \\\n",
              "1398033  Everyone was friendly and welcoming. There was...     0.625000   \n",
              "1398034  April and John have been with us for 2 purchas...     0.500000   \n",
              "1398035  2/22/2021 - Huge fan of Mad Mex and haven't be...     0.666667   \n",
              "1398036  Do not take your dogs to the salon. I unfortun...     0.714286   \n",
              "1398037  I experienced a horrible experience and custom...     0.400000   \n",
              "1398038  Best tacos ,burritos and tortas in town!!!\\nRe...     0.333333   \n",
              "1398039  The Mrs. and I tried the updated Diamond Diner...     0.333333   \n",
              "1398040  Not only is this the best Mexican in East Nash...     0.800000   \n",
              "1398041  Loved it. Amazing burgers. A little loud insid...     0.600000   \n",
              "1398042  TLDR: Owner flipping off my wife and charging ...     0.333333   \n",
              "\n",
              "         user_funny  user_cool  \n",
              "1398033    0.125000   0.250000  \n",
              "1398034    0.000000   0.500000  \n",
              "1398035    0.000000   0.333333  \n",
              "1398036    0.000000   0.285714  \n",
              "1398037    0.400000   0.200000  \n",
              "1398038    0.333333   0.333333  \n",
              "1398039    0.333333   0.333333  \n",
              "1398040    0.100000   0.100000  \n",
              "1398041    0.000000   0.400000  \n",
              "1398042    0.333333   0.333333  "
            ],
            "text/html": [
              "\n",
              "  <div id=\"df-af040367-3c79-4e79-b93c-1a9ecc5caf55\">\n",
              "    <div class=\"colab-df-container\">\n",
              "      <div>\n",
              "<style scoped>\n",
              "    .dataframe tbody tr th:only-of-type {\n",
              "        vertical-align: middle;\n",
              "    }\n",
              "\n",
              "    .dataframe tbody tr th {\n",
              "        vertical-align: top;\n",
              "    }\n",
              "\n",
              "    .dataframe thead th {\n",
              "        text-align: right;\n",
              "    }\n",
              "</style>\n",
              "<table border=\"1\" class=\"dataframe\">\n",
              "  <thead>\n",
              "    <tr style=\"text-align: right;\">\n",
              "      <th></th>\n",
              "      <th>Unnamed: 0</th>\n",
              "      <th>review_id</th>\n",
              "      <th>stars</th>\n",
              "      <th>useful</th>\n",
              "      <th>funny</th>\n",
              "      <th>cool</th>\n",
              "      <th>text</th>\n",
              "      <th>user_useful</th>\n",
              "      <th>user_funny</th>\n",
              "      <th>user_cool</th>\n",
              "    </tr>\n",
              "  </thead>\n",
              "  <tbody>\n",
              "    <tr>\n",
              "      <th>1398033</th>\n",
              "      <td>1398033</td>\n",
              "      <td>4ZCXEtTf3TFOnP3m1HGyPQ</td>\n",
              "      <td>5</td>\n",
              "      <td>1</td>\n",
              "      <td>0</td>\n",
              "      <td>0</td>\n",
              "      <td>Everyone was friendly and welcoming. There was...</td>\n",
              "      <td>0.625000</td>\n",
              "      <td>0.125000</td>\n",
              "      <td>0.250000</td>\n",
              "    </tr>\n",
              "    <tr>\n",
              "      <th>1398034</th>\n",
              "      <td>1398034</td>\n",
              "      <td>L6OuTqrdiLlMqvLFyWayDg</td>\n",
              "      <td>5</td>\n",
              "      <td>0</td>\n",
              "      <td>0</td>\n",
              "      <td>0</td>\n",
              "      <td>April and John have been with us for 2 purchas...</td>\n",
              "      <td>0.500000</td>\n",
              "      <td>0.000000</td>\n",
              "      <td>0.500000</td>\n",
              "    </tr>\n",
              "    <tr>\n",
              "      <th>1398035</th>\n",
              "      <td>1398035</td>\n",
              "      <td>ZWGBkDaS81RZz-SB0_NFQw</td>\n",
              "      <td>3</td>\n",
              "      <td>0</td>\n",
              "      <td>0</td>\n",
              "      <td>0</td>\n",
              "      <td>2/22/2021 - Huge fan of Mad Mex and haven't be...</td>\n",
              "      <td>0.666667</td>\n",
              "      <td>0.000000</td>\n",
              "      <td>0.333333</td>\n",
              "    </tr>\n",
              "    <tr>\n",
              "      <th>1398036</th>\n",
              "      <td>1398036</td>\n",
              "      <td>4DGA9HH18s_ifFO0zeR_SA</td>\n",
              "      <td>1</td>\n",
              "      <td>2</td>\n",
              "      <td>0</td>\n",
              "      <td>0</td>\n",
              "      <td>Do not take your dogs to the salon. I unfortun...</td>\n",
              "      <td>0.714286</td>\n",
              "      <td>0.000000</td>\n",
              "      <td>0.285714</td>\n",
              "    </tr>\n",
              "    <tr>\n",
              "      <th>1398037</th>\n",
              "      <td>1398037</td>\n",
              "      <td>FRxtN_8JSKdiTU0Eks5NBw</td>\n",
              "      <td>1</td>\n",
              "      <td>0</td>\n",
              "      <td>0</td>\n",
              "      <td>0</td>\n",
              "      <td>I experienced a horrible experience and custom...</td>\n",
              "      <td>0.400000</td>\n",
              "      <td>0.400000</td>\n",
              "      <td>0.200000</td>\n",
              "    </tr>\n",
              "    <tr>\n",
              "      <th>1398038</th>\n",
              "      <td>1398038</td>\n",
              "      <td>mQNNgVLdcv0pSjo9xpx1ng</td>\n",
              "      <td>5</td>\n",
              "      <td>0</td>\n",
              "      <td>0</td>\n",
              "      <td>0</td>\n",
              "      <td>Best tacos ,burritos and tortas in town!!!\\nRe...</td>\n",
              "      <td>0.333333</td>\n",
              "      <td>0.333333</td>\n",
              "      <td>0.333333</td>\n",
              "    </tr>\n",
              "    <tr>\n",
              "      <th>1398039</th>\n",
              "      <td>1398039</td>\n",
              "      <td>MyrCqiVNZIMdmlwKl45ymg</td>\n",
              "      <td>2</td>\n",
              "      <td>0</td>\n",
              "      <td>0</td>\n",
              "      <td>0</td>\n",
              "      <td>The Mrs. and I tried the updated Diamond Diner...</td>\n",
              "      <td>0.333333</td>\n",
              "      <td>0.333333</td>\n",
              "      <td>0.333333</td>\n",
              "    </tr>\n",
              "    <tr>\n",
              "      <th>1398040</th>\n",
              "      <td>1398040</td>\n",
              "      <td>dyzFL_d6f5KnuOqdWl-rBA</td>\n",
              "      <td>5</td>\n",
              "      <td>0</td>\n",
              "      <td>0</td>\n",
              "      <td>0</td>\n",
              "      <td>Not only is this the best Mexican in East Nash...</td>\n",
              "      <td>0.800000</td>\n",
              "      <td>0.100000</td>\n",
              "      <td>0.100000</td>\n",
              "    </tr>\n",
              "    <tr>\n",
              "      <th>1398041</th>\n",
              "      <td>1398041</td>\n",
              "      <td>BotWI74kUPrGqczTnddejw</td>\n",
              "      <td>5</td>\n",
              "      <td>0</td>\n",
              "      <td>0</td>\n",
              "      <td>0</td>\n",
              "      <td>Loved it. Amazing burgers. A little loud insid...</td>\n",
              "      <td>0.600000</td>\n",
              "      <td>0.000000</td>\n",
              "      <td>0.400000</td>\n",
              "    </tr>\n",
              "    <tr>\n",
              "      <th>1398042</th>\n",
              "      <td>1398042</td>\n",
              "      <td>XNvfChtLjzCyDakIfY07TQ</td>\n",
              "      <td>1</td>\n",
              "      <td>0</td>\n",
              "      <td>0</td>\n",
              "      <td>0</td>\n",
              "      <td>TLDR: Owner flipping off my wife and charging ...</td>\n",
              "      <td>0.333333</td>\n",
              "      <td>0.333333</td>\n",
              "      <td>0.333333</td>\n",
              "    </tr>\n",
              "  </tbody>\n",
              "</table>\n",
              "</div>\n",
              "      <button class=\"colab-df-convert\" onclick=\"convertToInteractive('df-af040367-3c79-4e79-b93c-1a9ecc5caf55')\"\n",
              "              title=\"Convert this dataframe to an interactive table.\"\n",
              "              style=\"display:none;\">\n",
              "        \n",
              "  <svg xmlns=\"http://www.w3.org/2000/svg\" height=\"24px\"viewBox=\"0 0 24 24\"\n",
              "       width=\"24px\">\n",
              "    <path d=\"M0 0h24v24H0V0z\" fill=\"none\"/>\n",
              "    <path d=\"M18.56 5.44l.94 2.06.94-2.06 2.06-.94-2.06-.94-.94-2.06-.94 2.06-2.06.94zm-11 1L8.5 8.5l.94-2.06 2.06-.94-2.06-.94L8.5 2.5l-.94 2.06-2.06.94zm10 10l.94 2.06.94-2.06 2.06-.94-2.06-.94-.94-2.06-.94 2.06-2.06.94z\"/><path d=\"M17.41 7.96l-1.37-1.37c-.4-.4-.92-.59-1.43-.59-.52 0-1.04.2-1.43.59L10.3 9.45l-7.72 7.72c-.78.78-.78 2.05 0 2.83L4 21.41c.39.39.9.59 1.41.59.51 0 1.02-.2 1.41-.59l7.78-7.78 2.81-2.81c.8-.78.8-2.07 0-2.86zM5.41 20L4 18.59l7.72-7.72 1.47 1.35L5.41 20z\"/>\n",
              "  </svg>\n",
              "      </button>\n",
              "      \n",
              "  <style>\n",
              "    .colab-df-container {\n",
              "      display:flex;\n",
              "      flex-wrap:wrap;\n",
              "      gap: 12px;\n",
              "    }\n",
              "\n",
              "    .colab-df-convert {\n",
              "      background-color: #E8F0FE;\n",
              "      border: none;\n",
              "      border-radius: 50%;\n",
              "      cursor: pointer;\n",
              "      display: none;\n",
              "      fill: #1967D2;\n",
              "      height: 32px;\n",
              "      padding: 0 0 0 0;\n",
              "      width: 32px;\n",
              "    }\n",
              "\n",
              "    .colab-df-convert:hover {\n",
              "      background-color: #E2EBFA;\n",
              "      box-shadow: 0px 1px 2px rgba(60, 64, 67, 0.3), 0px 1px 3px 1px rgba(60, 64, 67, 0.15);\n",
              "      fill: #174EA6;\n",
              "    }\n",
              "\n",
              "    [theme=dark] .colab-df-convert {\n",
              "      background-color: #3B4455;\n",
              "      fill: #D2E3FC;\n",
              "    }\n",
              "\n",
              "    [theme=dark] .colab-df-convert:hover {\n",
              "      background-color: #434B5C;\n",
              "      box-shadow: 0px 1px 3px 1px rgba(0, 0, 0, 0.15);\n",
              "      filter: drop-shadow(0px 1px 2px rgba(0, 0, 0, 0.3));\n",
              "      fill: #FFFFFF;\n",
              "    }\n",
              "  </style>\n",
              "\n",
              "      <script>\n",
              "        const buttonEl =\n",
              "          document.querySelector('#df-af040367-3c79-4e79-b93c-1a9ecc5caf55 button.colab-df-convert');\n",
              "        buttonEl.style.display =\n",
              "          google.colab.kernel.accessAllowed ? 'block' : 'none';\n",
              "\n",
              "        async function convertToInteractive(key) {\n",
              "          const element = document.querySelector('#df-af040367-3c79-4e79-b93c-1a9ecc5caf55');\n",
              "          const dataTable =\n",
              "            await google.colab.kernel.invokeFunction('convertToInteractive',\n",
              "                                                     [key], {});\n",
              "          if (!dataTable) return;\n",
              "\n",
              "          const docLinkHtml = 'Like what you see? Visit the ' +\n",
              "            '<a target=\"_blank\" href=https://colab.research.google.com/notebooks/data_table.ipynb>data table notebook</a>'\n",
              "            + ' to learn more about interactive tables.';\n",
              "          element.innerHTML = '';\n",
              "          dataTable['output_type'] = 'display_data';\n",
              "          await google.colab.output.renderOutput(dataTable, element);\n",
              "          const docLink = document.createElement('div');\n",
              "          docLink.innerHTML = docLinkHtml;\n",
              "          element.appendChild(docLink);\n",
              "        }\n",
              "      </script>\n",
              "    </div>\n",
              "  </div>\n",
              "  "
            ]
          },
          "metadata": {},
          "execution_count": 8
        }
      ]
    },
    {
      "cell_type": "markdown",
      "source": [
        "**Creating the class labels:**\n",
        "\n",
        "*   **1 = useful**\n",
        "*   **2 = funny**\n",
        "*   **3 = cool**\n",
        "*   **0 = none or equal votes**\n"
      ],
      "metadata": {
        "id": "0i4dydONyAZg"
      }
    },
    {
      "cell_type": "code",
      "source": [
        "# create a list of our conditions\n",
        "conditions = [\n",
        "    (df['useful'] > df['funny']) & (df['useful'] > df['cool']),\n",
        "    (df['funny'] > df['useful']) & (df['funny'] >  df['cool']),\n",
        "    (df['cool'] > df['useful']) & (df['cool'] > df['funny']),\n",
        "    (df['useful'] == df['funny']) & (df['useful'] == df['cool'])\n",
        "    ]\n",
        "\n",
        "# create a list of the values we want to assign for each condition\n",
        "values = ['1', '2', '3', '0']   \n",
        "\n",
        "\n",
        "# create a new column and use np.select to assign values to it using our lists as arguments\n",
        "df['Label'] = np.select(conditions, values)\n",
        "\n",
        "# display updated DataFrame\n",
        "df.head()"
      ],
      "metadata": {
        "colab": {
          "base_uri": "https://localhost:8080/",
          "height": 354
        },
        "id": "0kqaOW87taVa",
        "outputId": "341b600a-c110-447b-9ad3-c5427878e2b5"
      },
      "execution_count": 9,
      "outputs": [
        {
          "output_type": "execute_result",
          "data": {
            "text/plain": [
              "   Unnamed: 0               review_id  stars  useful  funny  cool  \\\n",
              "0           0  BFaW6f0VQ1BHCF0JCtDkyg      4       5      3     2   \n",
              "1           1  5cjA-ZZDdZDqQgzhIRLyCw      4       0      0     0   \n",
              "2           2  4WuqRDC--to0vSiFhSYwXQ      4       1      0     2   \n",
              "3           3  B5xq-_eZK7wAmzqwRTSGIw      3       1      1     0   \n",
              "4           4  SF0TjRXMZG0Ky4NsY887Aw      4       0      0     0   \n",
              "\n",
              "                                                text  user_useful  user_funny  \\\n",
              "0  I lived here for two years and really liked it...     0.628049    0.158537   \n",
              "1  We had a groupon/living social (some deal!) fo...     0.628049    0.158537   \n",
              "2  I've had lunch many times and its a great deal...     0.628049    0.158537   \n",
              "3  We arranged for a rather large group at Jolly'...     0.628049    0.158537   \n",
              "4  5 stars for the chocolate pizza (with bananas ...     0.628049    0.158537   \n",
              "\n",
              "   user_cool Label  \n",
              "0   0.213415     1  \n",
              "1   0.213415     0  \n",
              "2   0.213415     3  \n",
              "3   0.213415     0  \n",
              "4   0.213415     0  "
            ],
            "text/html": [
              "\n",
              "  <div id=\"df-b44e4b8d-57fe-4706-9966-e924ca115edb\">\n",
              "    <div class=\"colab-df-container\">\n",
              "      <div>\n",
              "<style scoped>\n",
              "    .dataframe tbody tr th:only-of-type {\n",
              "        vertical-align: middle;\n",
              "    }\n",
              "\n",
              "    .dataframe tbody tr th {\n",
              "        vertical-align: top;\n",
              "    }\n",
              "\n",
              "    .dataframe thead th {\n",
              "        text-align: right;\n",
              "    }\n",
              "</style>\n",
              "<table border=\"1\" class=\"dataframe\">\n",
              "  <thead>\n",
              "    <tr style=\"text-align: right;\">\n",
              "      <th></th>\n",
              "      <th>Unnamed: 0</th>\n",
              "      <th>review_id</th>\n",
              "      <th>stars</th>\n",
              "      <th>useful</th>\n",
              "      <th>funny</th>\n",
              "      <th>cool</th>\n",
              "      <th>text</th>\n",
              "      <th>user_useful</th>\n",
              "      <th>user_funny</th>\n",
              "      <th>user_cool</th>\n",
              "      <th>Label</th>\n",
              "    </tr>\n",
              "  </thead>\n",
              "  <tbody>\n",
              "    <tr>\n",
              "      <th>0</th>\n",
              "      <td>0</td>\n",
              "      <td>BFaW6f0VQ1BHCF0JCtDkyg</td>\n",
              "      <td>4</td>\n",
              "      <td>5</td>\n",
              "      <td>3</td>\n",
              "      <td>2</td>\n",
              "      <td>I lived here for two years and really liked it...</td>\n",
              "      <td>0.628049</td>\n",
              "      <td>0.158537</td>\n",
              "      <td>0.213415</td>\n",
              "      <td>1</td>\n",
              "    </tr>\n",
              "    <tr>\n",
              "      <th>1</th>\n",
              "      <td>1</td>\n",
              "      <td>5cjA-ZZDdZDqQgzhIRLyCw</td>\n",
              "      <td>4</td>\n",
              "      <td>0</td>\n",
              "      <td>0</td>\n",
              "      <td>0</td>\n",
              "      <td>We had a groupon/living social (some deal!) fo...</td>\n",
              "      <td>0.628049</td>\n",
              "      <td>0.158537</td>\n",
              "      <td>0.213415</td>\n",
              "      <td>0</td>\n",
              "    </tr>\n",
              "    <tr>\n",
              "      <th>2</th>\n",
              "      <td>2</td>\n",
              "      <td>4WuqRDC--to0vSiFhSYwXQ</td>\n",
              "      <td>4</td>\n",
              "      <td>1</td>\n",
              "      <td>0</td>\n",
              "      <td>2</td>\n",
              "      <td>I've had lunch many times and its a great deal...</td>\n",
              "      <td>0.628049</td>\n",
              "      <td>0.158537</td>\n",
              "      <td>0.213415</td>\n",
              "      <td>3</td>\n",
              "    </tr>\n",
              "    <tr>\n",
              "      <th>3</th>\n",
              "      <td>3</td>\n",
              "      <td>B5xq-_eZK7wAmzqwRTSGIw</td>\n",
              "      <td>3</td>\n",
              "      <td>1</td>\n",
              "      <td>1</td>\n",
              "      <td>0</td>\n",
              "      <td>We arranged for a rather large group at Jolly'...</td>\n",
              "      <td>0.628049</td>\n",
              "      <td>0.158537</td>\n",
              "      <td>0.213415</td>\n",
              "      <td>0</td>\n",
              "    </tr>\n",
              "    <tr>\n",
              "      <th>4</th>\n",
              "      <td>4</td>\n",
              "      <td>SF0TjRXMZG0Ky4NsY887Aw</td>\n",
              "      <td>4</td>\n",
              "      <td>0</td>\n",
              "      <td>0</td>\n",
              "      <td>0</td>\n",
              "      <td>5 stars for the chocolate pizza (with bananas ...</td>\n",
              "      <td>0.628049</td>\n",
              "      <td>0.158537</td>\n",
              "      <td>0.213415</td>\n",
              "      <td>0</td>\n",
              "    </tr>\n",
              "  </tbody>\n",
              "</table>\n",
              "</div>\n",
              "      <button class=\"colab-df-convert\" onclick=\"convertToInteractive('df-b44e4b8d-57fe-4706-9966-e924ca115edb')\"\n",
              "              title=\"Convert this dataframe to an interactive table.\"\n",
              "              style=\"display:none;\">\n",
              "        \n",
              "  <svg xmlns=\"http://www.w3.org/2000/svg\" height=\"24px\"viewBox=\"0 0 24 24\"\n",
              "       width=\"24px\">\n",
              "    <path d=\"M0 0h24v24H0V0z\" fill=\"none\"/>\n",
              "    <path d=\"M18.56 5.44l.94 2.06.94-2.06 2.06-.94-2.06-.94-.94-2.06-.94 2.06-2.06.94zm-11 1L8.5 8.5l.94-2.06 2.06-.94-2.06-.94L8.5 2.5l-.94 2.06-2.06.94zm10 10l.94 2.06.94-2.06 2.06-.94-2.06-.94-.94-2.06-.94 2.06-2.06.94z\"/><path d=\"M17.41 7.96l-1.37-1.37c-.4-.4-.92-.59-1.43-.59-.52 0-1.04.2-1.43.59L10.3 9.45l-7.72 7.72c-.78.78-.78 2.05 0 2.83L4 21.41c.39.39.9.59 1.41.59.51 0 1.02-.2 1.41-.59l7.78-7.78 2.81-2.81c.8-.78.8-2.07 0-2.86zM5.41 20L4 18.59l7.72-7.72 1.47 1.35L5.41 20z\"/>\n",
              "  </svg>\n",
              "      </button>\n",
              "      \n",
              "  <style>\n",
              "    .colab-df-container {\n",
              "      display:flex;\n",
              "      flex-wrap:wrap;\n",
              "      gap: 12px;\n",
              "    }\n",
              "\n",
              "    .colab-df-convert {\n",
              "      background-color: #E8F0FE;\n",
              "      border: none;\n",
              "      border-radius: 50%;\n",
              "      cursor: pointer;\n",
              "      display: none;\n",
              "      fill: #1967D2;\n",
              "      height: 32px;\n",
              "      padding: 0 0 0 0;\n",
              "      width: 32px;\n",
              "    }\n",
              "\n",
              "    .colab-df-convert:hover {\n",
              "      background-color: #E2EBFA;\n",
              "      box-shadow: 0px 1px 2px rgba(60, 64, 67, 0.3), 0px 1px 3px 1px rgba(60, 64, 67, 0.15);\n",
              "      fill: #174EA6;\n",
              "    }\n",
              "\n",
              "    [theme=dark] .colab-df-convert {\n",
              "      background-color: #3B4455;\n",
              "      fill: #D2E3FC;\n",
              "    }\n",
              "\n",
              "    [theme=dark] .colab-df-convert:hover {\n",
              "      background-color: #434B5C;\n",
              "      box-shadow: 0px 1px 3px 1px rgba(0, 0, 0, 0.15);\n",
              "      filter: drop-shadow(0px 1px 2px rgba(0, 0, 0, 0.3));\n",
              "      fill: #FFFFFF;\n",
              "    }\n",
              "  </style>\n",
              "\n",
              "      <script>\n",
              "        const buttonEl =\n",
              "          document.querySelector('#df-b44e4b8d-57fe-4706-9966-e924ca115edb button.colab-df-convert');\n",
              "        buttonEl.style.display =\n",
              "          google.colab.kernel.accessAllowed ? 'block' : 'none';\n",
              "\n",
              "        async function convertToInteractive(key) {\n",
              "          const element = document.querySelector('#df-b44e4b8d-57fe-4706-9966-e924ca115edb');\n",
              "          const dataTable =\n",
              "            await google.colab.kernel.invokeFunction('convertToInteractive',\n",
              "                                                     [key], {});\n",
              "          if (!dataTable) return;\n",
              "\n",
              "          const docLinkHtml = 'Like what you see? Visit the ' +\n",
              "            '<a target=\"_blank\" href=https://colab.research.google.com/notebooks/data_table.ipynb>data table notebook</a>'\n",
              "            + ' to learn more about interactive tables.';\n",
              "          element.innerHTML = '';\n",
              "          dataTable['output_type'] = 'display_data';\n",
              "          await google.colab.output.renderOutput(dataTable, element);\n",
              "          const docLink = document.createElement('div');\n",
              "          docLink.innerHTML = docLinkHtml;\n",
              "          element.appendChild(docLink);\n",
              "        }\n",
              "      </script>\n",
              "    </div>\n",
              "  </div>\n",
              "  "
            ]
          },
          "metadata": {},
          "execution_count": 9
        }
      ]
    },
    {
      "cell_type": "code",
      "source": [
        "df.tail()"
      ],
      "metadata": {
        "colab": {
          "base_uri": "https://localhost:8080/",
          "height": 441
        },
        "id": "s8UpRl4zurD7",
        "outputId": "d78d3580-ad3f-41bd-be00-17cabc6c3760"
      },
      "execution_count": 10,
      "outputs": [
        {
          "output_type": "execute_result",
          "data": {
            "text/plain": [
              "         Unnamed: 0               review_id  stars  useful  funny  cool  \\\n",
              "1398038     1398038  mQNNgVLdcv0pSjo9xpx1ng      5       0      0     0   \n",
              "1398039     1398039  MyrCqiVNZIMdmlwKl45ymg      2       0      0     0   \n",
              "1398040     1398040  dyzFL_d6f5KnuOqdWl-rBA      5       0      0     0   \n",
              "1398041     1398041  BotWI74kUPrGqczTnddejw      5       0      0     0   \n",
              "1398042     1398042  XNvfChtLjzCyDakIfY07TQ      1       0      0     0   \n",
              "\n",
              "                                                      text  user_useful  \\\n",
              "1398038  Best tacos ,burritos and tortas in town!!!\\nRe...     0.333333   \n",
              "1398039  The Mrs. and I tried the updated Diamond Diner...     0.333333   \n",
              "1398040  Not only is this the best Mexican in East Nash...     0.800000   \n",
              "1398041  Loved it. Amazing burgers. A little loud insid...     0.600000   \n",
              "1398042  TLDR: Owner flipping off my wife and charging ...     0.333333   \n",
              "\n",
              "         user_funny  user_cool Label  \n",
              "1398038    0.333333   0.333333     0  \n",
              "1398039    0.333333   0.333333     0  \n",
              "1398040    0.100000   0.100000     0  \n",
              "1398041    0.000000   0.400000     0  \n",
              "1398042    0.333333   0.333333     0  "
            ],
            "text/html": [
              "\n",
              "  <div id=\"df-d9680d75-b935-4611-9983-b0ba8f840218\">\n",
              "    <div class=\"colab-df-container\">\n",
              "      <div>\n",
              "<style scoped>\n",
              "    .dataframe tbody tr th:only-of-type {\n",
              "        vertical-align: middle;\n",
              "    }\n",
              "\n",
              "    .dataframe tbody tr th {\n",
              "        vertical-align: top;\n",
              "    }\n",
              "\n",
              "    .dataframe thead th {\n",
              "        text-align: right;\n",
              "    }\n",
              "</style>\n",
              "<table border=\"1\" class=\"dataframe\">\n",
              "  <thead>\n",
              "    <tr style=\"text-align: right;\">\n",
              "      <th></th>\n",
              "      <th>Unnamed: 0</th>\n",
              "      <th>review_id</th>\n",
              "      <th>stars</th>\n",
              "      <th>useful</th>\n",
              "      <th>funny</th>\n",
              "      <th>cool</th>\n",
              "      <th>text</th>\n",
              "      <th>user_useful</th>\n",
              "      <th>user_funny</th>\n",
              "      <th>user_cool</th>\n",
              "      <th>Label</th>\n",
              "    </tr>\n",
              "  </thead>\n",
              "  <tbody>\n",
              "    <tr>\n",
              "      <th>1398038</th>\n",
              "      <td>1398038</td>\n",
              "      <td>mQNNgVLdcv0pSjo9xpx1ng</td>\n",
              "      <td>5</td>\n",
              "      <td>0</td>\n",
              "      <td>0</td>\n",
              "      <td>0</td>\n",
              "      <td>Best tacos ,burritos and tortas in town!!!\\nRe...</td>\n",
              "      <td>0.333333</td>\n",
              "      <td>0.333333</td>\n",
              "      <td>0.333333</td>\n",
              "      <td>0</td>\n",
              "    </tr>\n",
              "    <tr>\n",
              "      <th>1398039</th>\n",
              "      <td>1398039</td>\n",
              "      <td>MyrCqiVNZIMdmlwKl45ymg</td>\n",
              "      <td>2</td>\n",
              "      <td>0</td>\n",
              "      <td>0</td>\n",
              "      <td>0</td>\n",
              "      <td>The Mrs. and I tried the updated Diamond Diner...</td>\n",
              "      <td>0.333333</td>\n",
              "      <td>0.333333</td>\n",
              "      <td>0.333333</td>\n",
              "      <td>0</td>\n",
              "    </tr>\n",
              "    <tr>\n",
              "      <th>1398040</th>\n",
              "      <td>1398040</td>\n",
              "      <td>dyzFL_d6f5KnuOqdWl-rBA</td>\n",
              "      <td>5</td>\n",
              "      <td>0</td>\n",
              "      <td>0</td>\n",
              "      <td>0</td>\n",
              "      <td>Not only is this the best Mexican in East Nash...</td>\n",
              "      <td>0.800000</td>\n",
              "      <td>0.100000</td>\n",
              "      <td>0.100000</td>\n",
              "      <td>0</td>\n",
              "    </tr>\n",
              "    <tr>\n",
              "      <th>1398041</th>\n",
              "      <td>1398041</td>\n",
              "      <td>BotWI74kUPrGqczTnddejw</td>\n",
              "      <td>5</td>\n",
              "      <td>0</td>\n",
              "      <td>0</td>\n",
              "      <td>0</td>\n",
              "      <td>Loved it. Amazing burgers. A little loud insid...</td>\n",
              "      <td>0.600000</td>\n",
              "      <td>0.000000</td>\n",
              "      <td>0.400000</td>\n",
              "      <td>0</td>\n",
              "    </tr>\n",
              "    <tr>\n",
              "      <th>1398042</th>\n",
              "      <td>1398042</td>\n",
              "      <td>XNvfChtLjzCyDakIfY07TQ</td>\n",
              "      <td>1</td>\n",
              "      <td>0</td>\n",
              "      <td>0</td>\n",
              "      <td>0</td>\n",
              "      <td>TLDR: Owner flipping off my wife and charging ...</td>\n",
              "      <td>0.333333</td>\n",
              "      <td>0.333333</td>\n",
              "      <td>0.333333</td>\n",
              "      <td>0</td>\n",
              "    </tr>\n",
              "  </tbody>\n",
              "</table>\n",
              "</div>\n",
              "      <button class=\"colab-df-convert\" onclick=\"convertToInteractive('df-d9680d75-b935-4611-9983-b0ba8f840218')\"\n",
              "              title=\"Convert this dataframe to an interactive table.\"\n",
              "              style=\"display:none;\">\n",
              "        \n",
              "  <svg xmlns=\"http://www.w3.org/2000/svg\" height=\"24px\"viewBox=\"0 0 24 24\"\n",
              "       width=\"24px\">\n",
              "    <path d=\"M0 0h24v24H0V0z\" fill=\"none\"/>\n",
              "    <path d=\"M18.56 5.44l.94 2.06.94-2.06 2.06-.94-2.06-.94-.94-2.06-.94 2.06-2.06.94zm-11 1L8.5 8.5l.94-2.06 2.06-.94-2.06-.94L8.5 2.5l-.94 2.06-2.06.94zm10 10l.94 2.06.94-2.06 2.06-.94-2.06-.94-.94-2.06-.94 2.06-2.06.94z\"/><path d=\"M17.41 7.96l-1.37-1.37c-.4-.4-.92-.59-1.43-.59-.52 0-1.04.2-1.43.59L10.3 9.45l-7.72 7.72c-.78.78-.78 2.05 0 2.83L4 21.41c.39.39.9.59 1.41.59.51 0 1.02-.2 1.41-.59l7.78-7.78 2.81-2.81c.8-.78.8-2.07 0-2.86zM5.41 20L4 18.59l7.72-7.72 1.47 1.35L5.41 20z\"/>\n",
              "  </svg>\n",
              "      </button>\n",
              "      \n",
              "  <style>\n",
              "    .colab-df-container {\n",
              "      display:flex;\n",
              "      flex-wrap:wrap;\n",
              "      gap: 12px;\n",
              "    }\n",
              "\n",
              "    .colab-df-convert {\n",
              "      background-color: #E8F0FE;\n",
              "      border: none;\n",
              "      border-radius: 50%;\n",
              "      cursor: pointer;\n",
              "      display: none;\n",
              "      fill: #1967D2;\n",
              "      height: 32px;\n",
              "      padding: 0 0 0 0;\n",
              "      width: 32px;\n",
              "    }\n",
              "\n",
              "    .colab-df-convert:hover {\n",
              "      background-color: #E2EBFA;\n",
              "      box-shadow: 0px 1px 2px rgba(60, 64, 67, 0.3), 0px 1px 3px 1px rgba(60, 64, 67, 0.15);\n",
              "      fill: #174EA6;\n",
              "    }\n",
              "\n",
              "    [theme=dark] .colab-df-convert {\n",
              "      background-color: #3B4455;\n",
              "      fill: #D2E3FC;\n",
              "    }\n",
              "\n",
              "    [theme=dark] .colab-df-convert:hover {\n",
              "      background-color: #434B5C;\n",
              "      box-shadow: 0px 1px 3px 1px rgba(0, 0, 0, 0.15);\n",
              "      filter: drop-shadow(0px 1px 2px rgba(0, 0, 0, 0.3));\n",
              "      fill: #FFFFFF;\n",
              "    }\n",
              "  </style>\n",
              "\n",
              "      <script>\n",
              "        const buttonEl =\n",
              "          document.querySelector('#df-d9680d75-b935-4611-9983-b0ba8f840218 button.colab-df-convert');\n",
              "        buttonEl.style.display =\n",
              "          google.colab.kernel.accessAllowed ? 'block' : 'none';\n",
              "\n",
              "        async function convertToInteractive(key) {\n",
              "          const element = document.querySelector('#df-d9680d75-b935-4611-9983-b0ba8f840218');\n",
              "          const dataTable =\n",
              "            await google.colab.kernel.invokeFunction('convertToInteractive',\n",
              "                                                     [key], {});\n",
              "          if (!dataTable) return;\n",
              "\n",
              "          const docLinkHtml = 'Like what you see? Visit the ' +\n",
              "            '<a target=\"_blank\" href=https://colab.research.google.com/notebooks/data_table.ipynb>data table notebook</a>'\n",
              "            + ' to learn more about interactive tables.';\n",
              "          element.innerHTML = '';\n",
              "          dataTable['output_type'] = 'display_data';\n",
              "          await google.colab.output.renderOutput(dataTable, element);\n",
              "          const docLink = document.createElement('div');\n",
              "          docLink.innerHTML = docLinkHtml;\n",
              "          element.appendChild(docLink);\n",
              "        }\n",
              "      </script>\n",
              "    </div>\n",
              "  </div>\n",
              "  "
            ]
          },
          "metadata": {},
          "execution_count": 10
        }
      ]
    },
    {
      "cell_type": "markdown",
      "source": [
        "Seeing the class distribution"
      ],
      "metadata": {
        "id": "orAAollFyj_K"
      }
    },
    {
      "cell_type": "code",
      "source": [
        "sns.set(style='darkgrid')\n",
        "ax = sns.countplot(x='Label', data=df)\n",
        "plt.show()"
      ],
      "metadata": {
        "colab": {
          "base_uri": "https://localhost:8080/",
          "height": 285
        },
        "id": "_zhPJYgDwoVP",
        "outputId": "15768876-cf3a-409a-fd79-63e97e084783"
      },
      "execution_count": 11,
      "outputs": [
        {
          "output_type": "display_data",
          "data": {
            "text/plain": [
              "<Figure size 432x288 with 1 Axes>"
            ],
            "image/png": "[encoded data removed]"
          },
          "metadata": {}
        }
      ]
    },
    {
      "cell_type": "markdown",
      "source": [
        "We can see that there is a big imbalance between the classes, most of them are categorized as useful, therefore we will apply a balancing technique. In this case we have a large amount of data, so oversampling will cause a shortage on the computational resources. Because of this, we will apply undersampling to balance the different classes."
      ],
      "metadata": {
        "id": "R5RIhdzLy_3e"
      }
    },
    {
      "cell_type": "markdown",
      "source": [
        "**Downsampling the dataset**"
      ],
      "metadata": {
        "id": "1xntcZCx6eJA"
      }
    },
    {
      "cell_type": "markdown",
      "source": [
        "Data before downsampling"
      ],
      "metadata": {
        "id": "795jAV13-nnV"
      }
    },
    {
      "cell_type": "code",
      "source": [
        "sns.countplot(x=df['Label']).set_title('Label Frequency')\n",
        "plt.show()"
      ],
      "metadata": {
        "colab": {
          "base_uri": "https://localhost:8080/",
          "height": 301
        },
        "id": "BhK6-FIx-nPl",
        "outputId": "5c0e88bd-038d-423b-91b2-ca68f5f36dd7"
      },
      "execution_count": 12,
      "outputs": [
        {
          "output_type": "display_data",
          "data": {
            "text/plain": [
              "<Figure size 432x288 with 1 Axes>"
            ],
            "image/png": "[encoded data removed]"
          },
          "metadata": {}
        }
      ]
    },
    {
      "cell_type": "code",
      "source": [
        "downsampling_size = len(df[df['Label'] == '2'])\n",
        "useful_data = df[df['Label'] == '1']\n",
        "funny_data = df[df['Label'] == '2']\n",
        "cool_data = df[df['Label'] == '3']\n",
        "draw_data = df[df['Label']== '0']\n",
        "\n",
        "useful_downsam = resample(useful_data, replace=True, n_samples=downsampling_size, random_state=42)\n",
        "cool_downsam = resample(cool_data, replace=True, n_samples=downsampling_size, random_state=42)\n",
        "draw_downsam = resample(draw_data, replace=True, n_samples=downsampling_size, random_state=42)"
      ],
      "metadata": {
        "id": "mX7JoOqb8Nru"
      },
      "execution_count": 15,
      "outputs": []
    },
    {
      "cell_type": "code",
      "source": [
        "data_downsampled = pd.concat([useful_downsam, cool_downsam, draw_downsam, funny_data])"
      ],
      "metadata": {
        "id": "Dj0YplNQ-CxW"
      },
      "execution_count": 16,
      "outputs": []
    },
    {
      "cell_type": "code",
      "source": [
        "# Showing the size of the new downsampled classes\n",
        "\n",
        "print(useful_downsam.shape)\n",
        "print(cool_downsam.shape)\n",
        "print(draw_downsam.shape)"
      ],
      "metadata": {
        "colab": {
          "base_uri": "https://localhost:8080/"
        },
        "id": "dHFXVnJq-1J0",
        "outputId": "dc2cd0eb-805a-4cc3-ca4b-edcddc8b03c6"
      },
      "execution_count": 17,
      "outputs": [
        {
          "output_type": "stream",
          "name": "stdout",
          "text": [
            "(48740, 11)\n",
            "(48740, 11)\n",
            "(48740, 11)\n"
          ]
        }
      ]
    },
    {
      "cell_type": "markdown",
      "source": [
        "Visualizing the downsampled dataset"
      ],
      "metadata": {
        "id": "RgQeWX8l-ZRn"
      }
    },
    {
      "cell_type": "code",
      "source": [
        "sns.countplot(x=data_downsampled['Label']).set_title('Label Frequency')\n",
        "plt.show()"
      ],
      "metadata": {
        "colab": {
          "base_uri": "https://localhost:8080/",
          "height": 301
        },
        "id": "E4frEU3i-Uww",
        "outputId": "f5e80bdf-d15f-4c48-fef2-36cc652df920"
      },
      "execution_count": 18,
      "outputs": [
        {
          "output_type": "display_data",
          "data": {
            "text/plain": [
              "<Figure size 432x288 with 1 Axes>"
            ],
            "image/png": "[encoded data removed]"
          },
          "metadata": {}
        }
      ]
    },
    {
      "cell_type": "markdown",
      "source": [
        "Now our dataframe consists of **194,960** data instances. With 4 classes of equal size"
      ],
      "metadata": {
        "id": "qKCA1f6B_WzJ"
      }
    },
    {
      "cell_type": "code",
      "source": [
        "data_downsampled.head()"
      ],
      "metadata": {
        "colab": {
          "base_uri": "https://localhost:8080/",
          "height": 458
        },
        "id": "5VW6OFsj_Iz5",
        "outputId": "2271ed97-665c-41df-932b-d9aea5d3b9a7"
      },
      "execution_count": 19,
      "outputs": [
        {
          "output_type": "execute_result",
          "data": {
            "text/plain": [
              "         Unnamed: 0               review_id  stars  useful  funny  cool  \\\n",
              "293792       293792  KQo_f4KPNB3JwCsUL1NaIw      1       2      0     0   \n",
              "362225       362225  fJsYQ4JPD0PaUPp2blcC6w      5       1      0     0   \n",
              "320644       320644  8MaGuM43VJdtXrevy0yy0Q      4       1      0     0   \n",
              "1071431     1071431  EIURxeCKMqjyF3dwmegJ6Q      5       1      0     0   \n",
              "705302       705302  Ar2FS6q9bk4dKSRrMaJKqg      5       1      0     0   \n",
              "\n",
              "                                                      text  user_useful  \\\n",
              "293792   First time dinning experience at this pub. We ...     0.743902   \n",
              "362225   I've been taking my vehicles to Vinney's for y...     0.782609   \n",
              "320644   Wonderful food at a good price \\n\\nRestaurant....     0.606695   \n",
              "1071431  Awesome place\\nEverything was great service an...     1.000000   \n",
              "705302   Very professional and polite staff. Will be ba...     0.750000   \n",
              "\n",
              "         user_funny  user_cool Label  \n",
              "293792     0.121951   0.134146     1  \n",
              "362225     0.130435   0.086957     1  \n",
              "320644     0.117155   0.276151     1  \n",
              "1071431    0.000000   0.000000     1  \n",
              "705302     0.000000   0.250000     1  "
            ],
            "text/html": [
              "\n",
              "  <div id=\"df-2ddb8285-1974-488b-a860-54409bd37231\">\n",
              "    <div class=\"colab-df-container\">\n",
              "      <div>\n",
              "<style scoped>\n",
              "    .dataframe tbody tr th:only-of-type {\n",
              "        vertical-align: middle;\n",
              "    }\n",
              "\n",
              "    .dataframe tbody tr th {\n",
              "        vertical-align: top;\n",
              "    }\n",
              "\n",
              "    .dataframe thead th {\n",
              "        text-align: right;\n",
              "    }\n",
              "</style>\n",
              "<table border=\"1\" class=\"dataframe\">\n",
              "  <thead>\n",
              "    <tr style=\"text-align: right;\">\n",
              "      <th></th>\n",
              "      <th>Unnamed: 0</th>\n",
              "      <th>review_id</th>\n",
              "      <th>stars</th>\n",
              "      <th>useful</th>\n",
              "      <th>funny</th>\n",
              "      <th>cool</th>\n",
              "      <th>text</th>\n",
              "      <th>user_useful</th>\n",
              "      <th>user_funny</th>\n",
              "      <th>user_cool</th>\n",
              "      <th>Label</th>\n",
              "    </tr>\n",
              "  </thead>\n",
              "  <tbody>\n",
              "    <tr>\n",
              "      <th>293792</th>\n",
              "      <td>293792</td>\n",
              "      <td>KQo_f4KPNB3JwCsUL1NaIw</td>\n",
              "      <td>1</td>\n",
              "      <td>2</td>\n",
              "      <td>0</td>\n",
              "      <td>0</td>\n",
              "      <td>First time dinning experience at this pub. We ...</td>\n",
              "      <td>0.743902</td>\n",
              "      <td>0.121951</td>\n",
              "      <td>0.134146</td>\n",
              "      <td>1</td>\n",
              "    </tr>\n",
              "    <tr>\n",
              "      <th>362225</th>\n",
              "      <td>362225</td>\n",
              "      <td>fJsYQ4JPD0PaUPp2blcC6w</td>\n",
              "      <td>5</td>\n",
              "      <td>1</td>\n",
              "      <td>0</td>\n",
              "      <td>0</td>\n",
              "      <td>I've been taking my vehicles to Vinney's for y...</td>\n",
              "      <td>0.782609</td>\n",
              "      <td>0.130435</td>\n",
              "      <td>0.086957</td>\n",
              "      <td>1</td>\n",
              "    </tr>\n",
              "    <tr>\n",
              "      <th>320644</th>\n",
              "      <td>320644</td>\n",
              "      <td>8MaGuM43VJdtXrevy0yy0Q</td>\n",
              "      <td>4</td>\n",
              "      <td>1</td>\n",
              "      <td>0</td>\n",
              "      <td>0</td>\n",
              "      <td>Wonderful food at a good price \\n\\nRestaurant....</td>\n",
              "      <td>0.606695</td>\n",
              "      <td>0.117155</td>\n",
              "      <td>0.276151</td>\n",
              "      <td>1</td>\n",
              "    </tr>\n",
              "    <tr>\n",
              "      <th>1071431</th>\n",
              "      <td>1071431</td>\n",
              "      <td>EIURxeCKMqjyF3dwmegJ6Q</td>\n",
              "      <td>5</td>\n",
              "      <td>1</td>\n",
              "      <td>0</td>\n",
              "      <td>0</td>\n",
              "      <td>Awesome place\\nEverything was great service an...</td>\n",
              "      <td>1.000000</td>\n",
              "      <td>0.000000</td>\n",
              "      <td>0.000000</td>\n",
              "      <td>1</td>\n",
              "    </tr>\n",
              "    <tr>\n",
              "      <th>705302</th>\n",
              "      <td>705302</td>\n",
              "      <td>Ar2FS6q9bk4dKSRrMaJKqg</td>\n",
              "      <td>5</td>\n",
              "      <td>1</td>\n",
              "      <td>0</td>\n",
              "      <td>0</td>\n",
              "      <td>Very professional and polite staff. Will be ba...</td>\n",
              "      <td>0.750000</td>\n",
              "      <td>0.000000</td>\n",
              "      <td>0.250000</td>\n",
              "      <td>1</td>\n",
              "    </tr>\n",
              "  </tbody>\n",
              "</table>\n",
              "</div>\n",
              "      <button class=\"colab-df-convert\" onclick=\"convertToInteractive('df-2ddb8285-1974-488b-a860-54409bd37231')\"\n",
              "              title=\"Convert this dataframe to an interactive table.\"\n",
              "              style=\"display:none;\">\n",
              "        \n",
              "  <svg xmlns=\"http://www.w3.org/2000/svg\" height=\"24px\"viewBox=\"0 0 24 24\"\n",
              "       width=\"24px\">\n",
              "    <path d=\"M0 0h24v24H0V0z\" fill=\"none\"/>\n",
              "    <path d=\"M18.56 5.44l.94 2.06.94-2.06 2.06-.94-2.06-.94-.94-2.06-.94 2.06-2.06.94zm-11 1L8.5 8.5l.94-2.06 2.06-.94-2.06-.94L8.5 2.5l-.94 2.06-2.06.94zm10 10l.94 2.06.94-2.06 2.06-.94-2.06-.94-.94-2.06-.94 2.06-2.06.94z\"/><path d=\"M17.41 7.96l-1.37-1.37c-.4-.4-.92-.59-1.43-.59-.52 0-1.04.2-1.43.59L10.3 9.45l-7.72 7.72c-.78.78-.78 2.05 0 2.83L4 21.41c.39.39.9.59 1.41.59.51 0 1.02-.2 1.41-.59l7.78-7.78 2.81-2.81c.8-.78.8-2.07 0-2.86zM5.41 20L4 18.59l7.72-7.72 1.47 1.35L5.41 20z\"/>\n",
              "  </svg>\n",
              "      </button>\n",
              "      \n",
              "  <style>\n",
              "    .colab-df-container {\n",
              "      display:flex;\n",
              "      flex-wrap:wrap;\n",
              "      gap: 12px;\n",
              "    }\n",
              "\n",
              "    .colab-df-convert {\n",
              "      background-color: #E8F0FE;\n",
              "      border: none;\n",
              "      border-radius: 50%;\n",
              "      cursor: pointer;\n",
              "      display: none;\n",
              "      fill: #1967D2;\n",
              "      height: 32px;\n",
              "      padding: 0 0 0 0;\n",
              "      width: 32px;\n",
              "    }\n",
              "\n",
              "    .colab-df-convert:hover {\n",
              "      background-color: #E2EBFA;\n",
              "      box-shadow: 0px 1px 2px rgba(60, 64, 67, 0.3), 0px 1px 3px 1px rgba(60, 64, 67, 0.15);\n",
              "      fill: #174EA6;\n",
              "    }\n",
              "\n",
              "    [theme=dark] .colab-df-convert {\n",
              "      background-color: #3B4455;\n",
              "      fill: #D2E3FC;\n",
              "    }\n",
              "\n",
              "    [theme=dark] .colab-df-convert:hover {\n",
              "      background-color: #434B5C;\n",
              "      box-shadow: 0px 1px 3px 1px rgba(0, 0, 0, 0.15);\n",
              "      filter: drop-shadow(0px 1px 2px rgba(0, 0, 0, 0.3));\n",
              "      fill: #FFFFFF;\n",
              "    }\n",
              "  </style>\n",
              "\n",
              "      <script>\n",
              "        const buttonEl =\n",
              "          document.querySelector('#df-2ddb8285-1974-488b-a860-54409bd37231 button.colab-df-convert');\n",
              "        buttonEl.style.display =\n",
              "          google.colab.kernel.accessAllowed ? 'block' : 'none';\n",
              "\n",
              "        async function convertToInteractive(key) {\n",
              "          const element = document.querySelector('#df-2ddb8285-1974-488b-a860-54409bd37231');\n",
              "          const dataTable =\n",
              "            await google.colab.kernel.invokeFunction('convertToInteractive',\n",
              "                                                     [key], {});\n",
              "          if (!dataTable) return;\n",
              "\n",
              "          const docLinkHtml = 'Like what you see? Visit the ' +\n",
              "            '<a target=\"_blank\" href=https://colab.research.google.com/notebooks/data_table.ipynb>data table notebook</a>'\n",
              "            + ' to learn more about interactive tables.';\n",
              "          element.innerHTML = '';\n",
              "          dataTable['output_type'] = 'display_data';\n",
              "          await google.colab.output.renderOutput(dataTable, element);\n",
              "          const docLink = document.createElement('div');\n",
              "          docLink.innerHTML = docLinkHtml;\n",
              "          element.appendChild(docLink);\n",
              "        }\n",
              "      </script>\n",
              "    </div>\n",
              "  </div>\n",
              "  "
            ]
          },
          "metadata": {},
          "execution_count": 19
        }
      ]
    },
    {
      "cell_type": "markdown",
      "source": [
        "## Approach 1: Classifiers with TFIDF features"
      ],
      "metadata": {
        "id": "biKDqw63A21R"
      }
    },
    {
      "cell_type": "code",
      "source": [
        "data_downsampled.head()"
      ],
      "metadata": {
        "colab": {
          "base_uri": "https://localhost:8080/",
          "height": 458
        },
        "id": "FJGvjec4CV1P",
        "outputId": "1d6147ef-4e1b-45b1-dd40-1c8ed41079ef"
      },
      "execution_count": 20,
      "outputs": [
        {
          "output_type": "execute_result",
          "data": {
            "text/plain": [
              "         Unnamed: 0               review_id  stars  useful  funny  cool  \\\n",
              "293792       293792  KQo_f4KPNB3JwCsUL1NaIw      1       2      0     0   \n",
              "362225       362225  fJsYQ4JPD0PaUPp2blcC6w      5       1      0     0   \n",
              "320644       320644  8MaGuM43VJdtXrevy0yy0Q      4       1      0     0   \n",
              "1071431     1071431  EIURxeCKMqjyF3dwmegJ6Q      5       1      0     0   \n",
              "705302       705302  Ar2FS6q9bk4dKSRrMaJKqg      5       1      0     0   \n",
              "\n",
              "                                                      text  user_useful  \\\n",
              "293792   First time dinning experience at this pub. We ...     0.743902   \n",
              "362225   I've been taking my vehicles to Vinney's for y...     0.782609   \n",
              "320644   Wonderful food at a good price \\n\\nRestaurant....     0.606695   \n",
              "1071431  Awesome place\\nEverything was great service an...     1.000000   \n",
              "705302   Very professional and polite staff. Will be ba...     0.750000   \n",
              "\n",
              "         user_funny  user_cool Label  \n",
              "293792     0.121951   0.134146     1  \n",
              "362225     0.130435   0.086957     1  \n",
              "320644     0.117155   0.276151     1  \n",
              "1071431    0.000000   0.000000     1  \n",
              "705302     0.000000   0.250000     1  "
            ],
            "text/html": [
              "\n",
              "  <div id=\"df-d4bc699e-937f-4bcf-938e-87f480719dfc\">\n",
              "    <div class=\"colab-df-container\">\n",
              "      <div>\n",
              "<style scoped>\n",
              "    .dataframe tbody tr th:only-of-type {\n",
              "        vertical-align: middle;\n",
              "    }\n",
              "\n",
              "    .dataframe tbody tr th {\n",
              "        vertical-align: top;\n",
              "    }\n",
              "\n",
              "    .dataframe thead th {\n",
              "        text-align: right;\n",
              "    }\n",
              "</style>\n",
              "<table border=\"1\" class=\"dataframe\">\n",
              "  <thead>\n",
              "    <tr style=\"text-align: right;\">\n",
              "      <th></th>\n",
              "      <th>Unnamed: 0</th>\n",
              "      <th>review_id</th>\n",
              "      <th>stars</th>\n",
              "      <th>useful</th>\n",
              "      <th>funny</th>\n",
              "      <th>cool</th>\n",
              "      <th>text</th>\n",
              "      <th>user_useful</th>\n",
              "      <th>user_funny</th>\n",
              "      <th>user_cool</th>\n",
              "      <th>Label</th>\n",
              "    </tr>\n",
              "  </thead>\n",
              "  <tbody>\n",
              "    <tr>\n",
              "      <th>293792</th>\n",
              "      <td>293792</td>\n",
              "      <td>KQo_f4KPNB3JwCsUL1NaIw</td>\n",
              "      <td>1</td>\n",
              "      <td>2</td>\n",
              "      <td>0</td>\n",
              "      <td>0</td>\n",
              "      <td>First time dinning experience at this pub. We ...</td>\n",
              "      <td>0.743902</td>\n",
              "      <td>0.121951</td>\n",
              "      <td>0.134146</td>\n",
              "      <td>1</td>\n",
              "    </tr>\n",
              "    <tr>\n",
              "      <th>362225</th>\n",
              "      <td>362225</td>\n",
              "      <td>fJsYQ4JPD0PaUPp2blcC6w</td>\n",
              "      <td>5</td>\n",
              "      <td>1</td>\n",
              "      <td>0</td>\n",
              "      <td>0</td>\n",
              "      <td>I've been taking my vehicles to Vinney's for y...</td>\n",
              "      <td>0.782609</td>\n",
              "      <td>0.130435</td>\n",
              "      <td>0.086957</td>\n",
              "      <td>1</td>\n",
              "    </tr>\n",
              "    <tr>\n",
              "      <th>320644</th>\n",
              "      <td>320644</td>\n",
              "      <td>8MaGuM43VJdtXrevy0yy0Q</td>\n",
              "      <td>4</td>\n",
              "      <td>1</td>\n",
              "      <td>0</td>\n",
              "      <td>0</td>\n",
              "      <td>Wonderful food at a good price \\n\\nRestaurant....</td>\n",
              "      <td>0.606695</td>\n",
              "      <td>0.117155</td>\n",
              "      <td>0.276151</td>\n",
              "      <td>1</td>\n",
              "    </tr>\n",
              "    <tr>\n",
              "      <th>1071431</th>\n",
              "      <td>1071431</td>\n",
              "      <td>EIURxeCKMqjyF3dwmegJ6Q</td>\n",
              "      <td>5</td>\n",
              "      <td>1</td>\n",
              "      <td>0</td>\n",
              "      <td>0</td>\n",
              "      <td>Awesome place\\nEverything was great service an...</td>\n",
              "      <td>1.000000</td>\n",
              "      <td>0.000000</td>\n",
              "      <td>0.000000</td>\n",
              "      <td>1</td>\n",
              "    </tr>\n",
              "    <tr>\n",
              "      <th>705302</th>\n",
              "      <td>705302</td>\n",
              "      <td>Ar2FS6q9bk4dKSRrMaJKqg</td>\n",
              "      <td>5</td>\n",
              "      <td>1</td>\n",
              "      <td>0</td>\n",
              "      <td>0</td>\n",
              "      <td>Very professional and polite staff. Will be ba...</td>\n",
              "      <td>0.750000</td>\n",
              "      <td>0.000000</td>\n",
              "      <td>0.250000</td>\n",
              "      <td>1</td>\n",
              "    </tr>\n",
              "  </tbody>\n",
              "</table>\n",
              "</div>\n",
              "      <button class=\"colab-df-convert\" onclick=\"convertToInteractive('df-d4bc699e-937f-4bcf-938e-87f480719dfc')\"\n",
              "              title=\"Convert this dataframe to an interactive table.\"\n",
              "              style=\"display:none;\">\n",
              "        \n",
              "  <svg xmlns=\"http://www.w3.org/2000/svg\" height=\"24px\"viewBox=\"0 0 24 24\"\n",
              "       width=\"24px\">\n",
              "    <path d=\"M0 0h24v24H0V0z\" fill=\"none\"/>\n",
              "    <path d=\"M18.56 5.44l.94 2.06.94-2.06 2.06-.94-2.06-.94-.94-2.06-.94 2.06-2.06.94zm-11 1L8.5 8.5l.94-2.06 2.06-.94-2.06-.94L8.5 2.5l-.94 2.06-2.06.94zm10 10l.94 2.06.94-2.06 2.06-.94-2.06-.94-.94-2.06-.94 2.06-2.06.94z\"/><path d=\"M17.41 7.96l-1.37-1.37c-.4-.4-.92-.59-1.43-.59-.52 0-1.04.2-1.43.59L10.3 9.45l-7.72 7.72c-.78.78-.78 2.05 0 2.83L4 21.41c.39.39.9.59 1.41.59.51 0 1.02-.2 1.41-.59l7.78-7.78 2.81-2.81c.8-.78.8-2.07 0-2.86zM5.41 20L4 18.59l7.72-7.72 1.47 1.35L5.41 20z\"/>\n",
              "  </svg>\n",
              "      </button>\n",
              "      \n",
              "  <style>\n",
              "    .colab-df-container {\n",
              "      display:flex;\n",
              "      flex-wrap:wrap;\n",
              "      gap: 12px;\n",
              "    }\n",
              "\n",
              "    .colab-df-convert {\n",
              "      background-color: #E8F0FE;\n",
              "      border: none;\n",
              "      border-radius: 50%;\n",
              "      cursor: pointer;\n",
              "      display: none;\n",
              "      fill: #1967D2;\n",
              "      height: 32px;\n",
              "      padding: 0 0 0 0;\n",
              "      width: 32px;\n",
              "    }\n",
              "\n",
              "    .colab-df-convert:hover {\n",
              "      background-color: #E2EBFA;\n",
              "      box-shadow: 0px 1px 2px rgba(60, 64, 67, 0.3), 0px 1px 3px 1px rgba(60, 64, 67, 0.15);\n",
              "      fill: #174EA6;\n",
              "    }\n",
              "\n",
              "    [theme=dark] .colab-df-convert {\n",
              "      background-color: #3B4455;\n",
              "      fill: #D2E3FC;\n",
              "    }\n",
              "\n",
              "    [theme=dark] .colab-df-convert:hover {\n",
              "      background-color: #434B5C;\n",
              "      box-shadow: 0px 1px 3px 1px rgba(0, 0, 0, 0.15);\n",
              "      filter: drop-shadow(0px 1px 2px rgba(0, 0, 0, 0.3));\n",
              "      fill: #FFFFFF;\n",
              "    }\n",
              "  </style>\n",
              "\n",
              "      <script>\n",
              "        const buttonEl =\n",
              "          document.querySelector('#df-d4bc699e-937f-4bcf-938e-87f480719dfc button.colab-df-convert');\n",
              "        buttonEl.style.display =\n",
              "          google.colab.kernel.accessAllowed ? 'block' : 'none';\n",
              "\n",
              "        async function convertToInteractive(key) {\n",
              "          const element = document.querySelector('#df-d4bc699e-937f-4bcf-938e-87f480719dfc');\n",
              "          const dataTable =\n",
              "            await google.colab.kernel.invokeFunction('convertToInteractive',\n",
              "                                                     [key], {});\n",
              "          if (!dataTable) return;\n",
              "\n",
              "          const docLinkHtml = 'Like what you see? Visit the ' +\n",
              "            '<a target=\"_blank\" href=https://colab.research.google.com/notebooks/data_table.ipynb>data table notebook</a>'\n",
              "            + ' to learn more about interactive tables.';\n",
              "          element.innerHTML = '';\n",
              "          dataTable['output_type'] = 'display_data';\n",
              "          await google.colab.output.renderOutput(dataTable, element);\n",
              "          const docLink = document.createElement('div');\n",
              "          docLink.innerHTML = docLinkHtml;\n",
              "          element.appendChild(docLink);\n",
              "        }\n",
              "      </script>\n",
              "    </div>\n",
              "  </div>\n",
              "  "
            ]
          },
          "metadata": {},
          "execution_count": 20
        }
      ]
    },
    {
      "cell_type": "markdown",
      "source": [
        "Preprocessing the text to eliminate punctuation, stopwords and stemm the words"
      ],
      "metadata": {
        "id": "RdKbUR4nDnjA"
      }
    },
    {
      "cell_type": "code",
      "source": [
        "stop_words = set(stopwords.words('english'))\n",
        "ps = PorterStemmer()\n",
        "\n",
        "def preprocess_text(text):\n",
        "    text = text.lower()\n",
        "    text = ''.join(ch for ch in text if ch not in string.punctuation)\n",
        "    text = ' '.join(word for word in text.split() if word not in stop_words)\n",
        "    text = ' '.join(ps.stem(word) for word in text.split())\n",
        "    return text"
      ],
      "metadata": {
        "id": "YDCECyQ7A2Ns"
      },
      "execution_count": 21,
      "outputs": []
    },
    {
      "cell_type": "code",
      "source": [
        "data_downsampled['preprocessed_text'] = data_downsampled['text'].apply(preprocess_text)\n",
        "data_downsampled.head()"
      ],
      "metadata": {
        "colab": {
          "base_uri": "https://localhost:8080/",
          "height": 478
        },
        "id": "jISnaDEGCeXx",
        "outputId": "e01485fc-7ec6-4283-f986-13c576d71df7"
      },
      "execution_count": 22,
      "outputs": [
        {
          "output_type": "execute_result",
          "data": {
            "text/plain": [
              "         Unnamed: 0               review_id  stars  useful  funny  cool  \\\n",
              "293792       293792  KQo_f4KPNB3JwCsUL1NaIw      1       2      0     0   \n",
              "362225       362225  fJsYQ4JPD0PaUPp2blcC6w      5       1      0     0   \n",
              "320644       320644  8MaGuM43VJdtXrevy0yy0Q      4       1      0     0   \n",
              "1071431     1071431  EIURxeCKMqjyF3dwmegJ6Q      5       1      0     0   \n",
              "705302       705302  Ar2FS6q9bk4dKSRrMaJKqg      5       1      0     0   \n",
              "\n",
              "                                                      text  user_useful  \\\n",
              "293792   First time dinning experience at this pub. We ...     0.743902   \n",
              "362225   I've been taking my vehicles to Vinney's for y...     0.782609   \n",
              "320644   Wonderful food at a good price \\n\\nRestaurant....     0.606695   \n",
              "1071431  Awesome place\\nEverything was great service an...     1.000000   \n",
              "705302   Very professional and polite staff. Will be ba...     0.750000   \n",
              "\n",
              "         user_funny  user_cool Label  \\\n",
              "293792     0.121951   0.134146     1   \n",
              "362225     0.130435   0.086957     1   \n",
              "320644     0.117155   0.276151     1   \n",
              "1071431    0.000000   0.000000     1   \n",
              "705302     0.000000   0.250000     1   \n",
              "\n",
              "                                         preprocessed_text  \n",
              "293792   first time din experi pub beer soup flat bread...  \n",
              "362225   ive take vehicl vinney year even though vinney...  \n",
              "320644   wonder food good price restaurantcom made us t...  \n",
              "1071431  awesom place everyth great servic food escargo...  \n",
              "705302   profession polit staff back visit need medic a...  "
            ],
            "text/html": [
              "\n",
              "  <div id=\"df-b134cc7f-a148-4c01-af52-3d6295f00ca3\">\n",
              "    <div class=\"colab-df-container\">\n",
              "      <div>\n",
              "<style scoped>\n",
              "    .dataframe tbody tr th:only-of-type {\n",
              "        vertical-align: middle;\n",
              "    }\n",
              "\n",
              "    .dataframe tbody tr th {\n",
              "        vertical-align: top;\n",
              "    }\n",
              "\n",
              "    .dataframe thead th {\n",
              "        text-align: right;\n",
              "    }\n",
              "</style>\n",
              "<table border=\"1\" class=\"dataframe\">\n",
              "  <thead>\n",
              "    <tr style=\"text-align: right;\">\n",
              "      <th></th>\n",
              "      <th>Unnamed: 0</th>\n",
              "      <th>review_id</th>\n",
              "      <th>stars</th>\n",
              "      <th>useful</th>\n",
              "      <th>funny</th>\n",
              "      <th>cool</th>\n",
              "      <th>text</th>\n",
              "      <th>user_useful</th>\n",
              "      <th>user_funny</th>\n",
              "      <th>user_cool</th>\n",
              "      <th>Label</th>\n",
              "      <th>preprocessed_text</th>\n",
              "    </tr>\n",
              "  </thead>\n",
              "  <tbody>\n",
              "    <tr>\n",
              "      <th>293792</th>\n",
              "      <td>293792</td>\n",
              "      <td>KQo_f4KPNB3JwCsUL1NaIw</td>\n",
              "      <td>1</td>\n",
              "      <td>2</td>\n",
              "      <td>0</td>\n",
              "      <td>0</td>\n",
              "      <td>First time dinning experience at this pub. We ...</td>\n",
              "      <td>0.743902</td>\n",
              "      <td>0.121951</td>\n",
              "      <td>0.134146</td>\n",
              "      <td>1</td>\n",
              "      <td>first time din experi pub beer soup flat bread...</td>\n",
              "    </tr>\n",
              "    <tr>\n",
              "      <th>362225</th>\n",
              "      <td>362225</td>\n",
              "      <td>fJsYQ4JPD0PaUPp2blcC6w</td>\n",
              "      <td>5</td>\n",
              "      <td>1</td>\n",
              "      <td>0</td>\n",
              "      <td>0</td>\n",
              "      <td>I've been taking my vehicles to Vinney's for y...</td>\n",
              "      <td>0.782609</td>\n",
              "      <td>0.130435</td>\n",
              "      <td>0.086957</td>\n",
              "      <td>1</td>\n",
              "      <td>ive take vehicl vinney year even though vinney...</td>\n",
              "    </tr>\n",
              "    <tr>\n",
              "      <th>320644</th>\n",
              "      <td>320644</td>\n",
              "      <td>8MaGuM43VJdtXrevy0yy0Q</td>\n",
              "      <td>4</td>\n",
              "      <td>1</td>\n",
              "      <td>0</td>\n",
              "      <td>0</td>\n",
              "      <td>Wonderful food at a good price \\n\\nRestaurant....</td>\n",
              "      <td>0.606695</td>\n",
              "      <td>0.117155</td>\n",
              "      <td>0.276151</td>\n",
              "      <td>1</td>\n",
              "      <td>wonder food good price restaurantcom made us t...</td>\n",
              "    </tr>\n",
              "    <tr>\n",
              "      <th>1071431</th>\n",
              "      <td>1071431</td>\n",
              "      <td>EIURxeCKMqjyF3dwmegJ6Q</td>\n",
              "      <td>5</td>\n",
              "      <td>1</td>\n",
              "      <td>0</td>\n",
              "      <td>0</td>\n",
              "      <td>Awesome place\\nEverything was great service an...</td>\n",
              "      <td>1.000000</td>\n",
              "      <td>0.000000</td>\n",
              "      <td>0.000000</td>\n",
              "      <td>1</td>\n",
              "      <td>awesom place everyth great servic food escargo...</td>\n",
              "    </tr>\n",
              "    <tr>\n",
              "      <th>705302</th>\n",
              "      <td>705302</td>\n",
              "      <td>Ar2FS6q9bk4dKSRrMaJKqg</td>\n",
              "      <td>5</td>\n",
              "      <td>1</td>\n",
              "      <td>0</td>\n",
              "      <td>0</td>\n",
              "      <td>Very professional and polite staff. Will be ba...</td>\n",
              "      <td>0.750000</td>\n",
              "      <td>0.000000</td>\n",
              "      <td>0.250000</td>\n",
              "      <td>1</td>\n",
              "      <td>profession polit staff back visit need medic a...</td>\n",
              "    </tr>\n",
              "  </tbody>\n",
              "</table>\n",
              "</div>\n",
              "      <button class=\"colab-df-convert\" onclick=\"convertToInteractive('df-b134cc7f-a148-4c01-af52-3d6295f00ca3')\"\n",
              "              title=\"Convert this dataframe to an interactive table.\"\n",
              "              style=\"display:none;\">\n",
              "        \n",
              "  <svg xmlns=\"http://www.w3.org/2000/svg\" height=\"24px\"viewBox=\"0 0 24 24\"\n",
              "       width=\"24px\">\n",
              "    <path d=\"M0 0h24v24H0V0z\" fill=\"none\"/>\n",
              "    <path d=\"M18.56 5.44l.94 2.06.94-2.06 2.06-.94-2.06-.94-.94-2.06-.94 2.06-2.06.94zm-11 1L8.5 8.5l.94-2.06 2.06-.94-2.06-.94L8.5 2.5l-.94 2.06-2.06.94zm10 10l.94 2.06.94-2.06 2.06-.94-2.06-.94-.94-2.06-.94 2.06-2.06.94z\"/><path d=\"M17.41 7.96l-1.37-1.37c-.4-.4-.92-.59-1.43-.59-.52 0-1.04.2-1.43.59L10.3 9.45l-7.72 7.72c-.78.78-.78 2.05 0 2.83L4 21.41c.39.39.9.59 1.41.59.51 0 1.02-.2 1.41-.59l7.78-7.78 2.81-2.81c.8-.78.8-2.07 0-2.86zM5.41 20L4 18.59l7.72-7.72 1.47 1.35L5.41 20z\"/>\n",
              "  </svg>\n",
              "      </button>\n",
              "      \n",
              "  <style>\n",
              "    .colab-df-container {\n",
              "      display:flex;\n",
              "      flex-wrap:wrap;\n",
              "      gap: 12px;\n",
              "    }\n",
              "\n",
              "    .colab-df-convert {\n",
              "      background-color: #E8F0FE;\n",
              "      border: none;\n",
              "      border-radius: 50%;\n",
              "      cursor: pointer;\n",
              "      display: none;\n",
              "      fill: #1967D2;\n",
              "      height: 32px;\n",
              "      padding: 0 0 0 0;\n",
              "      width: 32px;\n",
              "    }\n",
              "\n",
              "    .colab-df-convert:hover {\n",
              "      background-color: #E2EBFA;\n",
              "      box-shadow: 0px 1px 2px rgba(60, 64, 67, 0.3), 0px 1px 3px 1px rgba(60, 64, 67, 0.15);\n",
              "      fill: #174EA6;\n",
              "    }\n",
              "\n",
              "    [theme=dark] .colab-df-convert {\n",
              "      background-color: #3B4455;\n",
              "      fill: #D2E3FC;\n",
              "    }\n",
              "\n",
              "    [theme=dark] .colab-df-convert:hover {\n",
              "      background-color: #434B5C;\n",
              "      box-shadow: 0px 1px 3px 1px rgba(0, 0, 0, 0.15);\n",
              "      filter: drop-shadow(0px 1px 2px rgba(0, 0, 0, 0.3));\n",
              "      fill: #FFFFFF;\n",
              "    }\n",
              "  </style>\n",
              "\n",
              "      <script>\n",
              "        const buttonEl =\n",
              "          document.querySelector('#df-b134cc7f-a148-4c01-af52-3d6295f00ca3 button.colab-df-convert');\n",
              "        buttonEl.style.display =\n",
              "          google.colab.kernel.accessAllowed ? 'block' : 'none';\n",
              "\n",
              "        async function convertToInteractive(key) {\n",
              "          const element = document.querySelector('#df-b134cc7f-a148-4c01-af52-3d6295f00ca3');\n",
              "          const dataTable =\n",
              "            await google.colab.kernel.invokeFunction('convertToInteractive',\n",
              "                                                     [key], {});\n",
              "          if (!dataTable) return;\n",
              "\n",
              "          const docLinkHtml = 'Like what you see? Visit the ' +\n",
              "            '<a target=\"_blank\" href=https://colab.research.google.com/notebooks/data_table.ipynb>data table notebook</a>'\n",
              "            + ' to learn more about interactive tables.';\n",
              "          element.innerHTML = '';\n",
              "          dataTable['output_type'] = 'display_data';\n",
              "          await google.colab.output.renderOutput(dataTable, element);\n",
              "          const docLink = document.createElement('div');\n",
              "          docLink.innerHTML = docLinkHtml;\n",
              "          element.appendChild(docLink);\n",
              "        }\n",
              "      </script>\n",
              "    </div>\n",
              "  </div>\n",
              "  "
            ]
          },
          "metadata": {},
          "execution_count": 22
        }
      ]
    },
    {
      "cell_type": "code",
      "source": [
        "# Create a bag-of-words model and compute the TF-IDF features\n",
        "\n",
        "vectorizer = TfidfVectorizer(min_df = 100)\n",
        "tfidf_reviews = vectorizer.fit_transform(data_downsampled['preprocessed_text'])"
      ],
      "metadata": {
        "id": "mEhs4LUJDlWS"
      },
      "execution_count": 23,
      "outputs": []
    },
    {
      "cell_type": "code",
      "source": [
        "print(tfidf_reviews.shape)"
      ],
      "metadata": {
        "colab": {
          "base_uri": "https://localhost:8080/"
        },
        "id": "5_K8rEu4F-ii",
        "outputId": "375af708-58e5-4f35-e331-f4b05e2a9f31"
      },
      "execution_count": 24,
      "outputs": [
        {
          "output_type": "stream",
          "name": "stdout",
          "text": [
            "(194960, 5391)\n"
          ]
        }
      ]
    },
    {
      "cell_type": "code",
      "source": [
        "# Split the dataset into training and testing sets\n",
        "\n",
        "X_train, X_test, y_train, y_test = train_test_split(tfidf_reviews, data_downsampled['Label'], test_size=0.2, random_state=42)"
      ],
      "metadata": {
        "id": "VvJEmZg4F0dO"
      },
      "execution_count": 25,
      "outputs": []
    },
    {
      "cell_type": "markdown",
      "source": [
        "Training a Logistic Regression Classifier:"
      ],
      "metadata": {
        "id": "3hvCeaclGZBm"
      }
    },
    {
      "cell_type": "code",
      "source": [
        "# Train a multiclass classification model\n",
        "\n",
        "model = LogisticRegression(multi_class= 'multinomial', solver = 'newton-cg')\n",
        "model.fit(X_train, y_train)"
      ],
      "metadata": {
        "colab": {
          "base_uri": "https://localhost:8080/"
        },
        "id": "IUlXDyhmGOAw",
        "outputId": "644d9721-6c29-4bbd-f6da-0be6ae4b9354"
      },
      "execution_count": 26,
      "outputs": [
        {
          "output_type": "execute_result",
          "data": {
            "text/plain": [
              "LogisticRegression(multi_class='multinomial', solver='newton-cg')"
            ]
          },
          "metadata": {},
          "execution_count": 26
        }
      ]
    },
    {
      "cell_type": "code",
      "source": [
        "def conf_matrix(y_test, y_pred):\n",
        "  cm = confusion_matrix(y_test, y_pred)\n",
        "  disp = ConfusionMatrixDisplay(confusion_matrix=cm,display_labels=['useful', 'funny', 'cool', 'equal'])\n",
        "  fig, ax = plt.subplots(figsize=(8,8))\n",
        "  plt.grid(False)\n",
        "  disp.plot(ax=ax)\n",
        "  plt.show()"
      ],
      "metadata": {
        "id": "t2lo99qD2oab"
      },
      "execution_count": 27,
      "outputs": []
    },
    {
      "cell_type": "code",
      "source": [
        "# Predicting the class labels of the test set\n",
        "y_pred = model.predict(X_test)\n",
        "\n",
        "# Printing the classification metrics\n",
        "print('F1 score:', f1_score(y_test, y_pred, average = 'weighted'))\n",
        "print('Accuracy: ', accuracy_score(y_test, y_pred))\n",
        "print('Precision:', precision_score(y_test, y_pred, average = 'weighted'))\n",
        "print('Recall:', recall_score(y_test, y_pred, average='weighted'))"
      ],
      "metadata": {
        "colab": {
          "base_uri": "https://localhost:8080/"
        },
        "id": "NfZRaxznG6Ag",
        "outputId": "bed974f6-36a4-4bf6-d2ef-657111fdd776"
      },
      "execution_count": 29,
      "outputs": [
        {
          "output_type": "stream",
          "name": "stdout",
          "text": [
            "F1 score: 0.40415379864987633\n",
            "Accuracy:  0.4073912597455888\n",
            "Precision: 0.40441081036982296\n",
            "Recall: 0.4073912597455888\n"
          ]
        }
      ]
    },
    {
      "cell_type": "code",
      "source": [
        "conf_matrix(y_test, y_pred)"
      ],
      "metadata": {
        "colab": {
          "base_uri": "https://localhost:8080/",
          "height": 467
        },
        "id": "ddgk-Ntv23jk",
        "outputId": "8963259a-2f48-41c5-956c-f01c3bd916af"
      },
      "execution_count": 30,
      "outputs": [
        {
          "output_type": "display_data",
          "data": {
            "text/plain": [
              "<Figure size 576x576 with 2 Axes>"
            ],
            "image/png": "[encoded data removed]"
          },
          "metadata": {}
        }
      ]
    },
    {
      "cell_type": "markdown",
      "source": [
        "Training a Random Forest Classifier:"
      ],
      "metadata": {
        "id": "R3I67RahKR5N"
      }
    },
    {
      "cell_type": "code",
      "source": [
        "rf = RandomForestClassifier(n_estimators = 100, criterion=\"entropy\")\n",
        "rf.fit(X_train, y_train)"
      ],
      "metadata": {
        "id": "YFbNM7PaKa2d",
        "colab": {
          "base_uri": "https://localhost:8080/"
        },
        "outputId": "c8ee2a89-8c31-4d64-fc49-4d9746f39fc1"
      },
      "execution_count": 31,
      "outputs": [
        {
          "output_type": "execute_result",
          "data": {
            "text/plain": [
              "RandomForestClassifier(criterion='entropy')"
            ]
          },
          "metadata": {},
          "execution_count": 31
        }
      ]
    },
    {
      "cell_type": "code",
      "source": [
        "y_pred = rf.predict(X_test)"
      ],
      "metadata": {
        "id": "tiwGR9og9Pm9"
      },
      "execution_count": 32,
      "outputs": []
    },
    {
      "cell_type": "code",
      "source": [
        "print('F1 score:', f1_score(y_test, y_pred, average = 'weighted'))\n",
        "print('Accuracy: ', accuracy_score(y_test, y_pred))\n",
        "print('Precision:', precision_score(y_test, y_pred, average = 'weighted'))\n",
        "print('Recall:', recall_score(y_test, y_pred, average='weighted'))"
      ],
      "metadata": {
        "colab": {
          "base_uri": "https://localhost:8080/"
        },
        "id": "BxmcCVz1KvUi",
        "outputId": "8533567e-57ac-4014-ec9f-0333a27ecc13"
      },
      "execution_count": 33,
      "outputs": [
        {
          "output_type": "stream",
          "name": "stdout",
          "text": [
            "F1 score: 0.47973468282973925\n",
            "Accuracy:  0.4810473943373\n",
            "Precision: 0.48776936563207196\n",
            "Recall: 0.4810473943373\n"
          ]
        }
      ]
    },
    {
      "cell_type": "code",
      "source": [
        "conf_matrix(y_test, y_pred)"
      ],
      "metadata": {
        "colab": {
          "base_uri": "https://localhost:8080/",
          "height": 466
        },
        "id": "VB0h9UCX5RrV",
        "outputId": "fad9389e-b398-4fb9-82c1-eca7a9521492"
      },
      "execution_count": 34,
      "outputs": [
        {
          "output_type": "display_data",
          "data": {
            "text/plain": [
              "<Figure size 576x576 with 2 Axes>"
            ],
            "image/png": "[encoded data removed]"
          },
          "metadata": {}
        }
      ]
    },
    {
      "cell_type": "markdown",
      "source": [
        "Naive Bayes Classifier:"
      ],
      "metadata": {
        "id": "NZMO0yIUMgJ-"
      }
    },
    {
      "cell_type": "code",
      "source": [
        "NB = MultinomialNB() \n",
        "NB.fit(X_train, y_train)"
      ],
      "metadata": {
        "colab": {
          "base_uri": "https://localhost:8080/"
        },
        "id": "V2OVmoEDMNXo",
        "outputId": "7ce5223c-ddd2-4c40-b22f-0b1997fa8b7c"
      },
      "execution_count": 35,
      "outputs": [
        {
          "output_type": "execute_result",
          "data": {
            "text/plain": [
              "MultinomialNB()"
            ]
          },
          "metadata": {},
          "execution_count": 35
        }
      ]
    },
    {
      "cell_type": "code",
      "source": [
        "y_pred = NB.predict(X_test)"
      ],
      "metadata": {
        "id": "z5FoS_Ul9UPd"
      },
      "execution_count": 36,
      "outputs": []
    },
    {
      "cell_type": "code",
      "source": [
        "print('F1 score:', f1_score(y_test, y_pred, average = 'weighted'))\n",
        "print('Accuracy: ', accuracy_score(y_test, y_pred))\n",
        "print('Precision:', precision_score(y_test, y_pred, average = 'weighted'))\n",
        "print('Recall:', recall_score(y_test, y_pred, average='weighted'))"
      ],
      "metadata": {
        "colab": {
          "base_uri": "https://localhost:8080/"
        },
        "id": "h6qC9MqW2KsR",
        "outputId": "429f3713-ab0f-4e65-eed6-330ca916fe95"
      },
      "execution_count": 37,
      "outputs": [
        {
          "output_type": "stream",
          "name": "stdout",
          "text": [
            "F1 score: 0.394546859043441\n",
            "Accuracy:  0.40444193680755025\n",
            "Precision: 0.40059014504951845\n",
            "Recall: 0.40444193680755025\n"
          ]
        }
      ]
    },
    {
      "cell_type": "code",
      "source": [
        "conf_matrix(y_test, y_pred)"
      ],
      "metadata": {
        "colab": {
          "base_uri": "https://localhost:8080/",
          "height": 466
        },
        "id": "8hy0BqGm5UiK",
        "outputId": "a0680511-1b42-4028-b53f-e183c0dfb5f4"
      },
      "execution_count": null,
      "outputs": [
        {
          "output_type": "display_data",
          "data": {
            "text/plain": [
              "<Figure size 576x576 with 2 Axes>"
            ],
            "image/png": "[encoded data removed]"
          },
          "metadata": {}
        }
      ]
    },
    {
      "cell_type": "markdown",
      "source": [
        "## Approach 2: Fine tune BERT"
      ],
      "metadata": {
        "id": "yv3EICoYOhZX"
      }
    },
    {
      "cell_type": "markdown",
      "source": [
        "For this part we will Fine tune a BERT base cased classifier to fit better to our data"
      ],
      "metadata": {
        "id": "pgRPGLxxhfa_"
      }
    },
    {
      "cell_type": "code",
      "source": [
        "data_downsampled['Label'] = data_downsampled['Label'].replace(['1','2','3','0'],[1,2,3,0]) "
      ],
      "metadata": {
        "id": "Ni4EcKoI2-w5"
      },
      "execution_count": null,
      "outputs": []
    },
    {
      "cell_type": "code",
      "source": [
        "# Truncate the input text data to the maximum sequence length of the BERT model\n",
        "# Tokenize the text data and create input features for BERT\n",
        "MAX_LEN = 512\n",
        "tokenizer = BertTokenizer.from_pretrained('bert-base-uncased', num_labels=4, do_lower_case = True)\n",
        "\n",
        "# input_ids = data_downsampled['preprocessed_text'].apply(lambda x: tokenizer.encode(x, add_special_tokens=False)[:MAX_LEN]).tolist()\n",
        "\n",
        "# Convert the token IDs to integer values\n",
        "# data_downsampled['preprocessed_text'] = data_downsampled['preprocessed_text'].apply(lambda x: [int(token_id) if token_id.isdigit() else token_id for token_id in x])\n"
      ],
      "metadata": {
        "colab": {
          "base_uri": "https://localhost:8080/",
          "height": 113,
          "referenced_widgets": [
            "bf9a74f5276846a7abf363361e6d203b",
            "4aa67deea62e4c9eaaeecea6a6357d03",
            "14f147f5f2ed42be940b6a4dbd2a603a",
            "dc0ffdde73ca4d8a8d18c28f819794c5",
            "80224edae56c46a9841b2219d235d210",
            "075361a80977491b8f807ae9447627d7",
            "ef32914ac8584067a78eeef4b86e7691",
            "9c356ce1731244958651d5075986f34b",
            "c8fa266e5cfd42f4b93a3e4b6cb33f8a",
            "53b9cbe6ee4d462f943851d0d159a7a6",
            "446cf64f2afc437bbbdd504e01ea6674",
            "db764a36ba894b8b8068575f0c2ddda4",
            "9b3c215d03ae4de197b7cb9300529f62",
            "6080611b03d045f899fbd3476d756769",
            "d3251272349d4d8aa99c3c3fb1dc6e07",
            "b68f01ca1e674bbe8926a99be118c480",
            "61e010d6a7cc4f1fb984dfc71220f418",
            "2109e0cea36a4f8cbd739ac4477e2a6d",
            "d9eb276cb9a14beeb5600f95fd46d27c",
            "2a44c5e908d242efaf351657521f28a4",
            "5cc04662d9534399932983f7853be833",
            "ea0c16dcb36440d5a65420244d7c904f",
            "606a600db84949f696caabe1024bd067",
            "56f3af716d8a4069a08d8f9cbe7607f7",
            "7dfc27d2bddb4d23801c47d2f53dcc1c",
            "fb250ad14daf4063a58e1685cabf4e3c",
            "b3f8914999fe4d798b017c8d00009b7b",
            "29a26f8b586f408ca43ab4caa63468c0",
            "23af975df21540c0a8d7be516ff4f7b8",
            "273bcb44f522495e9e65952b1d43c52f",
            "73b62d10526d4bfc82ebe7391257e9cd",
            "211cfb642bf244bdbba7ad221daa06e0",
            "dde5b22639454908bc03f6b288a62e2f"
          ]
        },
        "id": "cAyEOvJCkGwM",
        "outputId": "1dc75d06-8bb8-4093-9868-3395393344c5"
      },
      "execution_count": null,
      "outputs": [
        {
          "output_type": "display_data",
          "data": {
            "text/plain": [
              "Downloading:   0%|          | 0.00/232k [00:00<?, ?B/s]"
            ],
            "application/vnd.jupyter.widget-view+json": {
              "version_major": 2,
              "version_minor": 0,
              "model_id": "bf9a74f5276846a7abf363361e6d203b"
            }
          },
          "metadata": {}
        },
        {
          "output_type": "display_data",
          "data": {
            "text/plain": [
              "Downloading:   0%|          | 0.00/28.0 [00:00<?, ?B/s]"
            ],
            "application/vnd.jupyter.widget-view+json": {
              "version_major": 2,
              "version_minor": 0,
              "model_id": "db764a36ba894b8b8068575f0c2ddda4"
            }
          },
          "metadata": {}
        },
        {
          "output_type": "display_data",
          "data": {
            "text/plain": [
              "Downloading:   0%|          | 0.00/570 [00:00<?, ?B/s]"
            ],
            "application/vnd.jupyter.widget-view+json": {
              "version_major": 2,
              "version_minor": 0,
              "model_id": "606a600db84949f696caabe1024bd067"
            }
          },
          "metadata": {}
        }
      ]
    },
    {
      "cell_type": "code",
      "source": [
        "y = data_downsampled['Label'].values\n",
        "df2 = data_downsampled.copy()\n",
        "df2.drop(['Label'], axis=1, inplace=True)\n",
        "\n",
        "X_train, X_test, y_train, y_test = train_test_split(df2, y, test_size=0.2, stratify=y)\n",
        "\n",
        "train_text = X_train['text'].values.tolist()\n",
        "valid_text = X_test['text'].values.tolist()\n",
        "train_label = y_train\n",
        "valid_label = y_test"
      ],
      "metadata": {
        "id": "7HEuOB5GwhJJ"
      },
      "execution_count": null,
      "outputs": []
    },
    {
      "cell_type": "code",
      "source": [
        "# tokenize the dataset, truncate when passed `max_length`, and pad with 0's when less than `max_length`\n",
        "train_encodings = tokenizer(train_text, truncation=True, padding=True, max_length=MAX_LEN)\n",
        "valid_encodings = tokenizer(valid_text, truncation=True, padding=True, max_length=MAX_LEN)"
      ],
      "metadata": {
        "id": "Le9KQwx6xXbY"
      },
      "execution_count": null,
      "outputs": []
    },
    {
      "cell_type": "code",
      "source": [
        "class CreationofTorchDataset(torch.utils.data.Dataset):\n",
        "    def __init__(self, encodings, labels):\n",
        "        self.encodings = encodings\n",
        "        self.labels = labels\n",
        "\n",
        "    def __getitem__(self, idx):\n",
        "        item = {k: torch.tensor(v[idx]) for k, v in self.encodings.items()}\n",
        "        item[\"labels\"] = torch.tensor([self.labels[idx]])\n",
        "        return item\n",
        "\n",
        "    def __len__(self):\n",
        "        return len(self.labels)\n",
        "\n",
        "# convert our tokenized data into a torch Dataset\n",
        "train_dataset = CreationofTorchDataset(train_encodings, train_label)\n",
        "valid_dataset = CreationofTorchDataset(valid_encodings, valid_label)"
      ],
      "metadata": {
        "id": "rMtrWK3FxovT"
      },
      "execution_count": null,
      "outputs": []
    },
    {
      "cell_type": "code",
      "source": [
        "# load the model and pass to CUDA\n",
        "model = BertForSequenceClassification.from_pretrained(\"bert-base-uncased\", num_labels=4).to(\"cuda\")"
      ],
      "metadata": {
        "colab": {
          "base_uri": "https://localhost:8080/",
          "height": 156,
          "referenced_widgets": [
            "fcd31ff7cd9f42f7b85b3891b715ab3c",
            "813848ecec90458c895207bf5b504b03",
            "1900bdc0bcfe4041a7ff9b601b6a28d6",
            "8b6cd61ddd5b4aa2b189e7c6c3ef8389",
            "4711e68c667346dea2f9faab8374461e",
            "79d1843b0fea4842a5d4915ee7928c63",
            "689ad0e2827343f999f90c846b34a9f4",
            "d336fde86c4c4bfe91f978b7b3c606d1",
            "3bf220f8588642ce92f6440ad3021b51",
            "3142b25041f34963b7f0db25695f9f54",
            "797c52d2104a46ef9027f648bc1bb459"
          ]
        },
        "id": "NGR0RP09ys4i",
        "outputId": "15aeec7e-1e0f-43a1-8058-e72000f8e6a3"
      },
      "execution_count": null,
      "outputs": [
        {
          "output_type": "display_data",
          "data": {
            "text/plain": [
              "Downloading:   0%|          | 0.00/440M [00:00<?, ?B/s]"
            ],
            "application/vnd.jupyter.widget-view+json": {
              "version_major": 2,
              "version_minor": 0,
              "model_id": "fcd31ff7cd9f42f7b85b3891b715ab3c"
            }
          },
          "metadata": {}
        },
        {
          "output_type": "stream",
          "name": "stderr",
          "text": [
            "Some weights of the model checkpoint at bert-base-uncased were not used when initializing BertForSequenceClassification: ['cls.predictions.transform.LayerNorm.weight', 'cls.predictions.decoder.weight', 'cls.predictions.transform.dense.bias', 'cls.seq_relationship.weight', 'cls.predictions.transform.LayerNorm.bias', 'cls.seq_relationship.bias', 'cls.predictions.bias', 'cls.predictions.transform.dense.weight']\n",
            "- This IS expected if you are initializing BertForSequenceClassification from the checkpoint of a model trained on another task or with another architecture (e.g. initializing a BertForSequenceClassification model from a BertForPreTraining model).\n",
            "- This IS NOT expected if you are initializing BertForSequenceClassification from the checkpoint of a model that you expect to be exactly identical (initializing a BertForSequenceClassification model from a BertForSequenceClassification model).\n",
            "Some weights of BertForSequenceClassification were not initialized from the model checkpoint at bert-base-uncased and are newly initialized: ['classifier.weight', 'classifier.bias']\n",
            "You should probably TRAIN this model on a down-stream task to be able to use it for predictions and inference.\n"
          ]
        }
      ]
    },
    {
      "cell_type": "code",
      "source": [
        "def compute_metrics(pred):\n",
        "  labels = pred.label_ids\n",
        "  preds = pred.predictions.argmax(-1)\n",
        "  acc = accuracy_score(labels, preds)\n",
        "  recall = recall_score(labels, preds, average='macro')\n",
        "  precision = precision_score(labels, preds, average='macro')\n",
        "  f1 = f1_score(labels, preds, average='macro')\n",
        "  return {\n",
        "      'accuracy': acc,\n",
        "      'precision': precision,\n",
        "      'recall': recall,\n",
        "      'f1': f1\n",
        "}"
      ],
      "metadata": {
        "id": "l2drl5yF1rMM"
      },
      "execution_count": null,
      "outputs": []
    },
    {
      "cell_type": "code",
      "source": [
        "training_args = TrainingArguments(\n",
        "    output_dir='./results',          # output directory\n",
        "    num_train_epochs=2,              # total number of training epochs\n",
        "    per_device_train_batch_size=8,  # batch size per device during training\n",
        "    per_device_eval_batch_size=20,   # batch size for evaluation\n",
        "    warmup_steps=500,                # number of warmup steps for learning rate scheduler\n",
        "    weight_decay=0.01,               # strength of weight decay\n",
        "    logging_dir='./logs',            # directory for storing logs\n",
        "    load_best_model_at_end=True,     # load the best model when finished training (default metric is loss)\n",
        "    # but you can specify `metric_for_best_model` argument to change to accuracy or other metric\n",
        "    logging_steps=1000,              \n",
        "    save_steps=50000,\n",
        "    evaluation_strategy=\"steps\", \n",
        ")    "
      ],
      "metadata": {
        "id": "HkA-ItTH17W1"
      },
      "execution_count": null,
      "outputs": []
    },
    {
      "cell_type": "code",
      "source": [
        "trainer = Trainer(\n",
        "    model=model,                         # the instantiated Transformers model to be trained\n",
        "    args=training_args,                  # training arguments, defined above\n",
        "    train_dataset=train_dataset,         # training dataset\n",
        "    eval_dataset=valid_dataset,          # evaluation dataset\n",
        "    compute_metrics=compute_metrics,     # the callback that computes metrics of interest\n",
        ")"
      ],
      "metadata": {
        "id": "t6vOxKmL2K-K"
      },
      "execution_count": null,
      "outputs": []
    },
    {
      "cell_type": "code",
      "source": [
        "trainer.train()"
      ],
      "metadata": {
        "colab": {
          "base_uri": "https://localhost:8080/",
          "height": 1000
        },
        "id": "v0IbUYNK2dO-",
        "outputId": "894e5c98-1779-4411-f630-d7b93c9a3570"
      },
      "execution_count": null,
      "outputs": [
        {
          "output_type": "stream",
          "name": "stderr",
          "text": [
            "/usr/local/lib/python3.8/dist-packages/transformers/optimization.py:306: FutureWarning: This implementation of AdamW is deprecated and will be removed in a future version. Use the PyTorch implementation torch.optim.AdamW instead, or set `no_deprecation_warning=True` to disable this warning\n",
            "  warnings.warn(\n",
            "***** Running training *****\n",
            "  Num examples = 69507\n",
            "  Num Epochs = 2\n",
            "  Instantaneous batch size per device = 8\n",
            "  Total train batch size (w. parallel, distributed & accumulation) = 8\n",
            "  Gradient Accumulation steps = 1\n",
            "  Total optimization steps = 17378\n",
            "  Number of trainable parameters = 109485316\n"
          ]
        },
        {
          "output_type": "display_data",
          "data": {
            "text/plain": [
              "<IPython.core.display.HTML object>"
            ],
            "text/html": [
              "\n",
              "    <div>\n",
              "      \n",
              "      <progress value='17378' max='17378' style='width:300px; height:20px; vertical-align: middle;'></progress>\n",
              "      [17378/17378 6:46:02, Epoch 2/2]\n",
              "    </div>\n",
              "    <table border=\"1\" class=\"dataframe\">\n",
              "  <thead>\n",
              " <tr style=\"text-align: left;\">\n",
              "      <th>Step</th>\n",
              "      <th>Training Loss</th>\n",
              "      <th>Validation Loss</th>\n",
              "      <th>Accuracy</th>\n",
              "      <th>Precision</th>\n",
              "      <th>Recall</th>\n",
              "      <th>F1</th>\n",
              "    </tr>\n",
              "  </thead>\n",
              "  <tbody>\n",
              "    <tr>\n",
              "      <td>1000</td>\n",
              "      <td>1.366400</td>\n",
              "      <td>1.339936</td>\n",
              "      <td>0.357772</td>\n",
              "      <td>0.365178</td>\n",
              "      <td>0.357773</td>\n",
              "      <td>0.318120</td>\n",
              "    </tr>\n",
              "    <tr>\n",
              "      <td>2000</td>\n",
              "      <td>1.345800</td>\n",
              "      <td>1.342810</td>\n",
              "      <td>0.359843</td>\n",
              "      <td>0.370138</td>\n",
              "      <td>0.359846</td>\n",
              "      <td>0.326849</td>\n",
              "    </tr>\n",
              "    <tr>\n",
              "      <td>3000</td>\n",
              "      <td>1.333800</td>\n",
              "      <td>1.336370</td>\n",
              "      <td>0.354607</td>\n",
              "      <td>0.398219</td>\n",
              "      <td>0.354597</td>\n",
              "      <td>0.335773</td>\n",
              "    </tr>\n",
              "    <tr>\n",
              "      <td>4000</td>\n",
              "      <td>1.330200</td>\n",
              "      <td>1.328614</td>\n",
              "      <td>0.356103</td>\n",
              "      <td>0.360151</td>\n",
              "      <td>0.356104</td>\n",
              "      <td>0.340041</td>\n",
              "    </tr>\n",
              "    <tr>\n",
              "      <td>5000</td>\n",
              "      <td>1.325500</td>\n",
              "      <td>1.334816</td>\n",
              "      <td>0.355643</td>\n",
              "      <td>0.360654</td>\n",
              "      <td>0.355646</td>\n",
              "      <td>0.347854</td>\n",
              "    </tr>\n",
              "    <tr>\n",
              "      <td>6000</td>\n",
              "      <td>1.312800</td>\n",
              "      <td>1.322416</td>\n",
              "      <td>0.365310</td>\n",
              "      <td>0.374167</td>\n",
              "      <td>0.365314</td>\n",
              "      <td>0.352859</td>\n",
              "    </tr>\n",
              "    <tr>\n",
              "      <td>7000</td>\n",
              "      <td>1.322900</td>\n",
              "      <td>1.317649</td>\n",
              "      <td>0.368993</td>\n",
              "      <td>0.394563</td>\n",
              "      <td>0.368997</td>\n",
              "      <td>0.336551</td>\n",
              "    </tr>\n",
              "    <tr>\n",
              "      <td>8000</td>\n",
              "      <td>1.311200</td>\n",
              "      <td>1.324011</td>\n",
              "      <td>0.366059</td>\n",
              "      <td>0.385332</td>\n",
              "      <td>0.366047</td>\n",
              "      <td>0.350081</td>\n",
              "    </tr>\n",
              "    <tr>\n",
              "      <td>9000</td>\n",
              "      <td>1.288400</td>\n",
              "      <td>1.322661</td>\n",
              "      <td>0.379755</td>\n",
              "      <td>0.399501</td>\n",
              "      <td>0.379758</td>\n",
              "      <td>0.377233</td>\n",
              "    </tr>\n",
              "    <tr>\n",
              "      <td>10000</td>\n",
              "      <td>1.264400</td>\n",
              "      <td>1.308779</td>\n",
              "      <td>0.378259</td>\n",
              "      <td>0.404709</td>\n",
              "      <td>0.378252</td>\n",
              "      <td>0.347496</td>\n",
              "    </tr>\n",
              "    <tr>\n",
              "      <td>11000</td>\n",
              "      <td>1.240500</td>\n",
              "      <td>1.332099</td>\n",
              "      <td>0.383553</td>\n",
              "      <td>0.410794</td>\n",
              "      <td>0.383560</td>\n",
              "      <td>0.375592</td>\n",
              "    </tr>\n",
              "    <tr>\n",
              "      <td>12000</td>\n",
              "      <td>1.246700</td>\n",
              "      <td>1.313507</td>\n",
              "      <td>0.393451</td>\n",
              "      <td>0.407518</td>\n",
              "      <td>0.393448</td>\n",
              "      <td>0.392527</td>\n",
              "    </tr>\n",
              "    <tr>\n",
              "      <td>13000</td>\n",
              "      <td>1.231300</td>\n",
              "      <td>1.316742</td>\n",
              "      <td>0.396501</td>\n",
              "      <td>0.409536</td>\n",
              "      <td>0.396503</td>\n",
              "      <td>0.392016</td>\n",
              "    </tr>\n",
              "    <tr>\n",
              "      <td>14000</td>\n",
              "      <td>1.227300</td>\n",
              "      <td>1.290538</td>\n",
              "      <td>0.398803</td>\n",
              "      <td>0.413157</td>\n",
              "      <td>0.398801</td>\n",
              "      <td>0.398450</td>\n",
              "    </tr>\n",
              "    <tr>\n",
              "      <td>15000</td>\n",
              "      <td>1.220000</td>\n",
              "      <td>1.296028</td>\n",
              "      <td>0.401278</td>\n",
              "      <td>0.407766</td>\n",
              "      <td>0.401277</td>\n",
              "      <td>0.402982</td>\n",
              "    </tr>\n",
              "    <tr>\n",
              "      <td>16000</td>\n",
              "      <td>1.217200</td>\n",
              "      <td>1.307346</td>\n",
              "      <td>0.404155</td>\n",
              "      <td>0.409570</td>\n",
              "      <td>0.404154</td>\n",
              "      <td>0.405528</td>\n",
              "    </tr>\n",
              "    <tr>\n",
              "      <td>17000</td>\n",
              "      <td>1.209800</td>\n",
              "      <td>1.288938</td>\n",
              "      <td>0.405076</td>\n",
              "      <td>0.418357</td>\n",
              "      <td>0.405077</td>\n",
              "      <td>0.406763</td>\n",
              "    </tr>\n",
              "  </tbody>\n",
              "</table><p>"
            ]
          },
          "metadata": {}
        },
        {
          "output_type": "stream",
          "name": "stderr",
          "text": [
            "***** Running Evaluation *****\n",
            "  Num examples = 17377\n",
            "  Batch size = 20\n",
            "***** Running Evaluation *****\n",
            "  Num examples = 17377\n",
            "  Batch size = 20\n",
            "***** Running Evaluation *****\n",
            "  Num examples = 17377\n",
            "  Batch size = 20\n",
            "***** Running Evaluation *****\n",
            "  Num examples = 17377\n",
            "  Batch size = 20\n",
            "***** Running Evaluation *****\n",
            "  Num examples = 17377\n",
            "  Batch size = 20\n",
            "***** Running Evaluation *****\n",
            "  Num examples = 17377\n",
            "  Batch size = 20\n",
            "***** Running Evaluation *****\n",
            "  Num examples = 17377\n",
            "  Batch size = 20\n",
            "***** Running Evaluation *****\n",
            "  Num examples = 17377\n",
            "  Batch size = 20\n",
            "***** Running Evaluation *****\n",
            "  Num examples = 17377\n",
            "  Batch size = 20\n",
            "***** Running Evaluation *****\n",
            "  Num examples = 17377\n",
            "  Batch size = 20\n",
            "***** Running Evaluation *****\n",
            "  Num examples = 17377\n",
            "  Batch size = 20\n",
            "***** Running Evaluation *****\n",
            "  Num examples = 17377\n",
            "  Batch size = 20\n",
            "***** Running Evaluation *****\n",
            "  Num examples = 17377\n",
            "  Batch size = 20\n",
            "***** Running Evaluation *****\n",
            "  Num examples = 17377\n",
            "  Batch size = 20\n",
            "***** Running Evaluation *****\n",
            "  Num examples = 17377\n",
            "  Batch size = 20\n",
            "***** Running Evaluation *****\n",
            "  Num examples = 17377\n",
            "  Batch size = 20\n",
            "***** Running Evaluation *****\n",
            "  Num examples = 17377\n",
            "  Batch size = 20\n",
            "\n",
            "\n",
            "Training completed. Do not forget to share your model on huggingface.co/models =)\n",
            "\n",
            "\n"
          ]
        },
        {
          "output_type": "execute_result",
          "data": {
            "text/plain": [
              "TrainOutput(global_step=17378, training_loss=1.280887522539948, metrics={'train_runtime': 24365.8852, 'train_samples_per_second': 5.705, 'train_steps_per_second': 0.713, 'total_flos': 3.657677705426534e+16, 'train_loss': 1.280887522539948, 'epoch': 2.0})"
            ]
          },
          "metadata": {},
          "execution_count": 26
        }
      ]
    },
    {
      "cell_type": "code",
      "source": [
        "# evaluate the current model after training\n",
        "\n",
        "trainer.evaluate()"
      ],
      "metadata": {
        "colab": {
          "base_uri": "https://localhost:8080/",
          "height": 245
        },
        "id": "gyoYXpl5uIK8",
        "outputId": "8000bea1-4b1d-4193-827a-d96ab5dd97a2"
      },
      "execution_count": null,
      "outputs": [
        {
          "output_type": "stream",
          "name": "stderr",
          "text": [
            "***** Running Evaluation *****\n",
            "  Num examples = 17377\n",
            "  Batch size = 20\n"
          ]
        },
        {
          "output_type": "display_data",
          "data": {
            "text/plain": [
              "<IPython.core.display.HTML object>"
            ],
            "text/html": [
              "\n",
              "    <div>\n",
              "      \n",
              "      <progress value='869' max='869' style='width:300px; height:20px; vertical-align: middle;'></progress>\n",
              "      [869/869 10:13]\n",
              "    </div>\n",
              "    "
            ]
          },
          "metadata": {}
        },
        {
          "output_type": "execute_result",
          "data": {
            "text/plain": [
              "{'eval_loss': 1.2860496044158936,\n",
              " 'eval_accuracy': 0.40588133740001153,\n",
              " 'eval_precision': 0.4196712329942906,\n",
              " 'eval_recall': 0.4058825368165182,\n",
              " 'eval_f1': 0.4078897961522788,\n",
              " 'eval_runtime': 614.5125,\n",
              " 'eval_samples_per_second': 28.278,\n",
              " 'eval_steps_per_second': 1.414,\n",
              " 'epoch': 2.0}"
            ]
          },
          "metadata": {},
          "execution_count": 32
        }
      ]
    },
    {
      "cell_type": "markdown",
      "source": [
        "## Approach 3: LSTM with word2vec embeddings"
      ],
      "metadata": {
        "id": "8Y5VUTVLSYN1"
      }
    },
    {
      "cell_type": "code",
      "source": [
        "# Creatign categorical labels for the classes\n",
        "\n",
        "conditions = [\n",
        "    (data_downsampled['Label'] == '1'),\n",
        "    (data_downsampled['Label'] == '2'),\n",
        "    (data_downsampled['Label'] == '3'),\n",
        "    (data_downsampled['Label'] == '0')\n",
        "    ]\n",
        "\n",
        "# create a list of the values we want to assign for each condition\n",
        "values = ['useful', 'funny', 'cool', 'equal']   \n",
        "\n",
        "\n",
        "# create a new column and use np.select to assign values to it using our lists as arguments\n",
        "data_downsampled['str_Label'] = np.select(conditions, values)\n",
        "\n",
        "# display updated DataFrame\n",
        "data_downsampled.head()"
      ],
      "metadata": {
        "colab": {
          "base_uri": "https://localhost:8080/",
          "height": 0
        },
        "id": "OfspmnANnrxP",
        "outputId": "97375f9b-7a6e-4be7-b901-fe8caca4abb3"
      },
      "execution_count": 38,
      "outputs": [
        {
          "output_type": "execute_result",
          "data": {
            "text/plain": [
              "         Unnamed: 0               review_id  stars  useful  funny  cool  \\\n",
              "293792       293792  KQo_f4KPNB3JwCsUL1NaIw      1       2      0     0   \n",
              "362225       362225  fJsYQ4JPD0PaUPp2blcC6w      5       1      0     0   \n",
              "320644       320644  8MaGuM43VJdtXrevy0yy0Q      4       1      0     0   \n",
              "1071431     1071431  EIURxeCKMqjyF3dwmegJ6Q      5       1      0     0   \n",
              "705302       705302  Ar2FS6q9bk4dKSRrMaJKqg      5       1      0     0   \n",
              "\n",
              "                                                      text  user_useful  \\\n",
              "293792   First time dinning experience at this pub. We ...     0.743902   \n",
              "362225   I've been taking my vehicles to Vinney's for y...     0.782609   \n",
              "320644   Wonderful food at a good price \\n\\nRestaurant....     0.606695   \n",
              "1071431  Awesome place\\nEverything was great service an...     1.000000   \n",
              "705302   Very professional and polite staff. Will be ba...     0.750000   \n",
              "\n",
              "         user_funny  user_cool Label  \\\n",
              "293792     0.121951   0.134146     1   \n",
              "362225     0.130435   0.086957     1   \n",
              "320644     0.117155   0.276151     1   \n",
              "1071431    0.000000   0.000000     1   \n",
              "705302     0.000000   0.250000     1   \n",
              "\n",
              "                                         preprocessed_text str_Label  \n",
              "293792   first time din experi pub beer soup flat bread...    useful  \n",
              "362225   ive take vehicl vinney year even though vinney...    useful  \n",
              "320644   wonder food good price restaurantcom made us t...    useful  \n",
              "1071431  awesom place everyth great servic food escargo...    useful  \n",
              "705302   profession polit staff back visit need medic a...    useful  "
            ],
            "text/html": [
              "\n",
              "  <div id=\"df-d1c14af9-4d46-4137-bcd9-82cc178cec8e\">\n",
              "    <div class=\"colab-df-container\">\n",
              "      <div>\n",
              "<style scoped>\n",
              "    .dataframe tbody tr th:only-of-type {\n",
              "        vertical-align: middle;\n",
              "    }\n",
              "\n",
              "    .dataframe tbody tr th {\n",
              "        vertical-align: top;\n",
              "    }\n",
              "\n",
              "    .dataframe thead th {\n",
              "        text-align: right;\n",
              "    }\n",
              "</style>\n",
              "<table border=\"1\" class=\"dataframe\">\n",
              "  <thead>\n",
              "    <tr style=\"text-align: right;\">\n",
              "      <th></th>\n",
              "      <th>Unnamed: 0</th>\n",
              "      <th>review_id</th>\n",
              "      <th>stars</th>\n",
              "      <th>useful</th>\n",
              "      <th>funny</th>\n",
              "      <th>cool</th>\n",
              "      <th>text</th>\n",
              "      <th>user_useful</th>\n",
              "      <th>user_funny</th>\n",
              "      <th>user_cool</th>\n",
              "      <th>Label</th>\n",
              "      <th>preprocessed_text</th>\n",
              "      <th>str_Label</th>\n",
              "    </tr>\n",
              "  </thead>\n",
              "  <tbody>\n",
              "    <tr>\n",
              "      <th>293792</th>\n",
              "      <td>293792</td>\n",
              "      <td>KQo_f4KPNB3JwCsUL1NaIw</td>\n",
              "      <td>1</td>\n",
              "      <td>2</td>\n",
              "      <td>0</td>\n",
              "      <td>0</td>\n",
              "      <td>First time dinning experience at this pub. We ...</td>\n",
              "      <td>0.743902</td>\n",
              "      <td>0.121951</td>\n",
              "      <td>0.134146</td>\n",
              "      <td>1</td>\n",
              "      <td>first time din experi pub beer soup flat bread...</td>\n",
              "      <td>useful</td>\n",
              "    </tr>\n",
              "    <tr>\n",
              "      <th>362225</th>\n",
              "      <td>362225</td>\n",
              "      <td>fJsYQ4JPD0PaUPp2blcC6w</td>\n",
              "      <td>5</td>\n",
              "      <td>1</td>\n",
              "      <td>0</td>\n",
              "      <td>0</td>\n",
              "      <td>I've been taking my vehicles to Vinney's for y...</td>\n",
              "      <td>0.782609</td>\n",
              "      <td>0.130435</td>\n",
              "      <td>0.086957</td>\n",
              "      <td>1</td>\n",
              "      <td>ive take vehicl vinney year even though vinney...</td>\n",
              "      <td>useful</td>\n",
              "    </tr>\n",
              "    <tr>\n",
              "      <th>320644</th>\n",
              "      <td>320644</td>\n",
              "      <td>8MaGuM43VJdtXrevy0yy0Q</td>\n",
              "      <td>4</td>\n",
              "      <td>1</td>\n",
              "      <td>0</td>\n",
              "      <td>0</td>\n",
              "      <td>Wonderful food at a good price \\n\\nRestaurant....</td>\n",
              "      <td>0.606695</td>\n",
              "      <td>0.117155</td>\n",
              "      <td>0.276151</td>\n",
              "      <td>1</td>\n",
              "      <td>wonder food good price restaurantcom made us t...</td>\n",
              "      <td>useful</td>\n",
              "    </tr>\n",
              "    <tr>\n",
              "      <th>1071431</th>\n",
              "      <td>1071431</td>\n",
              "      <td>EIURxeCKMqjyF3dwmegJ6Q</td>\n",
              "      <td>5</td>\n",
              "      <td>1</td>\n",
              "      <td>0</td>\n",
              "      <td>0</td>\n",
              "      <td>Awesome place\\nEverything was great service an...</td>\n",
              "      <td>1.000000</td>\n",
              "      <td>0.000000</td>\n",
              "      <td>0.000000</td>\n",
              "      <td>1</td>\n",
              "      <td>awesom place everyth great servic food escargo...</td>\n",
              "      <td>useful</td>\n",
              "    </tr>\n",
              "    <tr>\n",
              "      <th>705302</th>\n",
              "      <td>705302</td>\n",
              "      <td>Ar2FS6q9bk4dKSRrMaJKqg</td>\n",
              "      <td>5</td>\n",
              "      <td>1</td>\n",
              "      <td>0</td>\n",
              "      <td>0</td>\n",
              "      <td>Very professional and polite staff. Will be ba...</td>\n",
              "      <td>0.750000</td>\n",
              "      <td>0.000000</td>\n",
              "      <td>0.250000</td>\n",
              "      <td>1</td>\n",
              "      <td>profession polit staff back visit need medic a...</td>\n",
              "      <td>useful</td>\n",
              "    </tr>\n",
              "  </tbody>\n",
              "</table>\n",
              "</div>\n",
              "      <button class=\"colab-df-convert\" onclick=\"convertToInteractive('df-d1c14af9-4d46-4137-bcd9-82cc178cec8e')\"\n",
              "              title=\"Convert this dataframe to an interactive table.\"\n",
              "              style=\"display:none;\">\n",
              "        \n",
              "  <svg xmlns=\"http://www.w3.org/2000/svg\" height=\"24px\"viewBox=\"0 0 24 24\"\n",
              "       width=\"24px\">\n",
              "    <path d=\"M0 0h24v24H0V0z\" fill=\"none\"/>\n",
              "    <path d=\"M18.56 5.44l.94 2.06.94-2.06 2.06-.94-2.06-.94-.94-2.06-.94 2.06-2.06.94zm-11 1L8.5 8.5l.94-2.06 2.06-.94-2.06-.94L8.5 2.5l-.94 2.06-2.06.94zm10 10l.94 2.06.94-2.06 2.06-.94-2.06-.94-.94-2.06-.94 2.06-2.06.94z\"/><path d=\"M17.41 7.96l-1.37-1.37c-.4-.4-.92-.59-1.43-.59-.52 0-1.04.2-1.43.59L10.3 9.45l-7.72 7.72c-.78.78-.78 2.05 0 2.83L4 21.41c.39.39.9.59 1.41.59.51 0 1.02-.2 1.41-.59l7.78-7.78 2.81-2.81c.8-.78.8-2.07 0-2.86zM5.41 20L4 18.59l7.72-7.72 1.47 1.35L5.41 20z\"/>\n",
              "  </svg>\n",
              "      </button>\n",
              "      \n",
              "  <style>\n",
              "    .colab-df-container {\n",
              "      display:flex;\n",
              "      flex-wrap:wrap;\n",
              "      gap: 12px;\n",
              "    }\n",
              "\n",
              "    .colab-df-convert {\n",
              "      background-color: #E8F0FE;\n",
              "      border: none;\n",
              "      border-radius: 50%;\n",
              "      cursor: pointer;\n",
              "      display: none;\n",
              "      fill: #1967D2;\n",
              "      height: 32px;\n",
              "      padding: 0 0 0 0;\n",
              "      width: 32px;\n",
              "    }\n",
              "\n",
              "    .colab-df-convert:hover {\n",
              "      background-color: #E2EBFA;\n",
              "      box-shadow: 0px 1px 2px rgba(60, 64, 67, 0.3), 0px 1px 3px 1px rgba(60, 64, 67, 0.15);\n",
              "      fill: #174EA6;\n",
              "    }\n",
              "\n",
              "    [theme=dark] .colab-df-convert {\n",
              "      background-color: #3B4455;\n",
              "      fill: #D2E3FC;\n",
              "    }\n",
              "\n",
              "    [theme=dark] .colab-df-convert:hover {\n",
              "      background-color: #434B5C;\n",
              "      box-shadow: 0px 1px 3px 1px rgba(0, 0, 0, 0.15);\n",
              "      filter: drop-shadow(0px 1px 2px rgba(0, 0, 0, 0.3));\n",
              "      fill: #FFFFFF;\n",
              "    }\n",
              "  </style>\n",
              "\n",
              "      <script>\n",
              "        const buttonEl =\n",
              "          document.querySelector('#df-d1c14af9-4d46-4137-bcd9-82cc178cec8e button.colab-df-convert');\n",
              "        buttonEl.style.display =\n",
              "          google.colab.kernel.accessAllowed ? 'block' : 'none';\n",
              "\n",
              "        async function convertToInteractive(key) {\n",
              "          const element = document.querySelector('#df-d1c14af9-4d46-4137-bcd9-82cc178cec8e');\n",
              "          const dataTable =\n",
              "            await google.colab.kernel.invokeFunction('convertToInteractive',\n",
              "                                                     [key], {});\n",
              "          if (!dataTable) return;\n",
              "\n",
              "          const docLinkHtml = 'Like what you see? Visit the ' +\n",
              "            '<a target=\"_blank\" href=https://colab.research.google.com/notebooks/data_table.ipynb>data table notebook</a>'\n",
              "            + ' to learn more about interactive tables.';\n",
              "          element.innerHTML = '';\n",
              "          dataTable['output_type'] = 'display_data';\n",
              "          await google.colab.output.renderOutput(dataTable, element);\n",
              "          const docLink = document.createElement('div');\n",
              "          docLink.innerHTML = docLinkHtml;\n",
              "          element.appendChild(docLink);\n",
              "        }\n",
              "      </script>\n",
              "    </div>\n",
              "  </div>\n",
              "  "
            ]
          },
          "metadata": {},
          "execution_count": 38
        }
      ]
    },
    {
      "cell_type": "markdown",
      "source": [
        "Splitting dataframe into test and train"
      ],
      "metadata": {
        "id": "LQUoy1E9Fexr"
      }
    },
    {
      "cell_type": "code",
      "source": [
        "!pip install gensim --upgrade"
      ],
      "metadata": {
        "colab": {
          "base_uri": "https://localhost:8080/"
        },
        "id": "gKPSVkFxM4ZN",
        "outputId": "34fe0e63-d41c-428e-bfb7-54e5703f753b"
      },
      "execution_count": 39,
      "outputs": [
        {
          "output_type": "stream",
          "name": "stdout",
          "text": [
            "Looking in indexes: https://pypi.org/simple, https://us-python.pkg.dev/colab-wheels/public/simple/\n",
            "Requirement already satisfied: gensim in /usr/local/lib/python3.8/dist-packages (3.6.0)\n",
            "Collecting gensim\n",
            "  Downloading gensim-4.2.0-cp38-cp38-manylinux_2_12_x86_64.manylinux2010_x86_64.whl (24.1 MB)\n",
            "\u001b[K     |████████████████████████████████| 24.1 MB 5.5 MB/s \n",
            "\u001b[?25hRequirement already satisfied: numpy>=1.17.0 in /usr/local/lib/python3.8/dist-packages (from gensim) (1.21.6)\n",
            "Requirement already satisfied: smart-open>=1.8.1 in /usr/local/lib/python3.8/dist-packages (from gensim) (5.2.1)\n",
            "Requirement already satisfied: scipy>=0.18.1 in /usr/local/lib/python3.8/dist-packages (from gensim) (1.7.3)\n",
            "Installing collected packages: gensim\n",
            "  Attempting uninstall: gensim\n",
            "    Found existing installation: gensim 3.6.0\n",
            "    Uninstalling gensim-3.6.0:\n",
            "      Successfully uninstalled gensim-3.6.0\n",
            "Successfully installed gensim-4.2.0\n"
          ]
        }
      ]
    },
    {
      "cell_type": "code",
      "source": [
        "data_txt_label = data_downsampled[['preprocessed_text', 'str_Label']]\n",
        "train, test = train_test_split(data_txt_label, test_size=0.2, random_state=42, shuffle=True)"
      ],
      "metadata": {
        "id": "-yUK48Xhz_mK"
      },
      "execution_count": 40,
      "outputs": []
    },
    {
      "cell_type": "code",
      "source": [
        "# Building one hot encode labels for both train and test data\n",
        "\n",
        "# Train Data Labels\n",
        "train[\"str_Label\"] = train[\"str_Label\"].astype('category')\n",
        "train[\"enc_label\"] = train[\"str_Label\"].cat.codes\n",
        "train_features, train_labels = train['preprocessed_text'], tf.one_hot(train[\"enc_label\"], 4)\n",
        "\n",
        "# Test Data Labels\n",
        "test[\"str_Label\"] = test[\"str_Label\"].astype('category')\n",
        "test[\"enc_label\"] = test[\"str_Label\"].cat.codes\n",
        "test_features, test_labels = test['preprocessed_text'], tf.one_hot(test[\"enc_label\"], 4)"
      ],
      "metadata": {
        "id": "CHMG0AEoHjPq"
      },
      "execution_count": 41,
      "outputs": []
    },
    {
      "cell_type": "code",
      "source": [
        "# Tokenizing the text\n",
        "from nltk.tokenize import word_tokenize\n",
        "\n",
        "tokenized_train_features = [word_tokenize(train_text) for train_text in train_features]\n",
        "tokenized_test_features = [word_tokenize(test_text) for test_text in test_features]"
      ],
      "metadata": {
        "id": "M45JuHKbIwlw"
      },
      "execution_count": 42,
      "outputs": []
    },
    {
      "cell_type": "code",
      "source": [
        "# Generating the embedding for the training data with word2vec\n",
        "from gensim.models import word2vec\n",
        "\n",
        "w2v_model = word2vec.Word2Vec(tokenized_train_features, vector_size=300,  # Dimensionality of the word vectors\n",
        "                              window=20, min_count=10, sg=1  # 1 for skip-gram\n",
        "                              )"
      ],
      "metadata": {
        "id": "6V4N0G8QJa8i"
      },
      "execution_count": 43,
      "outputs": []
    },
    {
      "cell_type": "code",
      "source": [
        "# Comparing the Out of Vocabulary words from the test data by using the vocabulary used to train the Word2Vec model\n",
        "\n",
        "vocab_list = list(w2v_model.wv.key_to_index.keys()) #list of keys of the train vocabulary index2word"
      ],
      "metadata": {
        "id": "ht5MuQFbLbLi"
      },
      "execution_count": 44,
      "outputs": []
    },
    {
      "cell_type": "code",
      "source": [
        "# This function compares each token to the vocabulary provided and eliminates the ones that are out of vocabulary\n",
        "\n",
        "def remove_OOV_vocab(sample: list, list_vocab):\n",
        "    vocab_sample = []\n",
        "    for token in sample:\n",
        "        if token in list_vocab:\n",
        "            vocab_sample.append(token)\n",
        "    return vocab_sample"
      ],
      "metadata": {
        "id": "LRlAVB5zL0FN"
      },
      "execution_count": 45,
      "outputs": []
    },
    {
      "cell_type": "code",
      "source": [
        "# Applying the function to the tokenized test features\n",
        "\n",
        "tokenized_test_features = [remove_OOV_vocab(test_sample, vocab_list) for test_sample in tokenized_test_features]"
      ],
      "metadata": {
        "id": "EigN5sknL1OO"
      },
      "execution_count": 46,
      "outputs": []
    },
    {
      "cell_type": "code",
      "source": [
        "# Generating the embedding matrix\n",
        "\n",
        "vocab = w2v_model.wv.key_to_index.keys() # index2word\n",
        "embedding_matrix = w2v_model.wv[vocab]"
      ],
      "metadata": {
        "id": "SERWqzYBQs-c"
      },
      "execution_count": 47,
      "outputs": []
    },
    {
      "cell_type": "code",
      "source": [
        "len(vocab)"
      ],
      "metadata": {
        "colab": {
          "base_uri": "https://localhost:8080/"
        },
        "id": "djBCvRP1U6AG",
        "outputId": "e544c7d2-c512-4a15-98b3-83619cee0cb7"
      },
      "execution_count": 48,
      "outputs": [
        {
          "output_type": "execute_result",
          "data": {
            "text/plain": [
              "16974"
            ]
          },
          "metadata": {},
          "execution_count": 48
        }
      ]
    },
    {
      "cell_type": "code",
      "source": [
        "# Preparing the train and test data to pass to the model\n",
        "\n",
        "max_seq_len = 50 # max size of the sequences\n",
        "\n",
        "def w2v_indexed_token_sequences(w2v_model, list_features):\n",
        "    indexed_features = []\n",
        "    for seq in list_features:\n",
        "        list_token_indices = []\n",
        "        for token in seq:\n",
        "            try:\n",
        "                list_token_indices.append(w2v_model.wv.key_to_index[token])     #vocab[token].index)\n",
        "            except KeyError as e:\n",
        "                continue\n",
        "        indexed_features.append(list_token_indices)\n",
        "    return indexed_features"
      ],
      "metadata": {
        "id": "ycqmjxPbQ9rm"
      },
      "execution_count": 49,
      "outputs": []
    },
    {
      "cell_type": "code",
      "source": [
        "# Indexing the training and test features, padding at the end \n",
        " \n",
        "indexed_train_features = w2v_indexed_token_sequences(w2v_model, tokenized_train_features)\n",
        "indexed_test_features = w2v_indexed_token_sequences(w2v_model, tokenized_test_features)\n",
        "\n",
        "padded_train = pad_sequences(indexed_train_features, padding = 'post', maxlen=max_seq_len, truncating='post')\n",
        "padded_test = pad_sequences(indexed_test_features, padding = 'post', maxlen=max_seq_len, truncating='post')\n"
      ],
      "metadata": {
        "id": "wZ4TXhUfToSu"
      },
      "execution_count": 50,
      "outputs": []
    },
    {
      "cell_type": "code",
      "source": [
        "# Creating the model \n",
        "\n",
        "model = Sequential()\n",
        "model.add(Embedding(input_dim=16974, output_dim=300,\n",
        "                    weights=[embedding_matrix],\n",
        "                    input_length=max_seq_len))\n",
        "model.add(Dropout(0.6))\n",
        "model.add(LSTM(max_seq_len,return_sequences=True))\n",
        "model.add(LSTM(4))\n",
        "model.add(Dense(4,activation='softmax'))\n",
        "\n",
        "model.summary()"
      ],
      "metadata": {
        "colab": {
          "base_uri": "https://localhost:8080/"
        },
        "id": "_SEWouwzUEip",
        "outputId": "8f60ae2b-64ea-4f16-9e96-c5d997d8de0a"
      },
      "execution_count": 52,
      "outputs": [
        {
          "output_type": "stream",
          "name": "stdout",
          "text": [
            "Model: \"sequential_1\"\n",
            "_________________________________________________________________\n",
            " Layer (type)                Output Shape              Param #   \n",
            "=================================================================\n",
            " embedding_1 (Embedding)     (None, 50, 300)           5092200   \n",
            "                                                                 \n",
            " dropout (Dropout)           (None, 50, 300)           0         \n",
            "                                                                 \n",
            " lstm (LSTM)                 (None, 50, 50)            70200     \n",
            "                                                                 \n",
            " lstm_1 (LSTM)               (None, 4)                 880       \n",
            "                                                                 \n",
            " dense (Dense)               (None, 4)                 20        \n",
            "                                                                 \n",
            "=================================================================\n",
            "Total params: 5,163,300\n",
            "Trainable params: 5,163,300\n",
            "Non-trainable params: 0\n",
            "_________________________________________________________________\n"
          ]
        }
      ]
    },
    {
      "cell_type": "code",
      "source": [
        "# Adding callbacks for best model checkpoint\n",
        "\n",
        "callbacks = [keras.callbacks.EarlyStopping(monitor=\"val_loss\",\n",
        "                                           patience=2, verbose=1,\n",
        "                                           restore_best_weights=True),\n",
        "             keras.callbacks.ModelCheckpoint(filepath='/content/drive/MyDrive/try2_lstm_with_w2v.hdf5',\n",
        "                                             verbose=1,save_best_only=True)]"
      ],
      "metadata": {
        "id": "Wq98LB5jVbOU"
      },
      "execution_count": 54,
      "outputs": []
    },
    {
      "cell_type": "code",
      "source": [
        "# Compiling the model\n",
        "\n",
        "model.compile(optimizer='adam',loss='categorical_crossentropy', metrics=['accuracy'])\n",
        "tf.config.run_functions_eagerly(True)"
      ],
      "metadata": {
        "id": "ihhORnvLWBsr"
      },
      "execution_count": 55,
      "outputs": []
    },
    {
      "cell_type": "code",
      "source": [
        "# storing model training details to analyze later\n",
        "history = model.fit(padded_train, train_labels, validation_split=0.2,\n",
        "                    callbacks=callbacks, epochs=10)"
      ],
      "metadata": {
        "colab": {
          "base_uri": "https://localhost:8080/"
        },
        "id": "VlEFuzraWMt3",
        "outputId": "90e5fd13-f997-4749-fafe-026624dcf4e6"
      },
      "execution_count": 56,
      "outputs": [
        {
          "output_type": "stream",
          "name": "stderr",
          "text": [
            "/usr/local/lib/python3.8/dist-packages/tensorflow/python/data/ops/structured_function.py:264: UserWarning: Even though the `tf.config.experimental_run_functions_eagerly` option is set, this option does not apply to tf.data functions. To force eager execution of tf.data functions, please use `tf.data.experimental.enable_debug_mode()`.\n",
            "  warnings.warn(\n"
          ]
        },
        {
          "output_type": "stream",
          "name": "stdout",
          "text": [
            "Epoch 1/10\n",
            "3900/3900 [==============================] - ETA: 0s - loss: 1.3199 - accuracy: 0.3628\n",
            "Epoch 1: val_loss improved from inf to 1.28024, saving model to /content/drive/MyDrive/try2_lstm_with_w2v.hdf5\n",
            "3900/3900 [==============================] - 152s 38ms/step - loss: 1.3199 - accuracy: 0.3628 - val_loss: 1.2802 - val_accuracy: 0.4022\n",
            "Epoch 2/10\n",
            "3900/3900 [==============================] - ETA: 0s - loss: 1.2572 - accuracy: 0.4191\n",
            "Epoch 2: val_loss improved from 1.28024 to 1.26823, saving model to /content/drive/MyDrive/try2_lstm_with_w2v.hdf5\n",
            "3900/3900 [==============================] - 155s 40ms/step - loss: 1.2572 - accuracy: 0.4191 - val_loss: 1.2682 - val_accuracy: 0.4109\n",
            "Epoch 3/10\n",
            "3900/3900 [==============================] - ETA: 0s - loss: 1.2156 - accuracy: 0.4496\n",
            "Epoch 3: val_loss did not improve from 1.26823\n",
            "3900/3900 [==============================] - 147s 38ms/step - loss: 1.2156 - accuracy: 0.4496 - val_loss: 1.2785 - val_accuracy: 0.4103\n",
            "Epoch 4/10\n",
            "3900/3900 [==============================] - ETA: 0s - loss: 1.1692 - accuracy: 0.4818Restoring model weights from the end of the best epoch: 2.\n",
            "\n",
            "Epoch 4: val_loss did not improve from 1.26823\n",
            "3900/3900 [==============================] - 143s 37ms/step - loss: 1.1692 - accuracy: 0.4818 - val_loss: 1.2931 - val_accuracy: 0.4078\n",
            "Epoch 4: early stopping\n"
          ]
        }
      ]
    },
    {
      "cell_type": "code",
      "source": [
        "# Showing the training metrics\n",
        "import matplotlib.pyplot as plt\n",
        "\n",
        "fig, ax = plt.subplots(figsize=(10,8))\n",
        "plt.plot(history.history['accuracy'])\n",
        "plt.plot(history.history['val_accuracy'])\n",
        "plt.title('Model Accuracy')\n",
        "plt.ylabel('Accuracy')\n",
        "plt.xlabel('Epoch')\n",
        "plt.legend(['Accuracy','Val Accuracy'])\n",
        "plt.show()"
      ],
      "metadata": {
        "colab": {
          "base_uri": "https://localhost:8080/",
          "height": 0
        },
        "id": "yZkRMFJgX9oP",
        "outputId": "71770072-d872-42f5-ec7d-bbae98f3aa2b"
      },
      "execution_count": 57,
      "outputs": [
        {
          "output_type": "display_data",
          "data": {
            "text/plain": [
              "<Figure size 720x576 with 1 Axes>"
            ],
            "image/png": "[encoded data removed]"
          },
          "metadata": {}
        }
      ]
    },
    {
      "cell_type": "code",
      "source": [
        "fig, ax = plt.subplots(figsize=(10,8))\n",
        "plt.plot(history.history['loss'])\n",
        "plt.plot(history.history['val_loss'])\n",
        "plt.title('Model Loss')\n",
        "plt.ylabel('Loss')\n",
        "plt.xlabel('Epoch')\n",
        "plt.legend(['Loss','Val Loss'])\n",
        "plt.show()"
      ],
      "metadata": {
        "colab": {
          "base_uri": "https://localhost:8080/",
          "height": 0
        },
        "id": "ceneTp1uYn0c",
        "outputId": "2433fd9c-9a61-404e-a3e7-7027606d73cc"
      },
      "execution_count": 58,
      "outputs": [
        {
          "output_type": "display_data",
          "data": {
            "text/plain": [
              "<Figure size 720x576 with 1 Axes>"
            ],
            "image/png": "[encoded data removed]"
          },
          "metadata": {}
        }
      ]
    },
    {
      "cell_type": "code",
      "source": [
        "# Model Evaluation\n",
        "\n",
        "model_with_w2v = keras.models.load_model('/content/drive/MyDrive/try2_lstm_with_w2v.hdf5')\n",
        "y_pred_one_hot_encoded = (model_with_w2v.predict(padded_train)> 0.5).astype(\"int32\")\n",
        "\n",
        "# Decoding the one-hot enc\n",
        "y_pred_train = np.array(tf.argmax(y_pred_one_hot_encoded, axis=1))\n",
        "\n",
        "# Same procedure for the test set\n",
        "y_pred_one_hot_encoded = (model_with_w2v.predict(padded_test)> 0.5).astype(\"int32\")\n",
        "y_pred_test = np.array(tf.argmax(y_pred_one_hot_encoded, axis=1))"
      ],
      "metadata": {
        "colab": {
          "base_uri": "https://localhost:8080/"
        },
        "id": "b2V6fsJrbqk1",
        "outputId": "5b87deff-8ec1-4059-f569-b67480d8fce3"
      },
      "execution_count": 60,
      "outputs": [
        {
          "output_type": "stream",
          "name": "stdout",
          "text": [
            "4874/4874 [==============================] - 53s 11ms/step\n",
            "1219/1219 [==============================] - 12s 10ms/step\n"
          ]
        }
      ]
    },
    {
      "cell_type": "code",
      "source": [
        "from sklearn.metrics import classification_report\n",
        "\n",
        "# Metrics for the training set\n",
        "print(classification_report(train['enc_label'], y_pred_train))"
      ],
      "metadata": {
        "colab": {
          "base_uri": "https://localhost:8080/"
        },
        "id": "aAlt710McndX",
        "outputId": "bf9d3e18-1b42-4145-e4e6-24af01428d12"
      },
      "execution_count": 61,
      "outputs": [
        {
          "output_type": "stream",
          "name": "stdout",
          "text": [
            "              precision    recall  f1-score   support\n",
            "\n",
            "           0       0.29      0.96      0.45     38974\n",
            "           1       0.00      0.00      0.00     39114\n",
            "           2       0.64      0.36      0.46     38889\n",
            "           3       0.60      0.09      0.15     38991\n",
            "\n",
            "    accuracy                           0.35    155968\n",
            "   macro avg       0.38      0.35      0.26    155968\n",
            "weighted avg       0.38      0.35      0.26    155968\n",
            "\n"
          ]
        },
        {
          "output_type": "stream",
          "name": "stderr",
          "text": [
            "/usr/local/lib/python3.8/dist-packages/sklearn/metrics/_classification.py:1318: UndefinedMetricWarning: Precision and F-score are ill-defined and being set to 0.0 in labels with no predicted samples. Use `zero_division` parameter to control this behavior.\n",
            "  _warn_prf(average, modifier, msg_start, len(result))\n",
            "/usr/local/lib/python3.8/dist-packages/sklearn/metrics/_classification.py:1318: UndefinedMetricWarning: Precision and F-score are ill-defined and being set to 0.0 in labels with no predicted samples. Use `zero_division` parameter to control this behavior.\n",
            "  _warn_prf(average, modifier, msg_start, len(result))\n",
            "/usr/local/lib/python3.8/dist-packages/sklearn/metrics/_classification.py:1318: UndefinedMetricWarning: Precision and F-score are ill-defined and being set to 0.0 in labels with no predicted samples. Use `zero_division` parameter to control this behavior.\n",
            "  _warn_prf(average, modifier, msg_start, len(result))\n"
          ]
        }
      ]
    },
    {
      "cell_type": "code",
      "source": [
        "# Metrics for the test set\n",
        "print(classification_report(test['enc_label'], y_pred_test))"
      ],
      "metadata": {
        "colab": {
          "base_uri": "https://localhost:8080/"
        },
        "id": "w0BOqNGacto1",
        "outputId": "f8230589-5cd3-4936-eab7-4ce9401c48f7"
      },
      "execution_count": 62,
      "outputs": [
        {
          "output_type": "stream",
          "name": "stdout",
          "text": [
            "              precision    recall  f1-score   support\n",
            "\n",
            "           0       0.29      0.95      0.44      9766\n",
            "           1       0.00      0.00      0.00      9626\n",
            "           2       0.57      0.30      0.39      9851\n",
            "           3       0.52      0.07      0.13      9749\n",
            "\n",
            "    accuracy                           0.33     38992\n",
            "   macro avg       0.34      0.33      0.24     38992\n",
            "weighted avg       0.34      0.33      0.24     38992\n",
            "\n"
          ]
        },
        {
          "output_type": "stream",
          "name": "stderr",
          "text": [
            "/usr/local/lib/python3.8/dist-packages/sklearn/metrics/_classification.py:1318: UndefinedMetricWarning: Precision and F-score are ill-defined and being set to 0.0 in labels with no predicted samples. Use `zero_division` parameter to control this behavior.\n",
            "  _warn_prf(average, modifier, msg_start, len(result))\n",
            "/usr/local/lib/python3.8/dist-packages/sklearn/metrics/_classification.py:1318: UndefinedMetricWarning: Precision and F-score are ill-defined and being set to 0.0 in labels with no predicted samples. Use `zero_division` parameter to control this behavior.\n",
            "  _warn_prf(average, modifier, msg_start, len(result))\n",
            "/usr/local/lib/python3.8/dist-packages/sklearn/metrics/_classification.py:1318: UndefinedMetricWarning: Precision and F-score are ill-defined and being set to 0.0 in labels with no predicted samples. Use `zero_division` parameter to control this behavior.\n",
            "  _warn_prf(average, modifier, msg_start, len(result))\n"
          ]
        }
      ]
    },
    {
      "cell_type": "code",
      "source": [
        "# Test metrics\n",
        "\n",
        "print('F1 score:', f1_score(test['enc_label'], y_pred_test, average = 'weighted'))\n",
        "print('Accuracy: ', accuracy_score(test['enc_label'], y_pred_test))\n",
        "print('Precision:', precision_score(test['enc_label'], y_pred_test, average = 'weighted', zero_division=0))\n",
        "print('Recall:', recall_score(test['enc_label'], y_pred_test, average='weighted'))"
      ],
      "metadata": {
        "colab": {
          "base_uri": "https://localhost:8080/"
        },
        "id": "S438chCBQAUO",
        "outputId": "1eb67698-3a53-44be-dea4-daca0e0c5d32"
      },
      "execution_count": 64,
      "outputs": [
        {
          "output_type": "stream",
          "name": "stdout",
          "text": [
            "F1 score: 0.240689680451381\n",
            "Accuracy:  0.3313243742306114\n",
            "Precision: 0.343854363697714\n",
            "Recall: 0.3313243742306114\n"
          ]
        }
      ]
    }
  ]
}